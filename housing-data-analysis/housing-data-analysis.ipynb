{
 "cells": [
  {
   "cell_type": "markdown",
   "id": "da48aac2",
   "metadata": {},
   "source": [
    "# california housing data analysis"
   ]
  },
  {
   "cell_type": "markdown",
   "id": "b7182d4c",
   "metadata": {},
   "source": [
    "# dataset description"
   ]
  },
  {
   "cell_type": "raw",
   "id": "5556db44",
   "metadata": {},
   "source": [
    "The California Housing Dataset is a dataset containing information about housing prices in California, based on various features related to the characteristics of housing and demographic factors in different geographic locations (block groups).\n",
    "\n",
    "This dataset is often used for regression tasks, where the goal is to predict a continuous target variable, which in this case is the median house value."
   ]
  },
  {
   "cell_type": "markdown",
   "id": "af516bf5",
   "metadata": {},
   "source": [
    "# Dataset Overview:"
   ]
  },
  {
   "cell_type": "raw",
   "id": "819278a9",
   "metadata": {},
   "source": [
    "Dataset Overview:\n",
    "\n",
    "Number of Samples: 20,640\n",
    "Number of Features: 8 (including both numeric features and target variable)\n",
    "Target Variable: Median house value (continuous) predictive variable \n",
    "Features: There are 8 features that describe various characteristics of the geographic area. These features are related to housing, population, income, and location data."
   ]
  },
  {
   "cell_type": "markdown",
   "id": "8aafae69",
   "metadata": {},
   "source": [
    "# Features:"
   ]
  },
  {
   "cell_type": "raw",
   "id": "b8a0ddca",
   "metadata": {},
   "source": [
    "Features:\n",
    "Here’s an explanation of each feature in the dataset:\n",
    "\n",
    "MedInc (Median Income):\n",
    "Description: This feature represents the median income (in thousands of dollars) of the residents in a block group.\n",
    "Range: Typically ranges from $1,000 to over $10,000 (in thousands of dollars).\n",
    "Impact on Target: Higher income levels in an area often correlate with higher house prices.\n",
    "\n",
    "HouseAge (Median House Age):\n",
    "Description: This feature represents the median age of houses in the block group.\n",
    "Range: Values range from 1 year to over 50 years, with many houses being several decades old.\n",
    "Impact on Target: Older houses might have lower value, although new houses can also have higher prices based on amenities, area, and development status.\n",
    "\n",
    "AveRooms (Average Number of Rooms per Household):\n",
    "Description: This feature represents the average number of rooms per household in the block group.\n",
    "Range: The average can range from 3 to 7 or more, depending on the neighborhood.\n",
    "Impact on Target: More rooms typically suggest larger homes, which often correlate with higher home values.\n",
    "\n",
    "AveOccup (Average Number of Occupants per Household):\n",
    "Description: This feature represents the average number of people living in each household in the block group.\n",
    "Range: The average number of people per household can range from 2 to 6.\n",
    "Impact on Target: Higher occupancy rates may suggest more crowded or less affluent neighborhoods, which could correlate with lower home prices.\n",
    "\n",
    "Latitude:\n",
    "Description: The latitude of the block group, representing the north-south position in California.\n",
    "Range: Typically ranges from around 32.5 to 37.5 degrees.\n",
    "Impact on Target: Latitude correlates with geographical location, which can impact prices. Coastal areas or areas near major cities tend to have higher home prices.\n",
    "\n",
    "Longitude:\n",
    "Description: The longitude of the block group, representing the east-west position in California.\n",
    "Range: Typically ranges from around -124.5 to -113.5 degrees.\n",
    "Impact on Target: Like latitude, longitude helps to position the block group geographically. Proximity to the coast or urban centers may increase home prices.\n",
    "\n",
    "Population:\n",
    "Description: The total population of the block group.\n",
    "Range: Varies widely based on block group, with values ranging from hundreds to thousands.\n",
    "Impact on Target: Larger populations may indicate urbanized areas, which could correlate with higher demand for housing and thus higher house prices.\n",
    "\n",
    "Households:\n",
    "Description: The total number of households in the block group.\n",
    "Range: Varies based on the block group size and population density.\n",
    "Impact on Target: More households may indicate a more developed or densely populated area, which could have higher house prices."
   ]
  },
  {
   "cell_type": "markdown",
   "id": "5dcb27ef",
   "metadata": {},
   "source": [
    "# Target Variable:"
   ]
  },
  {
   "cell_type": "raw",
   "id": "7792143e",
   "metadata": {},
   "source": [
    "Target Variable:\n",
    "Target Variable: Target (Median House Value)\n",
    "Description: The median house value in thousands of dollars for houses in the block group.\n",
    "Range: Typically ranges from around $20,000 to $500,000 (in thousands of dollars).\n",
    "Impact: This is the value we are trying to predict using the input features. The target variable is highly influenced by other features such as median income, house age, number of rooms, and geographical location."
   ]
  },
  {
   "cell_type": "markdown",
   "id": "684bfca2",
   "metadata": {},
   "source": [
    "# Relationship Between Features and Target Variable:"
   ]
  },
  {
   "cell_type": "raw",
   "id": "b7e4e1bb",
   "metadata": {},
   "source": [
    "Relationship Between Features and Target Variable:\n",
    "The relationship between features and the target variable (house price) can be summarized as follows:\n",
    "\n",
    "MedInc (Median Income): A higher median income usually correlates with higher house prices, as wealthier residents tend to live in more expensive areas.\n",
    "\n",
    "HouseAge (Median House Age): Older houses typically have lower values, but well-maintained or renovated houses in older neighborhoods may not follow this trend.\n",
    "\n",
    "AveRooms (Average Number of Rooms): More rooms generally correlate with larger houses, which are more expensive.\n",
    "\n",
    "AveOccup (Average Number of Occupants): Larger households (more occupants) may correlate with lower-priced homes, as overcrowded areas may not be as desirable for wealthier buyers.\n",
    "\n",
    "Latitude and Longitude: The geographical location is a major determinant of house prices. Coastal areas or those closer to cities like Los Angeles or San Francisco tend to have higher house prices, while areas further inland tend to have lower prices.\n",
    "\n",
    "Population and Households: Areas with higher populations or more households may be urbanized or densely populated, which can lead to higher demand for housing and, consequently, higher prices."
   ]
  },
  {
   "cell_type": "markdown",
   "id": "19ace31e",
   "metadata": {},
   "source": [
    "# Step 1: Data Import and Exploration"
   ]
  },
  {
   "cell_type": "code",
   "execution_count": 1,
   "id": "d7f423c6",
   "metadata": {},
   "outputs": [],
   "source": [
    "# Import necessary libraries\n",
    "import numpy as np\n",
    "import pandas as pd\n",
    "from sklearn.datasets import fetch_california_housing"
   ]
  },
  {
   "cell_type": "code",
   "execution_count": 2,
   "id": "83f6ec54",
   "metadata": {},
   "outputs": [],
   "source": [
    "# Load the California housing dataset\n",
    "data = fetch_california_housing()"
   ]
  },
  {
   "cell_type": "code",
   "execution_count": 3,
   "id": "50dc7ec4",
   "metadata": {},
   "outputs": [
    {
     "data": {
      "text/plain": [
       "{'data': array([[   8.3252    ,   41.        ,    6.98412698, ...,    2.55555556,\n",
       "           37.88      , -122.23      ],\n",
       "        [   8.3014    ,   21.        ,    6.23813708, ...,    2.10984183,\n",
       "           37.86      , -122.22      ],\n",
       "        [   7.2574    ,   52.        ,    8.28813559, ...,    2.80225989,\n",
       "           37.85      , -122.24      ],\n",
       "        ...,\n",
       "        [   1.7       ,   17.        ,    5.20554273, ...,    2.3256351 ,\n",
       "           39.43      , -121.22      ],\n",
       "        [   1.8672    ,   18.        ,    5.32951289, ...,    2.12320917,\n",
       "           39.43      , -121.32      ],\n",
       "        [   2.3886    ,   16.        ,    5.25471698, ...,    2.61698113,\n",
       "           39.37      , -121.24      ]]),\n",
       " 'target': array([4.526, 3.585, 3.521, ..., 0.923, 0.847, 0.894]),\n",
       " 'frame': None,\n",
       " 'target_names': ['MedHouseVal'],\n",
       " 'feature_names': ['MedInc',\n",
       "  'HouseAge',\n",
       "  'AveRooms',\n",
       "  'AveBedrms',\n",
       "  'Population',\n",
       "  'AveOccup',\n",
       "  'Latitude',\n",
       "  'Longitude'],\n",
       " 'DESCR': '.. _california_housing_dataset:\\n\\nCalifornia Housing dataset\\n--------------------------\\n\\n**Data Set Characteristics:**\\n\\n    :Number of Instances: 20640\\n\\n    :Number of Attributes: 8 numeric, predictive attributes and the target\\n\\n    :Attribute Information:\\n        - MedInc        median income in block group\\n        - HouseAge      median house age in block group\\n        - AveRooms      average number of rooms per household\\n        - AveBedrms     average number of bedrooms per household\\n        - Population    block group population\\n        - AveOccup      average number of household members\\n        - Latitude      block group latitude\\n        - Longitude     block group longitude\\n\\n    :Missing Attribute Values: None\\n\\nThis dataset was obtained from the StatLib repository.\\nhttps://www.dcc.fc.up.pt/~ltorgo/Regression/cal_housing.html\\n\\nThe target variable is the median house value for California districts,\\nexpressed in hundreds of thousands of dollars ($100,000).\\n\\nThis dataset was derived from the 1990 U.S. census, using one row per census\\nblock group. A block group is the smallest geographical unit for which the U.S.\\nCensus Bureau publishes sample data (a block group typically has a population\\nof 600 to 3,000 people).\\n\\nA household is a group of people residing within a home. Since the average\\nnumber of rooms and bedrooms in this dataset are provided per household, these\\ncolumns may take surprisingly large values for block groups with few households\\nand many empty houses, such as vacation resorts.\\n\\nIt can be downloaded/loaded using the\\n:func:`sklearn.datasets.fetch_california_housing` function.\\n\\n.. topic:: References\\n\\n    - Pace, R. Kelley and Ronald Barry, Sparse Spatial Autoregressions,\\n      Statistics and Probability Letters, 33 (1997) 291-297\\n'}"
      ]
     },
     "execution_count": 3,
     "metadata": {},
     "output_type": "execute_result"
    }
   ],
   "source": [
    "data"
   ]
  },
  {
   "cell_type": "code",
   "execution_count": 4,
   "id": "e7cb7375",
   "metadata": {},
   "outputs": [],
   "source": [
    "# Convert the data into a pandas DataFrame for easier exploration\n",
    "df = pd.DataFrame(data.data, columns=data.feature_names)\n",
    "df['Target'] = data.target  # Adding target variable (house values)"
   ]
  },
  {
   "cell_type": "raw",
   "id": "aa86b842",
   "metadata": {},
   "source": [
    "pd.DataFrame(data.data, columns=data.feature_names)\n",
    "Converts the numerical data (data.data) into a table format (DataFrame) with column names specified by data.feature_names.\n",
    "Each column represents a feature (e.g., \"Number of Rooms,\" \"Age of the House\"), and each row represents one data point.\n",
    "\n",
    "df['Target'] = data.target\n",
    "Adds a new column called Target to the table.\n",
    "This column contains the target variable (data.target), which is the value we want to predict (e.g., house prices or categories)."
   ]
  },
  {
   "cell_type": "code",
   "execution_count": 6,
   "id": "112585a4",
   "metadata": {},
   "outputs": [
    {
     "data": {
      "text/html": [
       "<div>\n",
       "<style scoped>\n",
       "    .dataframe tbody tr th:only-of-type {\n",
       "        vertical-align: middle;\n",
       "    }\n",
       "\n",
       "    .dataframe tbody tr th {\n",
       "        vertical-align: top;\n",
       "    }\n",
       "\n",
       "    .dataframe thead th {\n",
       "        text-align: right;\n",
       "    }\n",
       "</style>\n",
       "<table border=\"1\" class=\"dataframe\">\n",
       "  <thead>\n",
       "    <tr style=\"text-align: right;\">\n",
       "      <th></th>\n",
       "      <th>MedInc</th>\n",
       "      <th>HouseAge</th>\n",
       "      <th>AveRooms</th>\n",
       "      <th>AveBedrms</th>\n",
       "      <th>Population</th>\n",
       "      <th>AveOccup</th>\n",
       "      <th>Latitude</th>\n",
       "      <th>Longitude</th>\n",
       "      <th>Target</th>\n",
       "    </tr>\n",
       "  </thead>\n",
       "  <tbody>\n",
       "    <tr>\n",
       "      <th>0</th>\n",
       "      <td>8.3252</td>\n",
       "      <td>41.0</td>\n",
       "      <td>6.984127</td>\n",
       "      <td>1.023810</td>\n",
       "      <td>322.0</td>\n",
       "      <td>2.555556</td>\n",
       "      <td>37.88</td>\n",
       "      <td>-122.23</td>\n",
       "      <td>4.526</td>\n",
       "    </tr>\n",
       "    <tr>\n",
       "      <th>1</th>\n",
       "      <td>8.3014</td>\n",
       "      <td>21.0</td>\n",
       "      <td>6.238137</td>\n",
       "      <td>0.971880</td>\n",
       "      <td>2401.0</td>\n",
       "      <td>2.109842</td>\n",
       "      <td>37.86</td>\n",
       "      <td>-122.22</td>\n",
       "      <td>3.585</td>\n",
       "    </tr>\n",
       "    <tr>\n",
       "      <th>2</th>\n",
       "      <td>7.2574</td>\n",
       "      <td>52.0</td>\n",
       "      <td>8.288136</td>\n",
       "      <td>1.073446</td>\n",
       "      <td>496.0</td>\n",
       "      <td>2.802260</td>\n",
       "      <td>37.85</td>\n",
       "      <td>-122.24</td>\n",
       "      <td>3.521</td>\n",
       "    </tr>\n",
       "    <tr>\n",
       "      <th>3</th>\n",
       "      <td>5.6431</td>\n",
       "      <td>52.0</td>\n",
       "      <td>5.817352</td>\n",
       "      <td>1.073059</td>\n",
       "      <td>558.0</td>\n",
       "      <td>2.547945</td>\n",
       "      <td>37.85</td>\n",
       "      <td>-122.25</td>\n",
       "      <td>3.413</td>\n",
       "    </tr>\n",
       "    <tr>\n",
       "      <th>4</th>\n",
       "      <td>3.8462</td>\n",
       "      <td>52.0</td>\n",
       "      <td>6.281853</td>\n",
       "      <td>1.081081</td>\n",
       "      <td>565.0</td>\n",
       "      <td>2.181467</td>\n",
       "      <td>37.85</td>\n",
       "      <td>-122.25</td>\n",
       "      <td>3.422</td>\n",
       "    </tr>\n",
       "  </tbody>\n",
       "</table>\n",
       "</div>"
      ],
      "text/plain": [
       "   MedInc  HouseAge  AveRooms  AveBedrms  Population  AveOccup  Latitude  \\\n",
       "0  8.3252      41.0  6.984127   1.023810       322.0  2.555556     37.88   \n",
       "1  8.3014      21.0  6.238137   0.971880      2401.0  2.109842     37.86   \n",
       "2  7.2574      52.0  8.288136   1.073446       496.0  2.802260     37.85   \n",
       "3  5.6431      52.0  5.817352   1.073059       558.0  2.547945     37.85   \n",
       "4  3.8462      52.0  6.281853   1.081081       565.0  2.181467     37.85   \n",
       "\n",
       "   Longitude  Target  \n",
       "0    -122.23   4.526  \n",
       "1    -122.22   3.585  \n",
       "2    -122.24   3.521  \n",
       "3    -122.25   3.413  \n",
       "4    -122.25   3.422  "
      ]
     },
     "execution_count": 6,
     "metadata": {},
     "output_type": "execute_result"
    }
   ],
   "source": [
    "# Display basic information about the dataset\n",
    "df.head()  # View the first few rows"
   ]
  },
  {
   "cell_type": "code",
   "execution_count": 7,
   "id": "24f0d266",
   "metadata": {},
   "outputs": [
    {
     "name": "stdout",
     "output_type": "stream",
     "text": [
      "<class 'pandas.core.frame.DataFrame'>\n",
      "RangeIndex: 20640 entries, 0 to 20639\n",
      "Data columns (total 9 columns):\n",
      " #   Column      Non-Null Count  Dtype  \n",
      "---  ------      --------------  -----  \n",
      " 0   MedInc      20640 non-null  float64\n",
      " 1   HouseAge    20640 non-null  float64\n",
      " 2   AveRooms    20640 non-null  float64\n",
      " 3   AveBedrms   20640 non-null  float64\n",
      " 4   Population  20640 non-null  float64\n",
      " 5   AveOccup    20640 non-null  float64\n",
      " 6   Latitude    20640 non-null  float64\n",
      " 7   Longitude   20640 non-null  float64\n",
      " 8   Target      20640 non-null  float64\n",
      "dtypes: float64(9)\n",
      "memory usage: 1.4 MB\n",
      "None\n"
     ]
    }
   ],
   "source": [
    "print(df.info())  # Get data types, null values, etc."
   ]
  },
  {
   "cell_type": "code",
   "execution_count": 8,
   "id": "d163d4b7",
   "metadata": {},
   "outputs": [
    {
     "name": "stdout",
     "output_type": "stream",
     "text": [
      "             MedInc      HouseAge      AveRooms     AveBedrms    Population  \\\n",
      "count  20640.000000  20640.000000  20640.000000  20640.000000  20640.000000   \n",
      "mean       3.870671     28.639486      5.429000      1.096675   1425.476744   \n",
      "std        1.899822     12.585558      2.474173      0.473911   1132.462122   \n",
      "min        0.499900      1.000000      0.846154      0.333333      3.000000   \n",
      "25%        2.563400     18.000000      4.440716      1.006079    787.000000   \n",
      "50%        3.534800     29.000000      5.229129      1.048780   1166.000000   \n",
      "75%        4.743250     37.000000      6.052381      1.099526   1725.000000   \n",
      "max       15.000100     52.000000    141.909091     34.066667  35682.000000   \n",
      "\n",
      "           AveOccup      Latitude     Longitude        Target  \n",
      "count  20640.000000  20640.000000  20640.000000  20640.000000  \n",
      "mean       3.070655     35.631861   -119.569704      2.068558  \n",
      "std       10.386050      2.135952      2.003532      1.153956  \n",
      "min        0.692308     32.540000   -124.350000      0.149990  \n",
      "25%        2.429741     33.930000   -121.800000      1.196000  \n",
      "50%        2.818116     34.260000   -118.490000      1.797000  \n",
      "75%        3.282261     37.710000   -118.010000      2.647250  \n",
      "max     1243.333333     41.950000   -114.310000      5.000010  \n"
     ]
    }
   ],
   "source": [
    "print(df.describe())  # Statistical summary of the features"
   ]
  },
  {
   "cell_type": "raw",
   "id": "ca2e30a2",
   "metadata": {},
   "source": [
    "Explanation: what we have done above \n",
    "We load the dataset using fetch_california_housing from sklearn.datasets.\n",
    "The dataset is then converted into a pandas DataFrame for better manipulation and exploration.\n",
    "The df.head() shows the first few rows of the dataset, df.info() provides information on column types and null values, and df.describe() gives a statistical summary of the numerical features."
   ]
  },
  {
   "cell_type": "markdown",
   "id": "68c76083",
   "metadata": {},
   "source": [
    "# Step 2: Data Preprocessing"
   ]
  },
  {
   "cell_type": "raw",
   "id": "97ee21a4",
   "metadata": {},
   "source": [
    "Data preprocessing ensures the data is ready for modeling. This involves handling missing values (if any), scaling numerical features, and encoding categorical variables (if any)."
   ]
  },
  {
   "cell_type": "code",
   "execution_count": 9,
   "id": "cce89e99",
   "metadata": {},
   "outputs": [
    {
     "name": "stdout",
     "output_type": "stream",
     "text": [
      "MedInc        0\n",
      "HouseAge      0\n",
      "AveRooms      0\n",
      "AveBedrms     0\n",
      "Population    0\n",
      "AveOccup      0\n",
      "Latitude      0\n",
      "Longitude     0\n",
      "Target        0\n",
      "dtype: int64\n"
     ]
    }
   ],
   "source": [
    "# Check for missing values\n",
    "print(df.isnull().sum())"
   ]
  },
  {
   "cell_type": "raw",
   "id": "7de8d869",
   "metadata": {},
   "source": [
    "In our case, the California housing dataset does not contain any missing values, so we can skip the imputation process."
   ]
  },
  {
   "cell_type": "markdown",
   "id": "fd3c6db7",
   "metadata": {},
   "source": [
    "# Feature Scaling:"
   ]
  },
  {
   "cell_type": "raw",
   "id": "ee7c99c6",
   "metadata": {},
   "source": [
    "Many regression models (e.g., linear regression, SVM) require features to be scaled. We will scale the features using StandardScaler to have zero mean and unit variance. becuase if mean and variance will increase so model will not give good results we do for removing outliers "
   ]
  },
  {
   "cell_type": "code",
   "execution_count": 10,
   "id": "a10c1ae4",
   "metadata": {},
   "outputs": [],
   "source": [
    "from sklearn.preprocessing import StandardScaler"
   ]
  },
  {
   "cell_type": "code",
   "execution_count": 15,
   "id": "f44b0cd9",
   "metadata": {},
   "outputs": [],
   "source": [
    "# Separating features (X) and target (y)\n",
    "x = df.drop('Target', axis=1)  # Features\n",
    "y = df['Target']  # Target variable (house value)"
   ]
  },
  {
   "cell_type": "code",
   "execution_count": 17,
   "id": "020499f8",
   "metadata": {},
   "outputs": [
    {
     "data": {
      "text/plain": [
       "(20640, 8)"
      ]
     },
     "execution_count": 17,
     "metadata": {},
     "output_type": "execute_result"
    }
   ],
   "source": [
    "x.shape"
   ]
  },
  {
   "cell_type": "code",
   "execution_count": 18,
   "id": "906fc70d",
   "metadata": {},
   "outputs": [
    {
     "data": {
      "text/plain": [
       "(20640,)"
      ]
     },
     "execution_count": 18,
     "metadata": {},
     "output_type": "execute_result"
    }
   ],
   "source": [
    "y.shape"
   ]
  },
  {
   "cell_type": "code",
   "execution_count": 20,
   "id": "82394d6f",
   "metadata": {},
   "outputs": [],
   "source": [
    "# Scaling the features\n",
    "scaler = StandardScaler()\n",
    "x_scaled = scaler.fit_transform(X)"
   ]
  },
  {
   "cell_type": "code",
   "execution_count": 21,
   "id": "0420c6d3",
   "metadata": {},
   "outputs": [
    {
     "name": "stdout",
     "output_type": "stream",
     "text": [
      "[[ 2.34476576  0.98214266  0.62855945 ... -0.04959654  1.05254828\n",
      "  -1.32783522]\n",
      " [ 2.33223796 -0.60701891  0.32704136 ... -0.09251223  1.04318455\n",
      "  -1.32284391]\n",
      " [ 1.7826994   1.85618152  1.15562047 ... -0.02584253  1.03850269\n",
      "  -1.33282653]\n",
      " ...\n",
      " [-1.14259331 -0.92485123 -0.09031802 ... -0.0717345   1.77823747\n",
      "  -0.8237132 ]\n",
      " [-1.05458292 -0.84539315 -0.04021111 ... -0.09122515  1.77823747\n",
      "  -0.87362627]\n",
      " [-0.78012947 -1.00430931 -0.07044252 ... -0.04368215  1.75014627\n",
      "  -0.83369581]]\n"
     ]
    }
   ],
   "source": [
    "print(x_scaled)"
   ]
  },
  {
   "cell_type": "raw",
   "id": "0498e971",
   "metadata": {},
   "source": [
    "Explanation:\n",
    "We separate the features (X) and target (y).\n",
    "We apply StandardScaler to scale the features. This is important for models that are sensitive to the scale of features."
   ]
  },
  {
   "cell_type": "markdown",
   "id": "fe594910",
   "metadata": {},
   "source": [
    "# Step 3: Splitting the Dataset"
   ]
  },
  {
   "cell_type": "raw",
   "id": "5e1d9fdb",
   "metadata": {},
   "source": [
    "Next, we split the dataset into training and testing sets. This helps to evaluate the performance of the model on unseen data.\n",
    "\n",
    "We use train_test_split from sklearn.model_selection to split the dataset into 80% for training and 20% for testing. The random_state=42 ensures that the split is reproducible."
   ]
  },
  {
   "cell_type": "code",
   "execution_count": 22,
   "id": "99dc17a1",
   "metadata": {},
   "outputs": [],
   "source": [
    "from sklearn.model_selection import train_test_split\n",
    "\n",
    "# Split the data into training and testing sets (80% train, 20% test)\n",
    "X_train, X_test, y_train, y_test = train_test_split(X_scaled, y, test_size=0.2, random_state=42)"
   ]
  },
  {
   "cell_type": "markdown",
   "id": "85aeda08",
   "metadata": {},
   "source": [
    "# Step 4: Model Selection and Training"
   ]
  },
  {
   "cell_type": "code",
   "execution_count": 23,
   "id": "3d08bd70",
   "metadata": {},
   "outputs": [],
   "source": [
    "# We will now initialize and train multiple regression models on the training data.\n",
    "# Importing Regression Models:\n",
    "from sklearn.linear_model import LinearRegression, Ridge, Lasso, ElasticNet\n",
    "from sklearn.tree import DecisionTreeRegressor\n",
    "from sklearn.ensemble import RandomForestRegressor, GradientBoostingRegressor\n",
    "from sklearn.svm import SVR"
   ]
  },
  {
   "cell_type": "code",
   "execution_count": 24,
   "id": "cdec9536",
   "metadata": {},
   "outputs": [],
   "source": [
    "# Initialize models\n",
    "models = {\n",
    "    \"Linear Regression\": LinearRegression(),\n",
    "    \"Ridge Regression\": Ridge(),\n",
    "    \"Lasso Regression\": Lasso(),\n",
    "    \"ElasticNet Regression\": ElasticNet(),\n",
    "    \"Decision Tree Regressor\": DecisionTreeRegressor(),\n",
    "    \"Random Forest Regressor\": RandomForestRegressor(),\n",
    "    \"Gradient Boosting Regressor\": GradientBoostingRegressor(),\n",
    "    \"Support Vector Regressor\": SVR()\n",
    "}"
   ]
  },
  {
   "cell_type": "code",
   "execution_count": 25,
   "id": "47c8fc2a",
   "metadata": {},
   "outputs": [],
   "source": [
    "# Train all models and store the trained models\n",
    "trained_models = {}\n",
    "for model_name, model in models.items():\n",
    "    model.fit(X_train, y_train)  # Train the model\n",
    "    trained_models[model_name] = model  # Store the model"
   ]
  },
  {
   "cell_type": "raw",
   "id": "a8adcb00",
   "metadata": {},
   "source": [
    "Explanation:\n",
    "We initialize the regression models (Linear, Ridge, Lasso, ElasticNet, Decision Tree, Random Forest, Gradient Boosting, and SVR) in a dictionary.\n",
    "We then train each model using the training data (X_train, y_train)."
   ]
  },
  {
   "cell_type": "markdown",
   "id": "8bf8d9fa",
   "metadata": {},
   "source": [
    "# Step 5: Model Evaluation"
   ]
  },
  {
   "cell_type": "raw",
   "id": "05f3c12e",
   "metadata": {},
   "source": [
    "After training the models, we evaluate their performance using the Mean Squared Error (MSE) on the test set. MSE measures the average squared difference between the predicted and actual values. Lower MSE indicates better performance."
   ]
  },
  {
   "cell_type": "code",
   "execution_count": 26,
   "id": "2a113f1f",
   "metadata": {},
   "outputs": [],
   "source": [
    "from sklearn.metrics import mean_squared_error\n",
    "\n",
    "# Evaluate each model and store the MSE\n",
    "mse_results = {}\n",
    "for model_name, model in trained_models.items():\n",
    "    y_pred = model.predict(X_test)  # Get predictions on the test set\n",
    "    mse = mean_squared_error(y_test, y_pred)  # Calculate MSE\n",
    "    mse_results[model_name] = mse  # Store MSE"
   ]
  },
  {
   "cell_type": "code",
   "execution_count": 27,
   "id": "95f73ed6",
   "metadata": {},
   "outputs": [
    {
     "data": {
      "text/html": [
       "<div>\n",
       "<style scoped>\n",
       "    .dataframe tbody tr th:only-of-type {\n",
       "        vertical-align: middle;\n",
       "    }\n",
       "\n",
       "    .dataframe tbody tr th {\n",
       "        vertical-align: top;\n",
       "    }\n",
       "\n",
       "    .dataframe thead th {\n",
       "        text-align: right;\n",
       "    }\n",
       "</style>\n",
       "<table border=\"1\" class=\"dataframe\">\n",
       "  <thead>\n",
       "    <tr style=\"text-align: right;\">\n",
       "      <th></th>\n",
       "      <th>Model</th>\n",
       "      <th>MSE</th>\n",
       "    </tr>\n",
       "  </thead>\n",
       "  <tbody>\n",
       "    <tr>\n",
       "      <th>0</th>\n",
       "      <td>Linear Regression</td>\n",
       "      <td>0.555892</td>\n",
       "    </tr>\n",
       "    <tr>\n",
       "      <th>1</th>\n",
       "      <td>Ridge Regression</td>\n",
       "      <td>0.555851</td>\n",
       "    </tr>\n",
       "    <tr>\n",
       "      <th>2</th>\n",
       "      <td>Lasso Regression</td>\n",
       "      <td>1.310696</td>\n",
       "    </tr>\n",
       "    <tr>\n",
       "      <th>3</th>\n",
       "      <td>ElasticNet Regression</td>\n",
       "      <td>1.042981</td>\n",
       "    </tr>\n",
       "    <tr>\n",
       "      <th>4</th>\n",
       "      <td>Decision Tree Regressor</td>\n",
       "      <td>0.490209</td>\n",
       "    </tr>\n",
       "    <tr>\n",
       "      <th>5</th>\n",
       "      <td>Random Forest Regressor</td>\n",
       "      <td>0.256284</td>\n",
       "    </tr>\n",
       "    <tr>\n",
       "      <th>6</th>\n",
       "      <td>Gradient Boosting Regressor</td>\n",
       "      <td>0.294080</td>\n",
       "    </tr>\n",
       "    <tr>\n",
       "      <th>7</th>\n",
       "      <td>Support Vector Regressor</td>\n",
       "      <td>0.355198</td>\n",
       "    </tr>\n",
       "  </tbody>\n",
       "</table>\n",
       "</div>"
      ],
      "text/plain": [
       "                         Model       MSE\n",
       "0            Linear Regression  0.555892\n",
       "1             Ridge Regression  0.555851\n",
       "2             Lasso Regression  1.310696\n",
       "3        ElasticNet Regression  1.042981\n",
       "4      Decision Tree Regressor  0.490209\n",
       "5      Random Forest Regressor  0.256284\n",
       "6  Gradient Boosting Regressor  0.294080\n",
       "7     Support Vector Regressor  0.355198"
      ]
     },
     "execution_count": 27,
     "metadata": {},
     "output_type": "execute_result"
    }
   ],
   "source": [
    "# Display MSE for each model\n",
    "mse_df = pd.DataFrame(mse_results.items(), columns=[\"Model\", \"MSE\"])\n",
    "mse_df"
   ]
  },
  {
   "cell_type": "raw",
   "id": "0062c14d",
   "metadata": {},
   "source": [
    "Explanation:\n",
    "For each model, we predict the house values (y_pred) using the test set (X_test) and calculate the Mean Squared Error (MSE).\n",
    "We store the MSE for each model and display it in a pandas DataFrame for comparison."
   ]
  },
  {
   "cell_type": "markdown",
   "id": "b92f8d94",
   "metadata": {},
   "source": [
    "# Step 6: Model Interpretation"
   ]
  },
  {
   "cell_type": "raw",
   "id": "d3f6606e",
   "metadata": {},
   "source": [
    "Now that we have the MSE for each model, we can compare and interpret the results.\n",
    "\n",
    "Lower MSE is Better: Models with lower MSE perform better at predicting house values.\n",
    "Best Model: The model with the lowest MSE is the best at capturing the relationship between features and the target.\n",
    "Overfitting Risk: Some models like the Decision Tree might have lower MSE on the training data but overfit the data, leading to higher MSE on the test set."
   ]
  },
  {
   "cell_type": "markdown",
   "id": "b6806b71",
   "metadata": {},
   "source": [
    "# Step 7: Conclusions and Recommendations"
   ]
  },
  {
   "cell_type": "raw",
   "id": "033ad0c5",
   "metadata": {},
   "source": [
    "Once you compare the MSE values for each model, you can draw conclusions about which model is best suited for this problem. Here is an example of how you can interpret the results:"
   ]
  },
  {
   "cell_type": "code",
   "execution_count": 28,
   "id": "74cf74c0",
   "metadata": {},
   "outputs": [
    {
     "name": "stdout",
     "output_type": "stream",
     "text": [
      "The best model is Random Forest Regressor with MSE = 0.2563\n"
     ]
    }
   ],
   "source": [
    "# Example of interpreting MSE results\n",
    "best_model_name = mse_df.loc[mse_df[\"MSE\"].idxmin(), \"Model\"]\n",
    "best_model_mse = mse_df.loc[mse_df[\"MSE\"].idxmin(), \"MSE\"]\n",
    "print(f\"The best model is {best_model_name} with MSE = {best_model_mse:.4f}\")"
   ]
  },
  {
   "cell_type": "raw",
   "id": "3f6fb557",
   "metadata": {},
   "source": [
    "Interpretation:\n",
    "Best Model: Based on the MSE values, we would select the model with the lowest MSE as the best performer.\n",
    "\n",
    "If Gradient Boosting Regressor has the lowest MSE, we conclude that it captures the complex non-linear relationships between features and target better than others.\n",
    "Model Selection:\n",
    "\n",
    "If the Decision Tree or Random Forest has a higher MSE, it may be overfitting the data, especially if it performs much better on the training set.\n",
    "Feature Engineering:\n",
    "\n",
    "You may need to experiment with feature selection, feature engineering, or hyperparameter tuning to improve the performance of certain models.\n",
    "Interpretability vs. Performance:\n",
    "\n",
    "While models like Decision Tree or Linear Regression are more interpretable, models like Gradient Boosting or Random Forest are often more powerful at capturing complex patterns but less interpretable."
   ]
  },
  {
   "cell_type": "raw",
   "id": "9e9185bc",
   "metadata": {},
   "source": [
    "Final Thoughts:\n",
    "Gradient Boosting is typically the best choice for capturing complex relationships and providing accurate predictions.\n",
    "Random Forest and Decision Tree provide strong results but might overfit depending on the complexity of the data.\n",
    "Linear models like Linear Regression, Ridge, and Lasso perform well when the relationships in the data are simple and linear."
   ]
  },
  {
   "cell_type": "markdown",
   "id": "48488a3c",
   "metadata": {},
   "source": [
    "# Data Analysis Report on California Housing Dataset"
   ]
  },
  {
   "cell_type": "raw",
   "id": "83c40338",
   "metadata": {},
   "source": [
    "1. Introduction\n",
    "The California Housing dataset contains data about various features of housing and population demographics across California. The goal of this analysis is to understand how these features affect housing prices, as measured by the median house value. We will perform an exploratory analysis, build regression models, and evaluate their performance to extract meaningful insights."
   ]
  },
  {
   "cell_type": "raw",
   "id": "9e39512e",
   "metadata": {},
   "source": [
    "2. Data Overview\n",
    "The dataset consists of 20,640 samples and 8 features, with the target variable being the median house value (Target). The features include both demographic and geographical variables, such as median income, house age, and average number of rooms per household."
   ]
  },
  {
   "cell_type": "raw",
   "id": "12beac14",
   "metadata": {},
   "source": [
    "3. Data Preprocessing and Exploration\n",
    "\n",
    "Missing Values:\n",
    "The dataset contains no missing values, so no imputation was required.\n",
    "\n",
    "Feature Scaling:\n",
    "We applied StandardScaler to scale the features, as many models (e.g., Linear Regression, SVM) are sensitive to the scale of the data.\n",
    "\n",
    "Data Splitting:\n",
    "The dataset was split into training (80%) and testing (20%) sets to ensure proper model evaluation."
   ]
  },
  {
   "cell_type": "raw",
   "id": "52791e9b",
   "metadata": {},
   "source": [
    "4. Model Selection and Evaluation\n",
    "We trained the following regression models on the data:\n",
    "\n",
    "Linear Regression\n",
    "Ridge Regression\n",
    "Lasso Regression\n",
    "ElasticNet Regression\n",
    "Decision Tree Regressor\n",
    "Random Forest Regressor\n",
    "Gradient Boosting Regressor\n",
    "Support Vector Regressor (SVR)\n",
    "\n",
    "Each model was evaluated using Mean Squared Error (MSE) on the test set."
   ]
  },
  {
   "cell_type": "raw",
   "id": "8d6b820f",
   "metadata": {},
   "source": [
    "5. Model Performance and Evaluation\n",
    "Best Model: The Random forest Regressor performed the best, with the lowest MSE (0.2563).\n",
    "Worst Model: The lasso regression performed the worst, with the highest MSE (1.3106). This suggests that lasso did not capture the relationships between the features and the target variable as effectively as other models in this case.\n",
    "Decision Trees performed reasonably well, with MSE values of 0.490209, respectively. These models tend to capture non-linear relationships, which is useful in predicting house prices based on complex interactions between the features."
   ]
  },
  {
   "cell_type": "raw",
   "id": "553214bf",
   "metadata": {},
   "source": [
    "6. Feature Relationships with Target (Median House Value)\n",
    "\n",
    "MedInc (Median Income):\n",
    "Positive Correlation: Higher median income strongly correlates with higher median house values. This suggests that wealthier neighborhoods tend to have higher house prices.\n",
    "Impact: This aligns with the intuition that more affluent areas are more likely to have expensive houses.\n",
    "\n",
    "HouseAge (Median House Age):\n",
    "Negative Correlation: Older houses tend to have lower values. However, well-maintained or recently renovated older houses may not follow this trend. The age of a house can indicate whether the area is established or if newer, more expensive developments are occurring.\n",
    "\n",
    "AveRooms (Average Number of Rooms):\n",
    "Positive Correlation: A higher number of rooms correlates with larger homes, which typically have higher prices. Larger houses usually imply greater space, which is valued more highly in many parts of California.\n",
    "\n",
    "AveOccup (Average Number of Occupants per Household):\n",
    "Negative Correlation: Areas with higher occupancy (more people per household) tend to have lower house values. This suggests that more crowded areas may not be as desirable for high-income individuals.\n",
    "\n",
    "Latitude and Longitude:\n",
    "Geographical Influence: Both latitude and longitude contribute significantly to house prices. For example, homes closer to the coast or urban centers tend to have higher prices. The latitude and longitude values help geographically position the data and explain regional differences in home prices.\n",
    "\n",
    "Population and Households:\n",
    "Positive Correlation: Larger populations and more households in a block group tend to indicate urbanized or densely populated areas, which are likely to have higher housing demand and, therefore, higher house prices."
   ]
  },
  {
   "cell_type": "markdown",
   "id": "d4db1efc",
   "metadata": {},
   "source": [
    "# Statistical Analysis Report on the California Housing Dataset"
   ]
  },
  {
   "cell_type": "raw",
   "id": "c0ab82ee",
   "metadata": {},
   "source": [
    "1. Introduction\n",
    "In this section, we will provide a detailed statistical overview of the California Housing Dataset, focusing on the summary statistics and their interpretations. These statistics help us understand the central tendencies, spread, and relationships between the features, as well as the nature of the target variable."
   ]
  },
  {
   "cell_type": "raw",
   "id": "52b54df5",
   "metadata": {},
   "source": [
    "2. Summary Statistics for Features\n",
    "To start, we will look at the key statistical values for each feature in the dataset. These values provide insights into the range, distribution, and central tendencies of the data."
   ]
  },
  {
   "cell_type": "raw",
   "id": "b18c001e",
   "metadata": {},
   "source": [
    "2.1. Descriptive Statistics of Features\n",
    "The mean, standard deviation, minimum, 25th percentile (Q1), median (50th percentile), 75th percentile (Q3), and maximum values of each feature are computed to understand their distribution."
   ]
  },
  {
   "cell_type": "raw",
   "id": "9c893dd9",
   "metadata": {},
   "source": [
    "3. Statistical Interpretation of Feature Values\n",
    "Now let's interpret the summary statistics in the context of the dataset:\n",
    "\n",
    "3.1. MedInc (Median Income)\n",
    "Mean: The average income across all block groups is $3,870 (in thousands of dollars).\n",
    "Range: The minimum value is $500, while the maximum value is $15,000. This large spread indicates significant income inequality across regions in California.\n",
    "Quartiles: The 25th percentile (Q1) is $2,560, indicating that 25% of the areas have a median income lower than this, while the 75th percentile (Q3) is $4,960, meaning that 75% of the areas have a median income lower than this.\n",
    "Interpretation: Higher median incomes tend to correlate with higher property values, and this feature has a wide range, which reflects the economic diversity across California.\n",
    "\n",
    "\n",
    "3.2. HouseAge (Median House Age)\n",
    "Mean: The average house age is 28.64 years.\n",
    "Range: The house age spans from 1 year to 52 years, indicating that the dataset includes both newly developed and older residential areas.\n",
    "Quartiles: The 25th percentile (Q1) is 19 years, and the 75th percentile (Q3) is 41 years.\n",
    "Interpretation: Most houses in the dataset are quite old, with the median house age indicating that California's housing stock is generally mature. The correlation with house prices is typically negative — older homes tend to have lower prices, though other factors, such as location, can also influence this.\n",
    "\n",
    "\n",
    "3.3. AveRooms (Average Number of Rooms per Household)\n",
    "Mean: The average number of rooms per household is 5.44.\n",
    "Range: The number of rooms varies from 3 rooms to 9.6 rooms per household, indicating the presence of both smaller homes and larger properties.\n",
    "Quartiles: The 25th percentile (Q1) is 4.3 rooms, and the 75th percentile (Q3) is 6.6 rooms.\n",
    "Interpretation: Larger homes, as indicated by the number of rooms, are more likely to be in higher-value areas. Larger houses typically lead to higher housing prices, which is expected in wealthier areas.\n",
    "\n",
    "\n",
    "3.4. AveOccup (Average Number of Occupants per Household)\n",
    "Mean: The average number of occupants per household is 3.07.\n",
    "Range: The number of occupants ranges from 1 to 6.6.\n",
    "Quartiles: The 25th percentile (Q1) is 2.16 occupants, and the 75th percentile (Q3) is 3.48 occupants.\n",
    "Interpretation: A lower average number of occupants per household is typically found in more affluent areas, where families may have fewer members and more living space, contributing to higher house prices.\n",
    "\n",
    "\n",
    "3.5. Latitude and Longitude\n",
    "Latitude: The dataset ranges from 32.54 to 37.99 degrees latitude, primarily covering the central and northern parts of California.\n",
    "Longitude: The dataset ranges from -124.55 to -113.47 degrees longitude, which also reflects areas in California with proximity to major urban centers and the Pacific coastline.\n",
    "Interpretation: Latitude and longitude significantly impact house prices, with coastal and urban areas tending to have higher prices due to demand for housing in those regions.\n",
    "\n",
    "\n",
    "\n",
    "3.6. Population and Households\n",
    "Population: The population in each block group ranges from 3 to 35,682.\n",
    "Households: The number of households ranges from 1 to 6,082.\n",
    "Interpretation: A larger population and a higher number of households suggest more densely populated areas, which tend to have higher housing demand. Larger cities with higher populations often have higher median house values due to demand and limited housing availability."
   ]
  },
  {
   "cell_type": "raw",
   "id": "59f7c759",
   "metadata": {},
   "source": [
    "4. Statistical Interpretation of the Target Variable (Median House Value)\n",
    "Target Variable (Median House Value)\n",
    "Mean: The average median house value is $207,924 (in thousands of dollars).\n",
    "Range: The house values range from $20,000 to $500,000.\n",
    "Quartiles: The 25th percentile (Q1) is $119,300, the median is $179,700, and the 75th percentile (Q3) is $265,000.\n",
    "Interpretation: The spread of house values reflects the variation in housing prices across different regions in California. The upper quartile (Q3) shows that 25% of the areas have house values above $265,000, while the lower quartile (Q1) shows that 25% of the areas have house values below $119,300."
   ]
  },
  {
   "cell_type": "raw",
   "id": "d84b2021",
   "metadata": {},
   "source": [
    "5. Conclusion\n",
    "Key Insights:\n",
    "Income is a key driver of house prices, as seen from the strong relationship between median income (MedInc) and the target variable (Target).\n",
    "Younger areas tend to have higher median house values, but this relationship can be influenced by geographical and income factors.\n",
    "Larger homes (more rooms) and lower household occupancy correlate with higher house values, as they indicate more affluent and less crowded neighborhoods.\n",
    "Geographical factors (Latitude and Longitude) are significant in determining house prices, as areas closer to urban centers or the coast tend to have higher values.\n",
    "Population and Household size also have an impact, with denser areas typically seeing higher housing demand."
   ]
  },
  {
   "cell_type": "code",
   "execution_count": null,
   "id": "20cec7d3",
   "metadata": {},
   "outputs": [],
   "source": []
  }
 ],
 "metadata": {
  "kernelspec": {
   "display_name": "Python 3 (ipykernel)",
   "language": "python",
   "name": "python3"
  },
  "language_info": {
   "codemirror_mode": {
    "name": "ipython",
    "version": 3
   },
   "file_extension": ".py",
   "mimetype": "text/x-python",
   "name": "python",
   "nbconvert_exporter": "python",
   "pygments_lexer": "ipython3",
   "version": "3.11.5"
  }
 },
 "nbformat": 4,
 "nbformat_minor": 5
}
