{
  "cells": [
    {
      "cell_type": "code",
      "execution_count": 1,
      "metadata": {
        "trusted": true
      },
      "outputs": [
        {
          "name": "stdout",
          "output_type": "stream",
          "text": [
            "Correlation coeffecient:\n",
            " [[ 1.         -0.00498434]\n",
            " [-0.00498434  1.        ]]\n"
          ]
        }
      ],
      "source": [
        "import numpy as np\n",
        "data1 = np.random.normal(50, 5, 1000)\n",
        "data2 = np.random.normal(0, 2, 1000)\n",
        "\n",
        "correlation = np.corrcoef(data1, data2)\n",
        "print (\"Correlation coeffecient:\\n\", correlation)"
      ]
    },
    {
      "cell_type": "code",
      "execution_count": 2,
      "metadata": {
        "trusted": true
      },
      "outputs": [
        {
          "name": "stdout",
          "output_type": "stream",
          "text": [
            "25th, 50th and 75th percentile : [46.89972173 49.90882435 53.02539365]\n"
          ]
        }
      ],
      "source": [
        "quantiles = np.percentile(data1, [25, 50, 75])\n",
        "print (\"25th, 50th and 75th percentile :\", quantiles)"
      ]
    },
    {
      "cell_type": "code",
      "execution_count": 3,
      "metadata": {
        "trusted": true
      },
      "outputs": [
        {
          "name": "stdout",
          "output_type": "stream",
          "text": [
            "Mean temperature per hour: [75.         70.         62.33333333]\n",
            "Mean temperature per day: [66.66666667 69.         71.66666667]\n"
          ]
        }
      ],
      "source": [
        "import numpy as np\n",
        "data = np.array([[72, 75, 78], [68, 70, 72], [60, 62, 65]])\n",
        "\n",
        "\n",
        "meantemphour = np.mean(data, axis=1)\n",
        "print (\"Mean temperature per hour:\", meantemphour)\n",
        "\n",
        "meantempday = np.mean(data, axis=0)\n",
        "print (\"Mean temperature per day:\", meantempday)"
      ]
    },
    {
      "cell_type": "code",
      "execution_count": 4,
      "metadata": {
        "trusted": true
      },
      "outputs": [
        {
          "name": "stdout",
          "output_type": "stream",
          "text": [
            "[[  1 100]\n",
            " [  2 200]\n",
            " [  3 300]]\n",
            "Scaled data:\n",
            " [[nan nan]\n",
            " [inf inf]\n",
            " [inf inf]]\n"
          ]
        },
        {
          "name": "stderr",
          "output_type": "stream",
          "text": [
            "C:\\Users\\850 G4\\AppData\\Local\\Temp\\ipykernel_11528\\3751248510.py:7: RuntimeWarning: divide by zero encountered in divide\n",
            "  scaleddata = (data - datamin) / (datamax - datamax)\n",
            "C:\\Users\\850 G4\\AppData\\Local\\Temp\\ipykernel_11528\\3751248510.py:7: RuntimeWarning: invalid value encountered in divide\n",
            "  scaleddata = (data - datamin) / (datamax - datamax)\n"
          ]
        }
      ],
      "source": [
        "import numpy as np\n",
        "\n",
        "data = np.array([[1, 100], [2, 200], [3, 300]])\n",
        "print (data)\n",
        "datamin = np.min(data, axis=0)\n",
        "datamax = np.max(data, axis=0)\n",
        "scaleddata = (data - datamin) / (datamax - datamax) \n",
        "print (\"Scaled data:\\n\", scaleddata)"
      ]
    },
    {
      "cell_type": "code",
      "execution_count": null,
      "metadata": {
        "trusted": true
      },
      "outputs": [],
      "source": []
    }
  ],
  "metadata": {
    "kernelspec": {
      "display_name": "Python 3",
      "language": "python",
      "name": "python3"
    },
    "language_info": {
      "codemirror_mode": {
        "name": "ipython",
        "version": 3
      },
      "file_extension": ".py",
      "mimetype": "text/x-python",
      "name": "python",
      "nbconvert_exporter": "python",
      "pygments_lexer": "ipython3",
      "version": "3.13.5"
    }
  },
  "nbformat": 4,
  "nbformat_minor": 4
}
