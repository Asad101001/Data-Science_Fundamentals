{
 "cells": [
  {
   "cell_type": "code",
   "execution_count": 30,
   "id": "ab348dca-a3c8-4963-aab7-b8d8a5ccbc8d",
   "metadata": {},
   "outputs": [
    {
     "name": "stdout",
     "output_type": "stream",
     "text": [
      "15\n"
     ]
    }
   ],
   "source": [
    "#1. Create a variable x and assign it the value 15. Print the value of x.\n",
    "\n",
    "x = 15\n",
    "print (x)"
   ]
  },
  {
   "cell_type": "code",
   "execution_count": 31,
   "id": "c06fc31d-5e35-4bde-b545-d692595fabee",
   "metadata": {},
   "outputs": [
    {
     "name": "stdout",
     "output_type": "stream",
     "text": [
      "Hello  John\n"
     ]
    }
   ],
   "source": [
    "#2. Create a variable name and assign it the string &quot;John&quot;. Print a message &quot;Hello, [name]!&quot;.\n",
    "\n",
    "name = \"John\"\n",
    "print (\"Hello \", name)"
   ]
  },
  {
   "cell_type": "code",
   "execution_count": 32,
   "id": "02aba1dd-bf6a-4317-ba84-c183232f222f",
   "metadata": {},
   "outputs": [
    {
     "name": "stdout",
     "output_type": "stream",
     "text": [
      "123\n"
     ]
    }
   ],
   "source": [
    "#3. Convert the string &quot;123&quot; to an integer and print it.\n",
    "\n",
    "string = \"123\"\n",
    "integer = int(string)\n",
    "print(integer)"
   ]
  },
  {
   "cell_type": "code",
   "execution_count": 33,
   "id": "4619649f-44d1-4eca-899c-5ce875d08af4",
   "metadata": {},
   "outputs": [
    {
     "name": "stdout",
     "output_type": "stream",
     "text": [
      "3.142\n"
     ]
    }
   ],
   "source": [
    "#4. Assign a float value 3.14159 to the variable pi and print the value with 3 decimal places.\n",
    "\n",
    "pi = 3.14159\n",
    "print(f\"{pi:.3f}\") \n"
   ]
  },
  {
   "cell_type": "code",
   "execution_count": 34,
   "id": "7c97dbd4-4588-406f-820a-82aaf6c41fe3",
   "metadata": {},
   "outputs": [
    {
     "name": "stdout",
     "output_type": "stream",
     "text": [
      "False\n"
     ]
    }
   ],
   "source": [
    "#5. Create a boolean variable is_active = False and print its value.\n",
    "\n",
    "is_active = False\n",
    "print (is_active)"
   ]
  },
  {
   "cell_type": "code",
   "execution_count": 35,
   "id": "4233b09c-9a72-4a75-b6ee-8946fed378bd",
   "metadata": {},
   "outputs": [
    {
     "name": "stdout",
     "output_type": "stream",
     "text": [
      "<class 'int'>\n",
      "<class 'str'>\n",
      "<class 'str'>\n",
      "<class 'int'>\n",
      "<class 'float'>\n",
      "<class 'bool'>\n"
     ]
    }
   ],
   "source": [
    "#6. Check and print the data type of the variable name.\n",
    "\n",
    "print (type(x))\n",
    "print (type(name))\n",
    "print (type(string))\n",
    "print (type(integer))\n",
    "print (type(pi))\n",
    "print (type(is_active))"
   ]
  },
  {
   "cell_type": "code",
   "execution_count": 36,
   "id": "b065477f-63c4-4a6c-8f4c-d8a7e761d6d8",
   "metadata": {},
   "outputs": [
    {
     "name": "stdout",
     "output_type": "stream",
     "text": [
      "HELLO\n"
     ]
    }
   ],
   "source": [
    "#7. Write a program that prints the string &quot;hello world&quot; in uppercase.\n",
    "\n",
    "greeting = \"Hello\"\n",
    "print (greeting.upper())"
   ]
  },
  {
   "cell_type": "code",
   "execution_count": 37,
   "id": "fd04ddf8-8a7c-42aa-802a-e96015aed8c4",
   "metadata": {},
   "outputs": [
    {
     "name": "stdout",
     "output_type": "stream",
     "text": [
      "Pyt\n"
     ]
    }
   ],
   "source": [
    "#8. Write a program that slices the string &quot;Python&quot; to get the first 3 characters.\n",
    "\n",
    "python = \"Python\"\n",
    "first3characters = python[:3]\n",
    "print (first3characters)\n"
   ]
  },
  {
   "cell_type": "code",
   "execution_count": 38,
   "id": "078ea363-0f39-4e4f-94df-f36d42561fbb",
   "metadata": {},
   "outputs": [
    {
     "name": "stdout",
     "output_type": "stream",
     "text": [
      "The string does not contain the word CODE\n"
     ]
    }
   ],
   "source": [
    "#9. Check if the word &quot;code&quot; is in the string &quot;I love coding in Python&quot;.\n",
    "\n",
    "newstring = \"I Love coding in Python\"\n",
    "if \"code\" in newstring:\n",
    "    print (\"The string contains the word CODE\")\n",
    "\n",
    "else:\n",
    "    print (\"The string does not contain the word CODE\")\n"
   ]
  },
  {
   "cell_type": "code",
   "execution_count": 39,
   "id": "3ff43fab-18e4-4a30-8663-6541e1d232ad",
   "metadata": {},
   "outputs": [
    {
     "name": "stdout",
     "output_type": "stream",
     "text": [
      "Replacing A with o in the string :\n",
      " opple\n"
     ]
    }
   ],
   "source": [
    "#10. Replace all occurrences of the letter &#39;a&#39; with &#39;o&#39; in the string &quot;apple&quot; and print the result.\n",
    "\n",
    "fruit = \"Apple\"\n",
    "fruit = fruit.replace(\"A\", \"o\")\n",
    "print (\"Replacing A with o in the string :\\n\", fruit)"
   ]
  },
  {
   "cell_type": "code",
   "execution_count": 40,
   "id": "814eacaa-826b-4e73-b400-deb5473c6420",
   "metadata": {},
   "outputs": [
    {
     "name": "stdout",
     "output_type": "stream",
     "text": [
      "HappyPython\n"
     ]
    }
   ],
   "source": [
    "#11. Concatenate the strings &quot;Happy&quot; and &quot;Python&quot; and print the result.\n",
    "\n",
    "feeling = \"Happy\"\n",
    "python = \"Python\"\n",
    "print (feeling + python)"
   ]
  },
  {
   "cell_type": "code",
   "execution_count": 41,
   "id": "e82d0afc-449b-47ab-8336-8b4867dff21e",
   "metadata": {},
   "outputs": [
    {
     "name": "stdout",
     "output_type": "stream",
     "text": [
      "The length of string is :\n",
      " 11\n"
     ]
    }
   ],
   "source": [
    "#12. Print the length of the string &quot;Programming&quot;.\n",
    "\n",
    "programming = \"Programming\"\n",
    "print (\"The length of string is :\\n\", len(programming))"
   ]
  },
  {
   "cell_type": "code",
   "execution_count": 42,
   "id": "342528f8-2558-40f1-a98e-219caab0934b",
   "metadata": {},
   "outputs": [
    {
     "name": "stdout",
     "output_type": "stream",
     "text": [
      "The third item in the list :\n",
      " 3\n"
     ]
    }
   ],
   "source": [
    "#13. Create a list numbers = [1, 2, 3, 4, 5] and print the third item in the list.\n",
    "\n",
    "list = [1, 2, 3, 4, 5]\n",
    "print (\"The third item in the list :\\n\", list[2])"
   ]
  },
  {
   "cell_type": "code",
   "execution_count": 43,
   "id": "cd7262c5-6c84-400d-9c5d-2b687754ac28",
   "metadata": {},
   "outputs": [
    {
     "name": "stdout",
     "output_type": "stream",
     "text": [
      "[1, 2, 3, 4, 5, 6]\n"
     ]
    }
   ],
   "source": [
    "#14. Add the number 6 to the list numbers and print the updated list.\n",
    "\n",
    "list = [1, 2, 3, 4, 5]\n",
    "list.append(6)\n",
    "print (list)"
   ]
  },
  {
   "cell_type": "code",
   "execution_count": 44,
   "id": "f14a9cd4-8cb3-4526-b9fe-21cd936cf794",
   "metadata": {},
   "outputs": [
    {
     "data": {
      "text/plain": [
       "[1, 2, 3, 5, 6]"
      ]
     },
     "execution_count": 44,
     "metadata": {},
     "output_type": "execute_result"
    }
   ],
   "source": [
    "#15. Remove the item 4 from the list and print the list.\n",
    "\n",
    "list.remove(4)\n",
    "list"
   ]
  },
  {
   "cell_type": "code",
   "execution_count": 45,
   "id": "3b7fd7ab-6680-4d87-ba98-7c1aba47ec93",
   "metadata": {},
   "outputs": [
    {
     "name": "stdout",
     "output_type": "stream",
     "text": [
      "False\n"
     ]
    }
   ],
   "source": [
    "#16. Check if the number 10 is in the list numbers = [1, 2, 3, 4, 5] and print the result.\n",
    "\n",
    "list1 = [1, 2, 3, 4, 5]\n",
    "result = 10 in list1 \n",
    "print(result)\n",
    "\n"
   ]
  },
  {
   "cell_type": "code",
   "execution_count": 46,
   "id": "ea4d5671-45c2-4162-a913-f5a439723000",
   "metadata": {},
   "outputs": [
    {
     "data": {
      "text/plain": [
       "[1, 2, 4, 5, 9]"
      ]
     },
     "execution_count": 46,
     "metadata": {},
     "output_type": "execute_result"
    }
   ],
   "source": [
    "#17. Sort the list numbers = [4, 2, 9, 1, 5] in ascending order and print it.\n",
    "\n",
    "list2 = [4, 2, 9, 1, 5]\n",
    "list2.sort()\n",
    "list2"
   ]
  },
  {
   "cell_type": "code",
   "execution_count": 47,
   "id": "87b88ded-40c5-4ab8-8f4c-53cc90e04cd9",
   "metadata": {},
   "outputs": [
    {
     "name": "stdout",
     "output_type": "stream",
     "text": [
      "Kiwi\n",
      "Grapefruit\n",
      "Pomegranate\n",
      "Pear\n",
      "Starfruit\n"
     ]
    }
   ],
   "source": [
    "#18. Create a list of fruits and print each fruit on a new line using a loop.\n",
    "\n",
    "fruits = [\"Kiwi\", \"Grapefruit\", \"Pomegranate\", \"Pear\", \"Starfruit\"]\n",
    "for fruit in fruits:\n",
    "    print (fruit)"
   ]
  },
  {
   "cell_type": "code",
   "execution_count": 48,
   "id": "6fcc7527-cebb-4724-a0d1-8c0182d9abf3",
   "metadata": {},
   "outputs": [
    {
     "name": "stdout",
     "output_type": "stream",
     "text": [
      "The sum is;\n",
      " 200\n"
     ]
    }
   ],
   "source": [
    "#19. Create a list of 5 integers, then find and print the sum of the list.\n",
    "\n",
    "numbers = [10, 20, 20, 50, 100]\n",
    "print (\"The sum is;\\n\", sum(numbers))"
   ]
  },
  {
   "cell_type": "code",
   "execution_count": 49,
   "id": "172a9304-3a9f-41fd-be9c-ae7b12e1bf1d",
   "metadata": {},
   "outputs": [
    {
     "name": "stdout",
     "output_type": "stream",
     "text": [
      "1\n",
      "2\n",
      "3\n",
      "4\n",
      "5\n",
      "6\n",
      "7\n",
      "8\n",
      "9\n",
      "10\n"
     ]
    }
   ],
   "source": [
    "#20. Write a program that prints numbers from 1 to 10 using a for loop.\n",
    "\n",
    "count = 1\n",
    "while count < 11:\n",
    "    print(count)\n",
    "    count += 1 "
   ]
  },
  {
   "cell_type": "code",
   "execution_count": 50,
   "id": "4c622ddc-079f-47e0-97f6-8d4e398a7916",
   "metadata": {},
   "outputs": [
    {
     "name": "stdout",
     "output_type": "stream",
     "text": [
      "2\n",
      "4\n",
      "6\n",
      "8\n",
      "10\n",
      "12\n",
      "14\n",
      "16\n",
      "18\n",
      "20\n"
     ]
    }
   ],
   "source": [
    "#21. Write a while loop that prints all even numbers from 2 to 20.\n",
    "\n",
    "evencount = 2\n",
    "while evencount < 21:\n",
    "    print (evencount)\n",
    "    evencount += 2"
   ]
  },
  {
   "cell_type": "code",
   "execution_count": 51,
   "id": "4a653be1-6e0c-4384-b341-95cbc3e7b71c",
   "metadata": {},
   "outputs": [
    {
     "name": "stdout",
     "output_type": "stream",
     "text": [
      "1\n",
      "4\n",
      "9\n",
      "16\n",
      "25\n"
     ]
    }
   ],
   "source": [
    "#22. Write a for loop that prints the first 5 square numbers (1, 4, 9, 16, 25).\n",
    "\n",
    "for i in range (1, 6):\n",
    "    print (i ** 2)\n"
   ]
  },
  {
   "cell_type": "code",
   "execution_count": 52,
   "id": "835ae461-266c-469d-b736-953397b0ca50",
   "metadata": {},
   "outputs": [
    {
     "name": "stdout",
     "output_type": "stream",
     "text": [
      "720\n"
     ]
    }
   ],
   "source": [
    "#23. Write a program that prints the factorial of the number 6.\n",
    "\n",
    "number = 6\n",
    "factorial = 1\n",
    "\n",
    "for i in range(1, number + 1):\n",
    "    factorial *= i\n",
    "\n",
    "print(factorial)"
   ]
  },
  {
   "cell_type": "code",
   "execution_count": 53,
   "id": "f6060784-5670-456a-aff1-be6aa73de06e",
   "metadata": {},
   "outputs": [
    {
     "name": "stdout",
     "output_type": "stream",
     "text": [
      "apple\n",
      "banana\n",
      "cherry\n"
     ]
    }
   ],
   "source": [
    "#24. Use a loop to print each item in the list fruits = [&#39;apple&#39;, &#39;banana&#39;, &#39;cherry&#39\n",
    "\n",
    "fruits1 = [\"apple\", \"banana\", \"cherry\"]\n",
    "for fruit in fruits1:\n",
    "    print (fruit)"
   ]
  },
  {
   "cell_type": "code",
   "execution_count": 54,
   "id": "2ecaabb9-c97c-4a92-98ba-ebf49158b1ef",
   "metadata": {},
   "outputs": [
    {
     "name": "stdout",
     "output_type": "stream",
     "text": [
      "5\n",
      "10\n",
      "15\n",
      "20\n",
      "25\n",
      "30\n",
      "35\n",
      "40\n",
      "45\n",
      "50\n",
      "55\n",
      "60\n",
      "65\n",
      "70\n",
      "75\n",
      "80\n",
      "85\n",
      "90\n",
      "95\n",
      "100\n"
     ]
    }
   ],
   "source": [
    "#25. Write a program that prints numbers from 1 to 100 that are divisible by 5.\n",
    "\n",
    "for i in range(1, 101):\n",
    "    if i % 5 == 0:\n",
    "        print(i)"
   ]
  },
  {
   "cell_type": "code",
   "execution_count": 55,
   "id": "e9193bf2-e7d4-4ae2-b0d3-4abb40ef870f",
   "metadata": {},
   "outputs": [
    {
     "name": "stdin",
     "output_type": "stream",
     "text": [
      "Enter a number:  5\n"
     ]
    },
    {
     "name": "stdout",
     "output_type": "stream",
     "text": [
      "The number is positive.\n"
     ]
    }
   ],
   "source": [
    "#26. Write a program that checks if a number is positive, negative, or zero.\n",
    "\n",
    "# Get the number from the user\n",
    "number = float(input(\"Enter a number: \"))\n",
    "\n",
    "# Check if the number is positive, negative, or zero\n",
    "if number > 0:\n",
    "    print(\"The number is positive.\")\n",
    "elif number < 0:\n",
    "    print(\"The number is negative.\")\n",
    "else:\n",
    "    print(\"The number is zero.\")\n"
   ]
  },
  {
   "cell_type": "code",
   "execution_count": 91,
   "id": "20474b7a-0ef5-4619-89bb-9309fdf86a98",
   "metadata": {},
   "outputs": [
    {
     "name": "stdin",
     "output_type": "stream",
     "text": [
      " 69\n"
     ]
    },
    {
     "name": "stdout",
     "output_type": "stream",
     "text": [
      "Yes\n"
     ]
    }
   ],
   "source": [
    "#27. Write a program that checks if a number is divisible by 3 and print \"Yes\" if it is\n",
    "\n",
    "number1 = int(input())\n",
    "\n",
    "if number1 % 3 == 0:\n",
    "    print(\"Yes\")\n",
    "else:\n",
    "    print(\"No\")\n"
   ]
  },
  {
   "cell_type": "code",
   "execution_count": 95,
   "id": "a9b7dea0-1832-4561-9d00-de288550062c",
   "metadata": {},
   "outputs": [
    {
     "name": "stdin",
     "output_type": "stream",
     "text": [
      " 6\n"
     ]
    },
    {
     "name": "stdout",
     "output_type": "stream",
     "text": [
      "Even\n"
     ]
    }
   ],
   "source": [
    "#28. Write a program that checks if a number is even or odd.\n",
    "\n",
    "number2 = int(input())\n",
    "\n",
    "if number2 % 2 == 0:\n",
    "    print(\"Even\")\n",
    "else:\n",
    "    print(\"Odd\")"
   ]
  },
  {
   "cell_type": "code",
   "execution_count": 107,
   "id": "c6607be3-3014-4fd3-a334-063e3f61fd04",
   "metadata": {},
   "outputs": [
    {
     "name": "stdin",
     "output_type": "stream",
     "text": [
      "Enter a number:  6\n"
     ]
    },
    {
     "name": "stdout",
     "output_type": "stream",
     "text": [
      "Not prime\n"
     ]
    }
   ],
   "source": [
    "# Get the number from the user\n",
    "number = int(input(\"Enter a number: \"))\n",
    "\n",
    "# Check if the number is less than 2\n",
    "if number < 2:\n",
    "    print(\"Not prime\")\n",
    "else:\n",
    "    # Assume the number is prime\n",
    "    is_prime = True\n",
    "    \n",
    "    # Check divisibility from 2 to the square root of the number\n",
    "    for i in range(2, int(number ** 0.5) + 1):\n",
    "        if number % i == 0:\n",
    "            is_prime = False\n",
    "            break\n",
    "    \n",
    "    if is_prime:\n",
    "        print(\"Prime\")\n",
    "    else:\n",
    "        print(\"Not prime\")\n"
   ]
  },
  {
   "cell_type": "code",
   "execution_count": 113,
   "id": "c3f74c5f-f00a-42a8-86e1-b60034998d53",
   "metadata": {},
   "outputs": [
    {
     "name": "stdin",
     "output_type": "stream",
     "text": [
      "Enter the score:  101\n"
     ]
    },
    {
     "name": "stdout",
     "output_type": "stream",
     "text": [
      "A\n"
     ]
    }
   ],
   "source": [
    "#30. Create a simple grade calculator: print \"A\" for scores >= 90, \"B\" for scores >= 80, etc.\n",
    "\n",
    "# Get the score from the user\n",
    "score = int(input(\"Enter the score: \"))\n",
    "\n",
    "# Determine the grade based on the score\n",
    "if score >= 90:\n",
    "    print(\"A\")\n",
    "elif score >= 80:\n",
    "    print(\"B\")\n",
    "elif score >= 70:\n",
    "    print(\"C\")\n",
    "elif score >= 60:\n",
    "    print(\"D\")\n",
    "else:\n",
    "    print(\"F\")\n"
   ]
  },
  {
   "cell_type": "code",
   "execution_count": 115,
   "id": "9b5e4b10-c84e-4469-a4a8-a760b565d2ce",
   "metadata": {},
   "outputs": [
    {
     "name": "stdout",
     "output_type": "stream",
     "text": [
      "The strings are not equal.\n"
     ]
    }
   ],
   "source": [
    "#31. Write a program that checks if the string \"hello\" is equal to \"Hello\" (case-sensitive).\n",
    "\n",
    "if \"hello\" == \"Hello\":\n",
    "    print(\"The strings are equal.\")\n",
    "else:\n",
    "    print(\"The strings are not equal.\")"
   ]
  },
  {
   "cell_type": "code",
   "execution_count": 117,
   "id": "4259f961-f9ce-4224-be48-c9a0b14b5bde",
   "metadata": {},
   "outputs": [
    {
     "name": "stdin",
     "output_type": "stream",
     "text": [
      "Enter your age:  95\n"
     ]
    },
    {
     "name": "stdout",
     "output_type": "stream",
     "text": [
      "You are eligible to vote.\n"
     ]
    }
   ],
   "source": [
    "#32. Write a program that prints \"You are eligible to vote\" if the age is greater than or equal to 18\n",
    "\n",
    "age = int(input(\"Enter your age: \"))\n",
    "\n",
    "if age >= 18:\n",
    "    print(\"You are eligible to vote.\")\n",
    "else:\n",
    "    print(\"You are not eligible to vote.\")"
   ]
  },
  {
   "cell_type": "code",
   "execution_count": 119,
   "id": "d8d18d69-1d4a-496a-b857-0237bcc9bb31",
   "metadata": {},
   "outputs": [
    {
     "name": "stdin",
     "output_type": "stream",
     "text": [
      " 1\n",
      " 2\n"
     ]
    },
    {
     "name": "stdout",
     "output_type": "stream",
     "text": [
      "The sum is : 3\n"
     ]
    }
   ],
   "source": [
    "#33. Write a function that accepts two numbers and returns their sum.\n",
    "\n",
    "num1 = int(input())\n",
    "num2 = int(input())\n",
    "\n",
    "print (\"The sum is :\", num1+num2)"
   ]
  },
  {
   "cell_type": "code",
   "execution_count": 129,
   "id": "06e4932b-936d-4cca-8a84-9492f022cb3f",
   "metadata": {},
   "outputs": [
    {
     "name": "stdin",
     "output_type": "stream",
     "text": [
      " 6\n"
     ]
    },
    {
     "name": "stdout",
     "output_type": "stream",
     "text": [
      "36\n"
     ]
    }
   ],
   "source": [
    "#34. Write a function that takes a number and returns its square.\n",
    "\n",
    "def square(number):\n",
    "    return number ** 2\n",
    "\n",
    "\n",
    "sqr1 = int(input())\n",
    "\n",
    "print (square(sqr1))"
   ]
  },
  {
   "cell_type": "code",
   "execution_count": 131,
   "id": "25d9ffda-dcf3-4baa-acfb-43e0d6d0c95a",
   "metadata": {},
   "outputs": [
    {
     "name": "stdin",
     "output_type": "stream",
     "text": [
      "Enter a number:  57\n"
     ]
    },
    {
     "name": "stdout",
     "output_type": "stream",
     "text": [
      "57 is not a prime number.\n"
     ]
    }
   ],
   "source": [
    "#35. Write a function is_prime(n) that checks whether a number is prime\n",
    "\n",
    "# Function to check if a number is prime\n",
    "def is_prime(n):\n",
    "    # Check if n is less than 2 (prime numbers are greater than 1)\n",
    "    if n < 2:\n",
    "        return False\n",
    "    # Check divisibility from 2 to the square root of n\n",
    "    for i in range(2, int(n ** 0.5) + 1):\n",
    "        if n % i == 0:  # If n is divisible by i, it's not prime\n",
    "            return False\n",
    "    return True  # If no divisors were found, it's prime\n",
    "\n",
    "# Example usage\n",
    "number = int(input(\"Enter a number: \"))\n",
    "if is_prime(number):\n",
    "    print(f\"{number} is a prime number.\")\n",
    "else:\n",
    "    print(f\"{number} is not a prime number.\")\n"
   ]
  },
  {
   "cell_type": "code",
   "execution_count": null,
   "id": "66888ca5-9643-4337-9e2b-f2e95dbcccec",
   "metadata": {},
   "outputs": [],
   "source": []
  }
 ],
 "metadata": {
  "kernelspec": {
   "display_name": "Python 3 (ipykernel)",
   "language": "python",
   "name": "python3"
  },
  "language_info": {
   "codemirror_mode": {
    "name": "ipython",
    "version": 3
   },
   "file_extension": ".py",
   "mimetype": "text/x-python",
   "name": "python",
   "nbconvert_exporter": "python",
   "pygments_lexer": "ipython3",
   "version": "3.13.0"
  }
 },
 "nbformat": 4,
 "nbformat_minor": 5
}
