{
 "cells": [
  {
   "cell_type": "markdown",
   "id": "f5fd075e",
   "metadata": {
    "id": "f5fd075e"
   },
   "source": [
    "# STATISTICS With Python"
   ]
  },
  {
   "cell_type": "markdown",
   "id": "fb808a17",
   "metadata": {
    "id": "fb808a17"
   },
   "source": [
    "# Importing Libraries"
   ]
  },
  {
   "cell_type": "code",
   "id": "e2aad9f9",
   "metadata": {
    "id": "e2aad9f9"
   },
   "source": [
    "import numpy as np\n",
    "import pandas as pd\n",
    "import matplotlib.pyplot as plt"
   ],
   "outputs": [],
   "execution_count": null
  },
  {
   "cell_type": "markdown",
   "id": "38dc8da6",
   "metadata": {
    "id": "38dc8da6"
   },
   "source": [
    "# Central Tendency"
   ]
  },
  {
   "cell_type": "code",
   "id": "a576c00d",
   "metadata": {
    "id": "a576c00d",
    "outputId": "ae970eb6-68bc-430c-a84d-d7e3ef8a1b87"
   },
   "source": [
    "m=np.random.randint(7,10,20) # range 7 to 10 and n=20\n",
    "m"
   ],
   "outputs": [],
   "execution_count": null
  },
  {
   "cell_type": "markdown",
   "id": "32d1c9c4",
   "metadata": {
    "id": "32d1c9c4"
   },
   "source": [
    "# Mean"
   ]
  },
  {
   "cell_type": "code",
   "id": "20aae5fb",
   "metadata": {
    "id": "20aae5fb",
    "outputId": "a4b5c130-f661-490e-d08a-98494ba7f90f"
   },
   "source": [
    "np.mean(m)"
   ],
   "outputs": [],
   "execution_count": null
  },
  {
   "cell_type": "code",
   "id": "cf4e173f",
   "metadata": {
    "id": "cf4e173f",
    "outputId": "142d868a-cdb6-44d4-ea7a-8b619140e440"
   },
   "source": [
    "np.median(m)"
   ],
   "outputs": [],
   "execution_count": null
  },
  {
   "cell_type": "code",
   "id": "822b069c",
   "metadata": {
    "id": "822b069c",
    "outputId": "b9dfd040-2c54-49bf-e6c4-164f0f96d58e"
   },
   "source": [
    "from statistics import mode\n",
    "mode(m)"
   ],
   "outputs": [],
   "execution_count": null
  },
  {
   "cell_type": "markdown",
   "id": "5a89abfe",
   "metadata": {
    "id": "5a89abfe"
   },
   "source": [
    "# Population and Sample"
   ]
  },
  {
   "cell_type": "code",
   "id": "b86fb905",
   "metadata": {
    "id": "b86fb905",
    "outputId": "ff6bc37b-b9ae-4de2-b010-62dce375ef4d"
   },
   "source": [
    "population= np.random.randint(10,20,100)\n",
    "population"
   ],
   "outputs": [],
   "execution_count": null
  },
  {
   "cell_type": "code",
   "id": "272be40b",
   "metadata": {
    "id": "272be40b",
    "outputId": "3b0b2922-ef80-4b16-d019-f17906ddd7fb"
   },
   "source": [
    "np.mean(population)"
   ],
   "outputs": [],
   "execution_count": null
  },
  {
   "cell_type": "code",
   "id": "d50fdc8f",
   "metadata": {
    "id": "d50fdc8f",
    "outputId": "5a898dc5-0c00-4694-cfba-077e4310f0d4"
   },
   "source": [
    "from scipy.stats import gmean\n",
    "gmean(population)"
   ],
   "outputs": [],
   "execution_count": null
  },
  {
   "cell_type": "code",
   "id": "83241c4e",
   "metadata": {
    "id": "83241c4e",
    "outputId": "2552a5ba-4b26-4427-e5cc-0fe28345063d"
   },
   "source": [
    "import statistics\n",
    "statistics.harmonic_mean(population)"
   ],
   "outputs": [],
   "execution_count": null
  },
  {
   "cell_type": "code",
   "id": "63cd9220",
   "metadata": {
    "id": "63cd9220",
    "outputId": "d5c8b1f4-1050-4cd5-d58d-105a43b5e480"
   },
   "source": [
    "np.median(population)"
   ],
   "outputs": [],
   "execution_count": null
  },
  {
   "cell_type": "code",
   "id": "a2d84ebf",
   "metadata": {
    "id": "a2d84ebf",
    "outputId": "b45ee4ed-3975-4f20-c9b1-20ca9dfa9a41"
   },
   "source": [
    "mode(population)"
   ],
   "outputs": [],
   "execution_count": null
  },
  {
   "cell_type": "code",
   "id": "754cf43e",
   "metadata": {
    "id": "754cf43e",
    "outputId": "ccb7f207-7e5f-48c1-f6ac-c08ca455b2f2"
   },
   "source": [
    "sample= np.random.choice(population, 20)\n",
    "sample"
   ],
   "outputs": [],
   "execution_count": null
  },
  {
   "cell_type": "code",
   "id": "655e692a",
   "metadata": {
    "id": "655e692a",
    "outputId": "dd67e6ea-e0e8-4705-fd19-06b414d2e26f"
   },
   "source": [
    "np.mean(sample)"
   ],
   "outputs": [],
   "execution_count": null
  },
  {
   "cell_type": "code",
   "id": "351f34f7",
   "metadata": {
    "id": "351f34f7",
    "outputId": "e2ddc773-7154-43e0-d21a-5b7eb601ea1a"
   },
   "source": [
    "np.median(sample)"
   ],
   "outputs": [],
   "execution_count": null
  },
  {
   "cell_type": "code",
   "id": "0d4c4474",
   "metadata": {
    "id": "0d4c4474",
    "outputId": "7067e247-4237-4e41-e938-069232a233dd"
   },
   "source": [
    "mode(sample)"
   ],
   "outputs": [],
   "execution_count": null
  },
  {
   "cell_type": "code",
   "id": "f46dbe3a",
   "metadata": {
    "id": "f46dbe3a",
    "outputId": "bc147b74-86e6-4bf6-83b0-d7fb5bff7e62"
   },
   "source": [
    "sample_1=np.random.choice(population, 15)\n",
    "sample_2=np.random.choice(population, 15)\n",
    "sample_3=np.random.choice(population, 15)\n",
    "sample_4=np.random.choice(population, 15)\n",
    "all_samples=[sample_1, sample_2, sample_3, sample_4]\n",
    "sample_mean=[]\n",
    "for i in all_samples:\n",
    "    sample_mean.append(np.mean(i))\n",
    "sample_mean"
   ],
   "outputs": [],
   "execution_count": null
  },
  {
   "cell_type": "code",
   "id": "fbebfd13",
   "metadata": {
    "id": "fbebfd13",
    "outputId": "37ae5e42-27d1-4dc9-ee07-f71eeb4d23c3"
   },
   "source": [
    "# now if we check the population mean\n",
    "np.mean(population)"
   ],
   "outputs": [],
   "execution_count": null
  },
  {
   "cell_type": "code",
   "id": "46963588",
   "metadata": {
    "id": "46963588",
    "outputId": "cc42eecb-6922-48ab-cc4a-b67664740541"
   },
   "source": [
    "np.mean(sample_mean)"
   ],
   "outputs": [],
   "execution_count": null
  },
  {
   "cell_type": "markdown",
   "id": "540ac3e6",
   "metadata": {
    "id": "540ac3e6"
   },
   "source": [
    "# Measure of Spread"
   ]
  },
  {
   "cell_type": "code",
   "id": "f0a4077e",
   "metadata": {
    "id": "f0a4077e",
    "outputId": "6787e3a7-85b5-4d0b-b44f-bfb53892ee02"
   },
   "source": [
    "n= np.random.randn(50)\n",
    "n # randn: random numbers which are normally distributed n=normal"
   ],
   "outputs": [],
   "execution_count": null
  },
  {
   "cell_type": "code",
   "id": "73cf13c6",
   "metadata": {
    "id": "73cf13c6",
    "outputId": "4b754f3d-f49b-4423-d738-ddd131ab7c56"
   },
   "source": [
    "# Range\n",
    "np.max(n) - np.min(n)"
   ],
   "outputs": [],
   "execution_count": null
  },
  {
   "cell_type": "markdown",
   "id": "7f292bdf",
   "metadata": {
    "id": "7f292bdf"
   },
   "source": [
    "# Quartiles"
   ]
  },
  {
   "cell_type": "code",
   "id": "f660c257",
   "metadata": {
    "id": "f660c257",
    "outputId": "943cab38-bd77-4e81-e582-91a6c21312a5"
   },
   "source": [
    "## First Quartile\n",
    "Q1=np.percentile(n,25)\n",
    "Q1"
   ],
   "outputs": [],
   "execution_count": null
  },
  {
   "cell_type": "code",
   "id": "01d02f1e",
   "metadata": {
    "id": "01d02f1e",
    "outputId": "306cedb1-060d-4c85-8c3b-a7284e60fa8b"
   },
   "source": [
    "Q2=np.percentile(n,50)\n",
    "Q2"
   ],
   "outputs": [],
   "execution_count": null
  },
  {
   "cell_type": "code",
   "id": "a7164b39",
   "metadata": {
    "id": "a7164b39",
    "outputId": "c1f13482-242f-494e-b026-85000ad32797"
   },
   "source": [
    "Q3=np.percentile(n,75)\n",
    "Q3"
   ],
   "outputs": [],
   "execution_count": null
  },
  {
   "cell_type": "markdown",
   "id": "87511a0a",
   "metadata": {
    "id": "87511a0a"
   },
   "source": [
    "# Inter Quartile Range"
   ]
  },
  {
   "cell_type": "code",
   "id": "732a63d5",
   "metadata": {
    "id": "732a63d5",
    "outputId": "eab078ad-8243-4857-ac46-2b3d395c6876"
   },
   "source": [
    "IQR=Q3-Q1\n",
    "IQR"
   ],
   "outputs": [],
   "execution_count": null
  },
  {
   "cell_type": "code",
   "id": "b8e9a32a",
   "metadata": {
    "id": "b8e9a32a",
    "outputId": "4cc0ade2-20fa-4f53-bc6c-cca78d4c88a7"
   },
   "source": [
    "population=np.random.randn(100)\n",
    "population"
   ],
   "outputs": [],
   "execution_count": null
  },
  {
   "cell_type": "code",
   "id": "c6bf40f9",
   "metadata": {
    "id": "c6bf40f9",
    "outputId": "3898f28b-6bfb-4b9e-f41b-f1aa84dec871"
   },
   "source": [
    "sample=np.random.choice(population, 20)\n",
    "sample"
   ],
   "outputs": [],
   "execution_count": null
  },
  {
   "cell_type": "code",
   "id": "8e6ff37e",
   "metadata": {
    "id": "8e6ff37e",
    "outputId": "c3ce2243-56a0-4bd1-9435-cc2ac5b3b5f5"
   },
   "source": [
    "np.var(population)"
   ],
   "outputs": [],
   "execution_count": null
  },
  {
   "cell_type": "code",
   "id": "bf8f253a",
   "metadata": {
    "id": "bf8f253a",
    "outputId": "33792749-4fb7-42bd-d60e-3284f4bae69d"
   },
   "source": [
    "np.var(sample)"
   ],
   "outputs": [],
   "execution_count": null
  },
  {
   "cell_type": "code",
   "id": "16df69cd",
   "metadata": {
    "id": "16df69cd",
    "outputId": "dbd4b9c9-a70b-4dce-dfe3-bd1f243f1d33"
   },
   "source": [
    "np.std(population)"
   ],
   "outputs": [],
   "execution_count": null
  },
  {
   "cell_type": "code",
   "id": "6f76d410",
   "metadata": {
    "id": "6f76d410",
    "outputId": "5967d1ea-ceb2-4a99-caca-ce148a37b763"
   },
   "source": [
    "np.std(sample)"
   ],
   "outputs": [],
   "execution_count": null
  },
  {
   "cell_type": "markdown",
   "id": "b7e6de94",
   "metadata": {
    "id": "b7e6de94"
   },
   "source": [
    "# Descriptive and Inferential Statistics"
   ]
  },
  {
   "cell_type": "code",
   "id": "87589dac",
   "metadata": {
    "id": "87589dac",
    "outputId": "93d46260-7990-43a6-809f-8009c5dbd983"
   },
   "source": [
    "df1=pd.DataFrame(dict(id=range(10), age=np.random.randint(18,31, size=10)))\n",
    "df1"
   ],
   "outputs": [],
   "execution_count": null
  },
  {
   "cell_type": "code",
   "id": "06fa56ff",
   "metadata": {
    "id": "06fa56ff",
    "outputId": "164597da-115b-4b8e-abc7-d1316e720fdf"
   },
   "source": [
    "df1.age.mean()"
   ],
   "outputs": [],
   "execution_count": null
  },
  {
   "cell_type": "code",
   "id": "04c4f4bd",
   "metadata": {
    "id": "04c4f4bd",
    "outputId": "c37460f1-99a0-4746-9e14-5e9813ae596f"
   },
   "source": [
    "df1.age.median()"
   ],
   "outputs": [],
   "execution_count": null
  },
  {
   "cell_type": "code",
   "id": "b7643b16",
   "metadata": {
    "id": "b7643b16",
    "outputId": "9533deb7-9cd0-4864-d0b0-293d259098ef"
   },
   "source": [
    "df1.age.mode()"
   ],
   "outputs": [],
   "execution_count": null
  },
  {
   "cell_type": "code",
   "id": "d819463c",
   "metadata": {
    "id": "d819463c",
    "outputId": "50246016-5ea6-4b00-dbae-7bb417213520"
   },
   "source": [
    "df1.age.var()"
   ],
   "outputs": [],
   "execution_count": null
  },
  {
   "cell_type": "code",
   "id": "54f3ea49",
   "metadata": {
    "id": "54f3ea49",
    "outputId": "04799e83-74ab-4e7b-ab46-0e77c969855a"
   },
   "source": [
    "df1.age.std()"
   ],
   "outputs": [],
   "execution_count": null
  },
  {
   "cell_type": "code",
   "id": "b4aa0ad7",
   "metadata": {
    "id": "b4aa0ad7",
    "outputId": "6d037f50-c019-4872-b5d4-19365f5f58e7"
   },
   "source": [
    "df1.age.max() - df1.age.min()"
   ],
   "outputs": [],
   "execution_count": null
  },
  {
   "cell_type": "code",
   "id": "da0334cd",
   "metadata": {
    "id": "da0334cd",
    "outputId": "5893f206-198d-4d7d-e2bb-daa4aef49d71"
   },
   "source": [
    "df1.boxplot(column=\"age\", return_type='axes')"
   ],
   "outputs": [],
   "execution_count": null
  },
  {
   "cell_type": "markdown",
   "id": "2605e027",
   "metadata": {
    "id": "2605e027"
   },
   "source": [
    "# Skewness and Kurtosis"
   ]
  },
  {
   "cell_type": "code",
   "id": "e6b15655",
   "metadata": {
    "id": "e6b15655",
    "outputId": "c1916fc7-1215-46af-935d-85550b084d4f"
   },
   "source": [
    "df1[\"age\"].skew()"
   ],
   "outputs": [],
   "execution_count": null
  },
  {
   "cell_type": "code",
   "id": "1681af83",
   "metadata": {
    "id": "1681af83",
    "outputId": "7ed92ead-2c04-493c-ad17-43e0ecc13b79"
   },
   "source": [
    "df1[\"age\"].kurt()"
   ],
   "outputs": [],
   "execution_count": null
  },
  {
   "cell_type": "markdown",
   "id": "f9f3d712",
   "metadata": {
    "id": "f9f3d712"
   },
   "source": [
    "# Inferential Statistics"
   ]
  },
  {
   "cell_type": "code",
   "id": "56359628",
   "metadata": {
    "id": "56359628"
   },
   "source": [
    "population=np.random.randint(10,50,1000)\n",
    "np.random.seed(10)\n",
    "estimates=[]\n",
    "for x in range(200):\n",
    "    sample=np.random.choice(a=population, size=100)\n",
    "    estimates.append(sample.mean() )\n",
    "    # The seed() method is used to initialize the random number generator."
   ],
   "outputs": [],
   "execution_count": null
  },
  {
   "cell_type": "code",
   "id": "a81a9bf3",
   "metadata": {
    "id": "a81a9bf3",
    "outputId": "206443f5-2fe1-4b41-9dbd-444b66d83efd"
   },
   "source": [
    "np.mean(population)"
   ],
   "outputs": [],
   "execution_count": null
  },
  {
   "cell_type": "code",
   "id": "d44e60b0",
   "metadata": {
    "id": "d44e60b0",
    "outputId": "4fa1062f-10f6-4346-8427-3a13a0c44950"
   },
   "source": [
    "pd.DataFrame(estimates).plot(kind=\"density\")\n",
    "plt.show()"
   ],
   "outputs": [],
   "execution_count": null
  },
  {
   "cell_type": "markdown",
   "id": "99383839",
   "metadata": {
    "id": "99383839"
   },
   "source": [
    "# Confidence Interval"
   ]
  },
  {
   "cell_type": "code",
   "id": "28e40cdb",
   "metadata": {
    "id": "28e40cdb"
   },
   "source": [
    "# C-I= (sample-mean - margin_of_error, sample-mean + margin of error)\n",
    "import scipy.stats as stats\n",
    "z_critical= stats.norm.ppf(q=0.975)\n",
    "t_critical= stats.t.ppf(q=0.975, df=24)\n",
    "margin_of_error=z_critical*(np.std(estimates)/np.sqrt(200))"
   ],
   "outputs": [],
   "execution_count": null
  },
  {
   "cell_type": "code",
   "id": "ed594a69",
   "metadata": {
    "id": "ed594a69",
    "outputId": "9ed55bc5-f266-4c59-9dec-78de841982a7"
   },
   "source": [
    "print(margin_of_error)"
   ],
   "outputs": [],
   "execution_count": null
  },
  {
   "cell_type": "code",
   "id": "81579068",
   "metadata": {
    "id": "81579068",
    "outputId": "72cc75c7-eb23-4dcf-ef1c-0a9e6de60245"
   },
   "source": [
    "# lower limit\n",
    "np.mean(estimates) - margin_of_error"
   ],
   "outputs": [],
   "execution_count": null
  },
  {
   "cell_type": "code",
   "id": "5904d31f",
   "metadata": {
    "id": "5904d31f",
    "outputId": "89ae15d9-9c3e-4c87-8167-dd6fe31a2d2b"
   },
   "source": [
    "# upper limit\n",
    "np.mean(estimates) + margin_of_error"
   ],
   "outputs": [],
   "execution_count": null
  },
  {
   "cell_type": "markdown",
   "id": "b5058974",
   "metadata": {
    "id": "b5058974"
   },
   "source": [
    "# Data Types"
   ]
  },
  {
   "cell_type": "markdown",
   "id": "a70e081b",
   "metadata": {
    "id": "a70e081b"
   },
   "source": [
    "# Discrete variable:"
   ]
  },
  {
   "cell_type": "code",
   "id": "f29f6f9a",
   "metadata": {
    "id": "f29f6f9a",
    "outputId": "915a5eaa-7d5f-4327-e505-442c7f84df0a"
   },
   "source": [
    "np.unique(np.random.randint(0,4,100))"
   ],
   "outputs": [],
   "execution_count": null
  },
  {
   "cell_type": "code",
   "id": "d1c8dc05",
   "metadata": {
    "id": "d1c8dc05",
    "outputId": "e87c9b91-2307-42d8-ed3e-0c8f9b0df83a"
   },
   "source": [
    "plt.hist(np.random.randint(0,4,100))\n",
    "plt.show()"
   ],
   "outputs": [],
   "execution_count": null
  },
  {
   "cell_type": "markdown",
   "id": "f8c5c120",
   "metadata": {
    "id": "f8c5c120"
   },
   "source": [
    "# Continous Varaible"
   ]
  },
  {
   "cell_type": "code",
   "id": "ba833bae",
   "metadata": {
    "id": "ba833bae",
    "outputId": "2cb95f83-f5d9-4836-c945-488fb935de3d"
   },
   "source": [
    "mu=20\n",
    "sigma=2\n",
    "h=sorted(np.random.normal(mu, sigma, 100))\n",
    "abs(20 - np.mean(h)) <2 # for verification"
   ],
   "outputs": [],
   "execution_count": null
  },
  {
   "cell_type": "code",
   "id": "7cefc473",
   "metadata": {
    "id": "7cefc473",
    "outputId": "19140c7d-a026-4cf6-bb5b-1552431c81a1"
   },
   "source": [
    "plt.hist(h, 30, density=True)\n",
    "plt.show()"
   ],
   "outputs": [],
   "execution_count": null
  },
  {
   "cell_type": "code",
   "id": "d9c3a7ad",
   "metadata": {
    "id": "d9c3a7ad",
    "outputId": "add69ae9-6f68-4f21-cd9b-265318ab46a4"
   },
   "source": [
    "# another way\n",
    "plt.figure(figsize=(10,5))\n",
    "fit= stats.norm.pdf(h, np.mean(h), np.std(h))\n",
    "plt.plot(h, fit, '-o')\n",
    "plt.hist(h, density=True)\n",
    "plt.show()"
   ],
   "outputs": [],
   "execution_count": null
  },
  {
   "cell_type": "markdown",
   "id": "f4e5fca2",
   "metadata": {
    "id": "f4e5fca2"
   },
   "source": [
    "# Catagorical Data"
   ]
  },
  {
   "cell_type": "code",
   "id": "15036c98",
   "metadata": {
    "id": "15036c98",
    "outputId": "577bdc02-f820-4e05-b1c2-95ca51829b88"
   },
   "source": [
    "data=pd.DataFrame({'group':['a', 'a', 'a', 'b', 'b', 'b', 'c', 'c', 'c'], 'ounces':[4, 5, 3, 12, 6, 2, 6, 8, 3]})\n",
    "data"
   ],
   "outputs": [],
   "execution_count": null
  },
  {
   "cell_type": "code",
   "id": "264d50a9",
   "metadata": {
    "id": "264d50a9",
    "outputId": "e117e9a4-1240-4a43-d002-7bbf5fed3227"
   },
   "source": [
    "plt.hist(data.group)\n",
    "plt.show()"
   ],
   "outputs": [],
   "execution_count": null
  },
  {
   "cell_type": "markdown",
   "id": "673a1b6c",
   "metadata": {
    "id": "673a1b6c"
   },
   "source": [
    "# Nominal Data"
   ]
  },
  {
   "cell_type": "code",
   "id": "ab6488ca",
   "metadata": {
    "id": "ab6488ca"
   },
   "source": [
    "data['rating']=np.random.randint(0,5, 9)"
   ],
   "outputs": [],
   "execution_count": null
  },
  {
   "cell_type": "code",
   "id": "6c089b25",
   "metadata": {
    "id": "6c089b25",
    "outputId": "ba68a870-3d88-4ed0-a54c-40f8d8c3ccb8"
   },
   "source": [
    "data"
   ],
   "outputs": [],
   "execution_count": null
  },
  {
   "cell_type": "code",
   "id": "7643a517",
   "metadata": {
    "id": "7643a517",
    "outputId": "33fc658c-9592-4745-f89f-33bbb5175390"
   },
   "source": [
    "data.plot.bar(stacked=True)\n",
    "plt.show()"
   ],
   "outputs": [],
   "execution_count": null
  },
  {
   "cell_type": "markdown",
   "id": "93789f9e",
   "metadata": {
    "id": "93789f9e"
   },
   "source": [
    "# Data Visulization"
   ]
  },
  {
   "cell_type": "code",
   "id": "c848b5b7",
   "metadata": {
    "id": "c848b5b7",
    "outputId": "3e97b696-1aec-4346-8af3-3386314cb4b4"
   },
   "source": [
    "# Scatter Plot\n",
    "plt.scatter(np.linspace(-1, 1, 50), np.random.randn(50))\n",
    "plt.show()"
   ],
   "outputs": [],
   "execution_count": null
  },
  {
   "cell_type": "code",
   "id": "a86b6400",
   "metadata": {
    "id": "a86b6400",
    "outputId": "fc96be5c-9bb0-4c5d-ccc4-a569437c3b74"
   },
   "source": [
    "df=pd.read_csv(\"population_by_country_2020.csv\")\n",
    "df.head()"
   ],
   "outputs": [],
   "execution_count": null
  },
  {
   "cell_type": "code",
   "id": "351827af",
   "metadata": {
    "id": "351827af",
    "outputId": "c4ff147f-e42e-4681-e4c6-e0d96296d159"
   },
   "source": [
    "df.head(10).plot.barh('Country (or dependency)', 'Population (2020)')\n",
    "plt.show()"
   ],
   "outputs": [],
   "execution_count": null
  },
  {
   "cell_type": "code",
   "id": "6a6eea87",
   "metadata": {
    "id": "6a6eea87",
    "outputId": "d28665fa-1989-4aa7-df21-35509cc95ea0"
   },
   "source": [
    "df2=pd.read_csv(\"train.csv\")\n",
    "df2.head()"
   ],
   "outputs": [],
   "execution_count": null
  },
  {
   "cell_type": "code",
   "id": "c458ac4b",
   "metadata": {
    "id": "c458ac4b",
    "outputId": "e3a34c44-8293-4761-c0e5-52b7c85c334e"
   },
   "source": [
    "df2.groupby('Sex').Survived.sum().plot(kind='bar')\n",
    "plt.show()"
   ],
   "outputs": [],
   "execution_count": null
  },
  {
   "cell_type": "code",
   "id": "bcf8eb78",
   "metadata": {
    "id": "bcf8eb78",
    "outputId": "28e3cd69-06d1-4506-8708-0f52f26d5788"
   },
   "source": [
    "df2.boxplot(column='Fare', by='Pclass', grid=False)\n",
    "plt.show()"
   ],
   "outputs": [],
   "execution_count": null
  },
  {
   "cell_type": "code",
   "id": "a363e8fb",
   "metadata": {
    "id": "a363e8fb",
    "outputId": "e749a253-ec95-4d67-9efb-681c22bd3662"
   },
   "source": [
    "df2.Fare.hist(bins=30)\n",
    "plt.show()"
   ],
   "outputs": [],
   "execution_count": null
  },
  {
   "cell_type": "code",
   "id": "4d42158f",
   "metadata": {
    "id": "4d42158f",
    "outputId": "75f41d7e-d0a7-418b-b5b2-527e06b25e2c"
   },
   "source": [
    "df2.Fare.dropna().plot(kind='kde', xlim=(0, 600))\n",
    "plt.show()"
   ],
   "outputs": [],
   "execution_count": null
  },
  {
   "cell_type": "markdown",
   "id": "013fa3de",
   "metadata": {
    "id": "013fa3de"
   },
   "source": [
    "# Seaborn Library Visulizations"
   ]
  },
  {
   "cell_type": "code",
   "id": "650de66f",
   "metadata": {
    "id": "650de66f",
    "outputId": "31b27874-5d1d-4486-b30f-774be8072506"
   },
   "source": [
    "import matplotlib.pyplot as plt\n",
    "import seaborn as sns\n",
    "sns.set()\n",
    "sns.countplot(x='Sex', data=df2)\n",
    "plt.show()"
   ],
   "outputs": [],
   "execution_count": null
  },
  {
   "cell_type": "code",
   "id": "c8ac06e4",
   "metadata": {
    "id": "c8ac06e4",
    "outputId": "d1ef0223-05b1-4624-ece8-468b6b195880"
   },
   "source": [
    "sns.barplot(x='Sex', y='Survived', data=df2)\n",
    "plt.show()"
   ],
   "outputs": [],
   "execution_count": null
  },
  {
   "cell_type": "code",
   "id": "003ac433",
   "metadata": {
    "id": "003ac433",
    "outputId": "492ba548-2d1f-422f-80fe-523f5de6f32a"
   },
   "source": [
    "sns.boxplot(x='Sex', y='Age', data=df2, palette='rainbow')\n",
    "plt.show()"
   ],
   "outputs": [],
   "execution_count": null
  },
  {
   "cell_type": "code",
   "id": "4e364c00",
   "metadata": {
    "id": "4e364c00",
    "outputId": "34c08be6-d99b-4ac8-f69c-73e6d57f1b13"
   },
   "source": [
    "sns.boxplot(data=df2, palette='rainbow', orient='h')\n",
    "plt.show()"
   ],
   "outputs": [],
   "execution_count": null
  },
  {
   "cell_type": "code",
   "id": "953dc574",
   "metadata": {
    "id": "953dc574",
    "outputId": "575c6641-52f9-4375-fcc1-b39ddd9c6f52"
   },
   "source": [
    "sns.stripplot(x='Pclass', y=\"Fare\", data=df2)\n",
    "plt.show()"
   ],
   "outputs": [],
   "execution_count": null
  },
  {
   "cell_type": "code",
   "id": "b4649363",
   "metadata": {
    "id": "b4649363",
    "outputId": "e5345b83-a717-4042-e1ec-18d5d99c9b4e"
   },
   "source": [
    "sns.swarmplot(x='Pclass', y='Fare', data=df2)\n",
    "plt.show()"
   ],
   "outputs": [],
   "execution_count": null
  },
  {
   "cell_type": "code",
   "id": "138f0aef",
   "metadata": {
    "id": "138f0aef",
    "outputId": "afc76ae8-ed01-4ab7-e53b-be92b3403493"
   },
   "source": [
    "sns.swarmplot(x='Pclass', y='Fare', hue='Sex', data=df2)\n",
    "plt.show()"
   ],
   "outputs": [],
   "execution_count": null
  },
  {
   "cell_type": "code",
   "id": "41dc2dd3",
   "metadata": {
    "id": "41dc2dd3",
    "outputId": "e1032497-10c1-4d4f-80ae-4e684f07c5c8"
   },
   "source": [
    "iris=sns.load_dataset('iris')\n",
    "iris.head()"
   ],
   "outputs": [],
   "execution_count": null
  },
  {
   "cell_type": "code",
   "id": "f01d0d5a",
   "metadata": {
    "id": "f01d0d5a",
    "outputId": "d37fc867-440f-4234-abf4-3fe1d08b6461"
   },
   "source": [
    "sns.heatmap(iris.corr())\n",
    "plt.show()"
   ],
   "outputs": [],
   "execution_count": null
  },
  {
   "cell_type": "code",
   "id": "1cd9dd5b",
   "metadata": {
    "id": "1cd9dd5b",
    "outputId": "03545b2d-ab12-4146-8add-f197925d2aad"
   },
   "source": [
    "sns.heatmap(iris.corr(), cmap='coolwarm', annot=True)\n",
    "plt.show()"
   ],
   "outputs": [],
   "execution_count": null
  },
  {
   "cell_type": "code",
   "id": "fc0885b4",
   "metadata": {
    "id": "fc0885b4",
    "outputId": "e26e536b-390d-4afe-9f27-1d48b0877bc3"
   },
   "source": [
    "tips= sns.load_dataset('tips')\n",
    "tips.head()"
   ],
   "outputs": [],
   "execution_count": null
  },
  {
   "cell_type": "code",
   "id": "71fe243e",
   "metadata": {
    "id": "71fe243e",
    "outputId": "cb58fd92-832f-4375-ccb3-7ba9c6071097"
   },
   "source": [
    "sns.distplot(tips.total_bill)\n",
    "plt.show()"
   ],
   "outputs": [],
   "execution_count": null
  },
  {
   "cell_type": "code",
   "id": "5c55d553",
   "metadata": {
    "id": "5c55d553",
    "outputId": "81243e40-280c-418d-85b5-329c353915c6"
   },
   "source": [
    "sns.pairplot(tips, hue='sex', palette='husl')\n",
    "plt.show()"
   ],
   "outputs": [],
   "execution_count": null
  },
  {
   "cell_type": "code",
   "id": "f2ab1a66",
   "metadata": {
    "id": "f2ab1a66",
    "outputId": "3a987830-579f-41d2-efff-eed166e24d3a"
   },
   "source": [
    "sns.lmplot(x='petal_length', y='petal_width', data=iris)\n",
    "plt.show()"
   ],
   "outputs": [],
   "execution_count": null
  },
  {
   "cell_type": "code",
   "id": "22c15828",
   "metadata": {
    "id": "22c15828",
    "outputId": "bd99a12c-c933-4bd4-d09f-0138d29578ab"
   },
   "source": [
    "sns.lmplot(x='sepal_length', y='petal_width', data=iris)\n",
    "plt.show()"
   ],
   "outputs": [],
   "execution_count": null
  },
  {
   "cell_type": "markdown",
   "id": "599a8882",
   "metadata": {
    "id": "599a8882"
   },
   "source": [
    "# Regression"
   ]
  },
  {
   "cell_type": "code",
   "id": "b1e59c51",
   "metadata": {
    "id": "b1e59c51"
   },
   "source": [
    "Area=[2600, 3000, 3200, 3600, 4000]\n",
    "Price=[550000, 565000, 610000, 680000, 725000]"
   ],
   "outputs": [],
   "execution_count": null
  },
  {
   "cell_type": "code",
   "id": "15a4500e",
   "metadata": {
    "id": "15a4500e",
    "outputId": "08349a4c-7679-461a-bc62-57cc91b1fe33"
   },
   "source": [
    "print(Area)\n",
    "print(Price)"
   ],
   "outputs": [],
   "execution_count": null
  },
  {
   "cell_type": "code",
   "id": "c0945e88",
   "metadata": {
    "id": "c0945e88"
   },
   "source": [
    "from sklearn import linear_model\n",
    "import pandas as pd\n",
    "import matplotlib.pyplot as plt"
   ],
   "outputs": [],
   "execution_count": null
  },
  {
   "cell_type": "code",
   "id": "520b2365",
   "metadata": {
    "id": "520b2365",
    "outputId": "bf53ff91-bead-4b40-9265-d500c969e9a5"
   },
   "source": [
    "df=pd.DataFrame({'Area':[2600, 3000, 3200, 3600, 4000], 'Prices':[550000, 565000, 610000, 680000, 725000]})\n",
    "df"
   ],
   "outputs": [],
   "execution_count": null
  },
  {
   "cell_type": "code",
   "id": "785087fc",
   "metadata": {
    "id": "785087fc",
    "outputId": "4042ad31-f97b-4513-980f-9c44e4551f58"
   },
   "source": [
    "plt.scatter(df.Area, df.Prices, color='red', marker='+')\n",
    "plt.xlabel('Area in sq-fit')\n",
    "plt.ylabel('Prices')\n",
    "plt.show()"
   ],
   "outputs": [],
   "execution_count": null
  },
  {
   "cell_type": "code",
   "id": "d43e4e01",
   "metadata": {
    "id": "d43e4e01",
    "outputId": "ae1b342d-b3db-401b-fde2-37919426d3d6"
   },
   "source": [
    "# creating an object for linear regression\n",
    "reg= linear_model.LinearRegression()\n",
    "reg.fit(df[['Area']], df.Prices)"
   ],
   "outputs": [],
   "execution_count": null
  },
  {
   "cell_type": "code",
   "id": "39e93265",
   "metadata": {
    "id": "39e93265",
    "outputId": "a22e3762-fe83-4911-8f9b-10261cf209aa"
   },
   "source": [
    "reg.predict([[3300]])"
   ],
   "outputs": [],
   "execution_count": null
  },
  {
   "cell_type": "code",
   "id": "6652ecf2",
   "metadata": {
    "id": "6652ecf2",
    "outputId": "1ed3ee26-957f-485a-fee0-be56163d3fc0"
   },
   "source": [
    "reg.coef_"
   ],
   "outputs": [],
   "execution_count": null
  },
  {
   "cell_type": "code",
   "id": "2261098e",
   "metadata": {
    "id": "2261098e",
    "outputId": "260ed8c5-c62f-436f-894b-da32e44db063"
   },
   "source": [
    "reg.intercept_"
   ],
   "outputs": [],
   "execution_count": null
  },
  {
   "cell_type": "code",
   "id": "b2c3412e",
   "metadata": {
    "id": "b2c3412e",
    "outputId": "3ab82e69-ceb2-48f2-fd25-c52a70b4e9ae"
   },
   "source": [
    "# y=m*x+c\n",
    "y=135.78767123*3300+180616.43835616432\n",
    "y"
   ],
   "outputs": [],
   "execution_count": null
  },
  {
   "cell_type": "code",
   "id": "915e8c4c",
   "metadata": {
    "id": "915e8c4c",
    "outputId": "897fbd67-befe-42ac-d360-056834ba3b4e"
   },
   "source": [
    "plt.scatter(df.Area, df.Prices, color='red', marker='+')\n",
    "plt.xlabel('Area in sq-fit')\n",
    "plt.ylabel('Prices')\n",
    "plt.plot(df.Area, reg.predict(df[['Area']]),color='blue')\n",
    "plt.show()"
   ],
   "outputs": [],
   "execution_count": null
  },
  {
   "cell_type": "markdown",
   "id": "0cf8f1c8",
   "metadata": {
    "id": "0cf8f1c8"
   },
   "source": [
    "# Multiple Linear Regression"
   ]
  },
  {
   "cell_type": "code",
   "id": "113edb5d",
   "metadata": {
    "id": "113edb5d",
    "outputId": "b4335bdc-619c-4abd-91d5-ef7823a39d1f"
   },
   "source": [
    "df1=pd.DataFrame({'Area':[2600, 3000, 3200, 3600, 4000], 'Bedrooms':[3, 4, 3, 4, 5], 'Age':[20, 15, 18, 30, 8], 'Prices':[550000, 565000, 610000, 680000, 725000]})\n",
    "df1"
   ],
   "outputs": [],
   "execution_count": null
  },
  {
   "cell_type": "code",
   "id": "2d5b5f87",
   "metadata": {
    "id": "2d5b5f87",
    "outputId": "facca801-7612-4e32-8470-5cc2b534372f"
   },
   "source": [
    "regression=linear_model.LinearRegression()\n",
    "regression.fit(df1[['Area', 'Bedrooms', 'Age']], df.Prices)"
   ],
   "outputs": [],
   "execution_count": null
  },
  {
   "cell_type": "code",
   "id": "6a8dc779",
   "metadata": {
    "id": "6a8dc779",
    "outputId": "d6d1a8d4-fb93-46a0-aca6-f3f1700bbe4c"
   },
   "source": [
    "regression.coef_"
   ],
   "outputs": [],
   "execution_count": null
  },
  {
   "cell_type": "code",
   "id": "f306a86a",
   "metadata": {
    "id": "f306a86a",
    "outputId": "db542a92-1818-436e-b8cc-12672414a4a5"
   },
   "source": [
    "regression.intercept_"
   ],
   "outputs": [],
   "execution_count": null
  },
  {
   "cell_type": "code",
   "id": "ccc5a606",
   "metadata": {
    "id": "ccc5a606",
    "outputId": "c442d50e-7b81-4e34-eac0-cf540fd93b6e"
   },
   "source": [
    "regression.predict([[4500, 5, 2]])"
   ],
   "outputs": [],
   "execution_count": null
  },
  {
   "cell_type": "code",
   "id": "4b3f9d3a",
   "metadata": {
    "id": "4b3f9d3a",
    "outputId": "ac781b35-30a8-40e9-9f4b-df1b986875c2"
   },
   "source": [
    "df1.corr()"
   ],
   "outputs": [],
   "execution_count": null
  },
  {
   "cell_type": "code",
   "id": "6f0026c4",
   "metadata": {
    "id": "6f0026c4",
    "outputId": "93b3c317-8eb9-4da4-f1ac-a38d60c5156d"
   },
   "source": [
    "import seaborn as sns\n",
    "sns.heatmap(df1.corr(), cmap='coolwarm', annot=True)\n",
    "plt.show()"
   ],
   "outputs": [],
   "execution_count": null
  },
  {
   "cell_type": "markdown",
   "id": "1f3ec0ff",
   "metadata": {
    "id": "1f3ec0ff"
   },
   "source": [
    "# Logistic Regression"
   ]
  },
  {
   "cell_type": "raw",
   "id": "2896dd47",
   "metadata": {
    "id": "2896dd47"
   },
   "source": [
    "One example of a built-in dataset in Python that we can use for logistic regression is the Iris dataset from scikit-learn. This dataset contains information about three different species of Iris flowers, and we can use logistic regression to classify new flowers based on their measurements.\n",
    "\n",
    "Here's an example of how to load the Iris dataset, split it into training and testing sets, and apply logistic regression using scikit-learn:"
   ]
  },
  {
   "cell_type": "code",
   "id": "b7327241",
   "metadata": {
    "id": "b7327241",
    "outputId": "0a5d8dbf-fa5e-44b1-ebea-19c728038c3d"
   },
   "source": [
    "from sklearn.datasets import load_iris\n",
    "from sklearn.model_selection import train_test_split\n",
    "from sklearn.linear_model import LogisticRegression\n",
    "\n",
    "# Load the Iris dataset\n",
    "iris = load_iris()\n",
    "\n",
    "# Split the dataset into training and testing sets\n",
    "X_train, X_test, y_train, y_test = train_test_split(iris.data, iris.target, random_state=0)\n",
    "\n",
    "# Create a logistic regression model\n",
    "lr = LogisticRegression()\n",
    "\n",
    "# Fit the model to the training data\n",
    "lr.fit(X_train, y_train)\n",
    "\n",
    "# Predict the species of the test data\n",
    "y_pred = lr.predict(X_test)\n",
    "\n",
    "# Calculate the accuracy of the model\n",
    "accuracy = lr.score(X_test, y_test)\n",
    "print(f\"Accuracy: {accuracy}\")\n"
   ],
   "outputs": [],
   "execution_count": null
  },
  {
   "cell_type": "raw",
   "id": "c4e35920",
   "metadata": {
    "id": "c4e35920"
   },
   "source": [
    "This code loads the Iris dataset using scikit-learn's load_iris function. We then split the dataset into training and testing sets using the train_test_split function. We create a logistic regression model using the LogisticRegression class, and fit the model to the training data using the fit method. We then predict the species of the test data using the predict method, and calculate the accuracy of the model using the score method.\n",
    "\n",
    "This code should output the accuracy of the logistic regression model on the test data. Note that the accuracy may vary slightly each time you run the code due to the random splitting of the data."
   ]
  },
  {
   "cell_type": "raw",
   "id": "01e3224d",
   "metadata": {
    "id": "01e3224d"
   },
   "source": [
    "let's continue with some additional steps to evaluate the performance of our logistic regression model on the Iris dataset.\n",
    "\n",
    "First, we can print out the classification report, which shows us some additional metrics such as precision, recall, and F1-score:"
   ]
  },
  {
   "cell_type": "code",
   "id": "1c102b58",
   "metadata": {
    "id": "1c102b58",
    "outputId": "91d3f534-0090-48bf-e3fa-b28c538bb369"
   },
   "source": [
    "from sklearn.metrics import classification_report\n",
    "\n",
    "# Print the classification report\n",
    "print(classification_report(y_test, y_pred, target_names=iris.target_names))"
   ],
   "outputs": [],
   "execution_count": null
  },
  {
   "cell_type": "raw",
   "id": "450ab7d5",
   "metadata": {
    "id": "450ab7d5"
   },
   "source": [
    "This code uses scikit-learn's classification_report function to print out the classification report for our model. The target_names parameter is used to provide labels for each class.\n",
    "\n",
    "We can also create a confusion matrix to visualize how our model is performing:"
   ]
  },
  {
   "cell_type": "code",
   "id": "e761bd2a",
   "metadata": {
    "id": "e761bd2a",
    "outputId": "7a9528f1-6f83-40a6-ad8d-095d2c9684db"
   },
   "source": [
    "from sklearn.metrics import confusion_matrix\n",
    "import seaborn as sns\n",
    "\n",
    "# Create a confusion matrix\n",
    "cm = confusion_matrix(y_test, y_pred)\n",
    "\n",
    "# Plot the confusion matrix\n",
    "sns.heatmap(cm, annot=True, cmap=\"Blues\", xticklabels=iris.target_names, yticklabels=iris.target_names)\n",
    "plt.show()"
   ],
   "outputs": [],
   "execution_count": null
  },
  {
   "cell_type": "raw",
   "id": "02116f6f",
   "metadata": {
    "id": "02116f6f"
   },
   "source": [
    "This code uses scikit-learn's confusion_matrix function to create a confusion matrix for our model. We then use the heatmap function from the seaborn library to plot the confusion matrix."
   ]
  },
  {
   "cell_type": "markdown",
   "id": "bd0abe84",
   "metadata": {
    "id": "bd0abe84"
   },
   "source": [
    "# Types of Simple Logistic Regression"
   ]
  },
  {
   "cell_type": "markdown",
   "id": "043e6f8d",
   "metadata": {
    "id": "043e6f8d"
   },
   "source": [
    "# Probit Regression"
   ]
  },
  {
   "cell_type": "raw",
   "id": "2d008d78",
   "metadata": {
    "id": "2d008d78"
   },
   "source": [
    "To apply a probit regression model to a built-in Python dataset, we first need to import the necessary libraries. We will be using the \"statsmodels\" library to build the probit regression model, and the \"sklearn\" library to split our data into training and testing sets.\n",
    "\n",
    "Here is an example of how to apply probit regression to the \"iris\" dataset, which is a built-in dataset in the \"sklearn\" library:"
   ]
  },
  {
   "cell_type": "code",
   "id": "d468e19b",
   "metadata": {
    "id": "d468e19b"
   },
   "source": [
    "import numpy as np\n",
    "from sklearn.model_selection import train_test_split\n",
    "from sklearn.datasets import load_boston\n",
    "import statsmodels.api as sm"
   ],
   "outputs": [],
   "execution_count": null
  },
  {
   "cell_type": "code",
   "id": "6d7448ea",
   "metadata": {
    "id": "6d7448ea",
    "outputId": "452773e9-d190-44d4-a9c7-a9f2a0b53848"
   },
   "source": [
    "# Load the Boston Housing dataset\n",
    "boston = load_boston()\n",
    "X = boston.data\n",
    "y = boston.target"
   ],
   "outputs": [],
   "execution_count": null
  },
  {
   "cell_type": "code",
   "id": "38ad788e",
   "metadata": {
    "id": "38ad788e"
   },
   "source": [
    "# Split the data into training and testing sets\n",
    "X_train, X_test, y_train, y_test = train_test_split(X, y, test_size=0.2, random_state=42)"
   ],
   "outputs": [],
   "execution_count": null
  },
  {
   "cell_type": "code",
   "id": "80f991b8",
   "metadata": {
    "id": "80f991b8",
    "outputId": "eb323e75-492d-46cc-dfa4-31e206737b86"
   },
   "source": [
    "# Fit a probit regression model\n",
    "probit_model = sm.Probit(y_train > np.median(y_train), X_train)\n",
    "probit_results = probit_model.fit()"
   ],
   "outputs": [],
   "execution_count": null
  },
  {
   "cell_type": "code",
   "id": "3bf6df29",
   "metadata": {
    "id": "3bf6df29",
    "outputId": "9d036184-d438-4cd8-fe76-19f5dfb93642"
   },
   "source": [
    "# Print the summary of the probit regression model\n",
    "print(probit_results.summary())"
   ],
   "outputs": [],
   "execution_count": null
  },
  {
   "cell_type": "raw",
   "id": "261f6255",
   "metadata": {
    "id": "261f6255"
   },
   "source": [
    "In this example, we load the Boston Housing dataset and split it into training and testing sets. We then fit a probit regression model using the Probit class from statsmodels. Since the Boston Housing dataset is a regression problem, we convert it to a binary classification problem by using the median of the target variable as a threshold to classify the instances as either above or below the median. We fit the probit model on the training data using the fit method of the Probit object. Finally, we print the summary of the probit regression model using the summary method of the fit results object."
   ]
  },
  {
   "cell_type": "raw",
   "id": "3b702b9a",
   "metadata": {
    "id": "3b702b9a"
   },
   "source": [
    "The above summary shows the estimated coefficients, standard errors, z-scores, and p-values for each predictor variable in the model.\n",
    "\n",
    "The \"coef\" column represents the estimated effect of each predictor variable on the probability of the binary response variable being 1 (as opposed to 0). For example, the estimated coefficient of -0.1862 for \"x1\" means that a one-unit increase in \"x1\" is associated with a decrease in the probability of the response variable being 1.\n",
    "\n",
    "The \"std err\" column represents the standard error of the estimated coefficients. The larger the standard error, the less precise the estimated coefficient is.\n",
    "\n",
    "The \"z\" column represents the z-score of the estimated coefficients. The z-score is the estimated coefficient divided by its standard error. A larger absolute z-score indicates a more significant effect of the predictor variable on the response variable.\n",
    "\n",
    "The \"P>|z|\" column represents the p-value associated with the null hypothesis that the estimated coefficient is zero (i.e., that the predictor variable has no effect on the response variable). A p-value less than 0.05 is commonly used as a threshold for statistical significance, indicating that the estimated coefficient is significantly different from zero at the 5% level of significance.\n",
    "\n",
    "The \"LLR p-value\" represents the p-value associated with the likelihood ratio test for the overall significance of the model. A small p-value (e.g., less than 0.05) indicates that the model as a whole is statistically significant in predicting the response variable.\n",
    "The \"Pseudo R-squared\" column represents a measure of how well the model fits the data, similar to the R-squared value in linear regression. In probit regression, there are several different measures of pseudo R-squared that can be used. The one shown in this example is called the McFadden's R-squared, which ranges from 0 to 1 and represents the proportional reduction in the log-likelihood of the null model (i.e., a model with only an intercept term) due to the addition of the predictor variables.\n",
    "\n",
    "Overall, the interpretation of the results of a probit regression model is similar to that of other types of regression models. The coefficients represent the estimated effects of the predictor variables on the response variable, and the p-values indicate the statistical significance of these effects. The pseudo R-squared value provides a measure of the overall goodness of fit of the model."
   ]
  },
  {
   "cell_type": "markdown",
   "id": "7e7bb9cf",
   "metadata": {
    "id": "7e7bb9cf"
   },
   "source": [
    "# Exact Regression"
   ]
  },
  {
   "cell_type": "code",
   "id": "32049f71",
   "metadata": {
    "id": "32049f71",
    "outputId": "219b885a-8197-4fe1-e546-52816c5373bc"
   },
   "source": [
    "from sklearn.datasets import load_boston\n",
    "from scipy.stats import linregress\n",
    "\n",
    "# Load the Boston housing dataset\n",
    "boston = load_boston()\n",
    "\n",
    "# Split the data into independent (X) and dependent (y) variables\n",
    "X = boston.data[:, 5]  # Use only one feature for simplicity (average number of rooms per dwelling)\n",
    "y = boston.target\n",
    "\n",
    "# Perform exact regression using linregress\n",
    "slope, intercept, r_value, p_value, std_err = linregress(X, y)\n",
    "\n",
    "# Print the results\n",
    "print(\"Slope:\", slope)\n",
    "print(\"Intercept:\", intercept)\n",
    "print(\"R-squared value:\", r_value**2)\n",
    "print(\"P-value:\", p_value)\n",
    "print(\"Standard error:\", std_err)"
   ],
   "outputs": [],
   "execution_count": null
  },
  {
   "cell_type": "raw",
   "id": "bcc52ff6",
   "metadata": {
    "id": "bcc52ff6"
   },
   "source": [
    "In this example, we load the Boston housing dataset using the load_boston function from the sklearn.datasets module. We then extract the feature we want to use as the independent variable (X) and the target variable (y).\n",
    "\n",
    "Next, we use the linregress function from the scipy.stats module to perform exact regression. This function returns the slope, intercept, R-squared value, p-value, and standard error of the regression line.\n",
    "\n",
    "Finally, we print out the results. The R-squared value tells us how well the regression line fits the data, with a value of 1 indicating a perfect fit. The p-value tells us the probability that the observed relationship between X and y is due to chance rather than a true relationship. The standard error gives us an estimate of the variability of the regression line."
   ]
  },
  {
   "cell_type": "markdown",
   "id": "22c66b29",
   "metadata": {
    "id": "22c66b29"
   },
   "source": [
    "# Tobit Regression"
   ]
  },
  {
   "cell_type": "code",
   "id": "bb6a55e3",
   "metadata": {
    "id": "bb6a55e3",
    "outputId": "99543be2-309b-4ac2-cf88-49d1b0b8355b"
   },
   "source": [
    "import numpy as np\n",
    "import statsmodels.api as sm\n",
    "from sklearn.datasets import load_boston\n",
    "\n",
    "# Load the Boston housing dataset\n",
    "boston = load_boston()\n",
    "\n",
    "# Split the data into independent (X) and dependent (y) variables\n",
    "X = boston.data[:, 5]  # Use only one feature for simplicity (average number of rooms per dwelling)\n",
    "y = boston.target\n",
    "\n",
    "# Set up the tobit model\n",
    "X_censored = np.maximum(X, 0)  # Left-censor the data\n",
    "X_censored = sm.add_constant(X_censored)\n",
    "y_censored = np.where(y > 0, y, 0)  # Left-censor the data\n",
    "model = sm.OLS(y_censored, X_censored)\n",
    "\n",
    "# Perform tobit regression\n",
    "results = model.fit()\n",
    "\n",
    "# Print the results\n",
    "print(results.summary())"
   ],
   "outputs": [],
   "execution_count": null
  },
  {
   "cell_type": "raw",
   "id": "bb85ee69",
   "metadata": {
    "id": "bb85ee69"
   },
   "source": [
    "In this example, we load the Boston housing dataset using the load_boston function from the sklearn.datasets module. We then extract the feature we want to use as the independent variable (X) and the target variable (y).\n",
    "\n",
    "Next, we set up the tobit model by left-censoring the data. We use the maximum function from the numpy module to set any negative values in X to 0, which represents the left-censored data. We also use the add_constant function from the statsmodels.api module to add a column of ones to X_censored, which is needed to estimate the intercept in the tobit regression. We left-censor the target variable y by setting any negative values to 0 and using the where function from numpy.\n",
    "\n",
    "Finally, we use the fit method of the statsmodels.regression.linear_model.OLS object to perform tobit regression. We pass in the left-censored independent variable X_censored and left-censored dependent variable y_censored. The results object contains the results of the regression.\n",
    "\n",
    "We can print out the summary of the results using the summary method of the results object, which includes information about the coefficients, standard errors, t-statistics, and p-values for the regression, as well as information about the log-likelihood and AIC of the model."
   ]
  },
  {
   "cell_type": "markdown",
   "id": "5ca93259",
   "metadata": {
    "id": "5ca93259"
   },
   "source": [
    "# Firth Regression"
   ]
  },
  {
   "cell_type": "raw",
   "id": "c7494475",
   "metadata": {
    "id": "c7494475"
   },
   "source": [
    "Firth regression is a type of logistic regression that corrects for bias that can occur when there are separation or complete separation in the data. This can happen when one or more predictor variables perfectly predict the outcome variable, causing the logistic regression to fail.\n",
    "\n",
    "In Python, statsmodels is a package that provides tools for statistical modeling, including logistic regression. However, the LogitFirth method that was previously used for Firth regression is no longer available in newer versions of statsmodels.\n",
    "\n",
    "Instead, you can use the smf.logit function from the statsmodels.formula.api module to set up the logistic regression model with a formula, which is a shorthand notation for specifying the relationship between the predictor variable (x) and the binary target variable (y_binary).\n",
    "\n",
    "To fit the logistic regression model using Firth's bias correction, you can use the fit_regularized method with the argument method='l1', which applies L1 regularization (also known as Lasso regression) with an L1 penalty.\n",
    "\n",
    "Once the logistic regression model is fit, you can use the summary method to view the results, which includes information about the coefficients, standard errors, z-statistics, p-values, and more."
   ]
  },
  {
   "cell_type": "code",
   "id": "b6efd0d9",
   "metadata": {
    "id": "b6efd0d9",
    "outputId": "d0085921-9980-4de8-f0bd-87ea087a56fe"
   },
   "source": [
    "import statsmodels.formula.api as smf\n",
    "from sklearn.datasets import load_boston\n",
    "\n",
    "# Load the Boston housing dataset\n",
    "boston = load_boston()\n",
    "\n",
    "# Split the data into independent (X) and dependent (y) variables\n",
    "X = boston.data[:, 5]  # Use only one feature for simplicity (average number of rooms per dwelling)\n",
    "y = boston.target\n",
    "\n",
    "# Set up the formula for the logistic regression model\n",
    "formula = 'y_binary ~ x + 0'\n",
    "\n",
    "# Convert y to binary based on the median value\n",
    "y_binary = (y > np.median(y)).astype(int)\n",
    "\n",
    "# Fit the logistic regression model using L1 regularization\n",
    "results = smf.logit(formula, {'y_binary': y_binary, 'x': X}).fit_regularized(method='l1')\n",
    "\n",
    "# Print the results\n",
    "print(results.summary())"
   ],
   "outputs": [],
   "execution_count": null
  },
  {
   "cell_type": "markdown",
   "id": "b0811802",
   "metadata": {
    "id": "b0811802"
   },
   "source": [
    "# Poisson Logistic Regression"
   ]
  },
  {
   "cell_type": "code",
   "id": "18b38f65",
   "metadata": {
    "id": "18b38f65",
    "outputId": "8466785b-7c87-4ee0-ef65-48ef389658c1"
   },
   "source": [
    "import statsmodels.api as sm\n",
    "from statsmodels.discrete.count_model import ZeroInflatedPoisson\n",
    "\n",
    "# Load the cpunish dataset from statsmodels\n",
    "data = sm.datasets.cpunish.load()\n",
    "\n",
    "# Split the data into independent (X) and dependent (y) variables\n",
    "X = data.exog\n",
    "y = data.endog\n",
    "\n",
    "# Fit the Poisson logistic regression model\n",
    "zip_model = ZeroInflatedPoisson(y, X)\n",
    "zip_result = zip_model.fit()\n",
    "\n",
    "# Print the model summary\n",
    "print(zip_result.summary())"
   ],
   "outputs": [],
   "execution_count": null
  },
  {
   "cell_type": "raw",
   "id": "c13b069d",
   "metadata": {
    "id": "c13b069d"
   },
   "source": [
    "In this example, we load the cpunish dataset using the sm.datasets.cpunish.load() function from the statsmodels package. This dataset contains information about prison sentences for criminals in North Carolina.\n",
    "\n",
    "Next, we split the data into independent (X) and dependent (y) variables, which we pass as arguments to the ZeroInflatedPoisson class from the statsmodels.discrete.count_model module.\n",
    "\n",
    "Finally, we call the fit method to obtain the model results, and then print the summary of the model using the summary method, which includes information about the coefficients, standard errors, z-scores, and p-values for the regression, as well as the goodness of fit measures like the Log-Likelihood and AIC.\n",
    "\n",
    "Again, please note that the interpretation of the results will depend on the specific variables and context of the data being analyzed. It's also important to consider potential confounding variables and alternative explanations for any observed associations."
   ]
  },
  {
   "cell_type": "markdown",
   "id": "f0cdeabb",
   "metadata": {
    "id": "f0cdeabb"
   },
   "source": [
    "# Negative-Binomial Logistic Regression"
   ]
  },
  {
   "cell_type": "code",
   "id": "e8c0cc66",
   "metadata": {
    "id": "e8c0cc66",
    "outputId": "81442d98-5fbe-45da-dbd1-001dc93d577c"
   },
   "source": [
    "import statsmodels.api as sm\n",
    "from statsmodels.discrete.discrete_model import NegativeBinomial\n",
    "\n",
    "# Load the fair dataset from statsmodels\n",
    "data = sm.datasets.fair.load()\n",
    "\n",
    "# Split the data into independent (X) and dependent (y) variables\n",
    "X = data.exog\n",
    "y = data.endog\n",
    "\n",
    "# Fit the negative binomial regression model\n",
    "nb_model = NegativeBinomial(y, X)\n",
    "nb_result = nb_model.fit()\n",
    "\n",
    "# Print the model summary\n",
    "print(nb_result.summary())"
   ],
   "outputs": [],
   "execution_count": null
  },
  {
   "cell_type": "raw",
   "id": "be6db647",
   "metadata": {
    "id": "be6db647"
   },
   "source": [
    "In this example, we load the fair dataset using the sm.datasets.fair.load() function from the statsmodels package. This dataset contains information about married women and their affairs.\n",
    "\n",
    "Next, we split the data into independent (X) and dependent (y) variables, which we pass as arguments to the NegativeBinomial class from the statsmodels.discrete.discrete_model module.\n",
    "\n",
    "Finally, we call the fit method to obtain the model results, and then print the summary of the model using the summary method, which includes information about the coefficients, standard errors, z-scores, and p-values for the regression, as well as the goodness of fit measures like the Log-Likelihood and AIC.\n",
    "\n",
    "Please note that the interpretation of the results will depend on the specific variables and context of the data being analyzed. It's also important to consider potential confounding variables and alternative explanations for any observed associations."
   ]
  },
  {
   "cell_type": "markdown",
   "id": "b20c5cf6",
   "metadata": {
    "id": "b20c5cf6"
   },
   "source": [
    "# Log-Binomial Logistic Regression"
   ]
  },
  {
   "cell_type": "code",
   "id": "859e5634",
   "metadata": {
    "id": "859e5634",
    "outputId": "c9b153eb-909d-4698-edd9-7bdad9b53499"
   },
   "source": [
    "import statsmodels.api as sm\n",
    "from statsmodels.genmod.generalized_linear_model import GLM\n",
    "from statsmodels.genmod.families import Binomial\n",
    "from statsmodels.genmod.families.links import Logit\n",
    "\n",
    "# Load the heart dataset from statsmodels\n",
    "data = sm.datasets.heart.load()\n",
    "\n",
    "# Split the data into independent (X) and dependent (y) variables\n",
    "X = data.exog\n",
    "y = data.endog\n",
    "\n",
    "# Fit the log-binomial regression model\n",
    "binom_model = GLM(y, X, family=Binomial(link=Logit()))\n",
    "binom_results = binom_model.fit()\n",
    "\n",
    "# Print the model summary\n",
    "print(binom_results.summary())"
   ],
   "outputs": [],
   "execution_count": null
  },
  {
   "cell_type": "raw",
   "id": "18378aad",
   "metadata": {
    "id": "18378aad"
   },
   "source": [
    "In this example, we import the Logit class from the statsmodels.genmod.families.links module and pass an instance of the Logit class to the link parameter of the Binomial family. This ensures that the Logit link function is used in the construction of the model.\n",
    "\n",
    "The GLM class is then used to fit the model object, and the fit() method is called to obtain the model results. Finally, we print the summary of the model using the summary() method."
   ]
  },
  {
   "cell_type": "markdown",
   "id": "eef3396b",
   "metadata": {
    "id": "eef3396b"
   },
   "source": [
    "# Polynomial Regression"
   ]
  },
  {
   "cell_type": "code",
   "id": "a7ba8836",
   "metadata": {
    "id": "a7ba8836"
   },
   "source": [
    "import pandas as pd\n",
    "from sklearn.linear_model import LinearRegression\n",
    "from sklearn.preprocessing import PolynomialFeatures\n",
    "from sklearn.datasets import load_boston"
   ],
   "outputs": [],
   "execution_count": null
  },
  {
   "cell_type": "code",
   "id": "119d06f8",
   "metadata": {
    "id": "119d06f8",
    "outputId": "145d793c-f903-458a-bc84-66833a0e04de"
   },
   "source": [
    "## loading data\n",
    "boston = load_boston()"
   ],
   "outputs": [],
   "execution_count": null
  },
  {
   "cell_type": "code",
   "id": "6ebb0b1e",
   "metadata": {
    "id": "6ebb0b1e"
   },
   "source": [
    "### convert data into pandas dataframe\n",
    "boston_df = pd.DataFrame(boston.data, columns=boston.feature_names)\n",
    "boston_df['Price'] = boston.target"
   ],
   "outputs": [],
   "execution_count": null
  },
  {
   "cell_type": "code",
   "id": "667754a7",
   "metadata": {
    "id": "667754a7"
   },
   "source": [
    "## seperating features and labels\n",
    "X = boston_df.drop('Price', axis=1)\n",
    "y = boston_df['Price']\n",
    "### splitting data into train test\n",
    "from sklearn.model_selection import train_test_split\n",
    "X_train, X_test, y_train, y_test = train_test_split(X, y, test_size=0.2, random_state=0)"
   ],
   "outputs": [],
   "execution_count": null
  },
  {
   "cell_type": "code",
   "id": "94f2c0ca",
   "metadata": {
    "id": "94f2c0ca"
   },
   "source": [
    "### Create a polynomial features object using the PolynomialFeatures() function:\n",
    "poly = PolynomialFeatures(degree=2)\n",
    "X_train_poly = poly.fit_transform(X_train)\n",
    "X_test_poly = poly.transform(X_test)"
   ],
   "outputs": [],
   "execution_count": null
  },
  {
   "cell_type": "code",
   "id": "2b148547",
   "metadata": {
    "id": "2b148547",
    "outputId": "42eef7a0-5296-46e2-a742-400b94379c9a"
   },
   "source": [
    "### Train a linear regression model on the polynomial features:\n",
    "model = LinearRegression()\n",
    "model.fit(X_train_poly, y_train)"
   ],
   "outputs": [],
   "execution_count": null
  },
  {
   "cell_type": "code",
   "id": "bafacd07",
   "metadata": {
    "id": "bafacd07"
   },
   "source": [
    "## Test the model on the testing set:\n",
    "y_pred = model.predict(X_test_poly)"
   ],
   "outputs": [],
   "execution_count": null
  },
  {
   "cell_type": "code",
   "id": "958a9d14",
   "metadata": {
    "id": "958a9d14",
    "outputId": "ce818b11-927b-457f-8bf2-0bed06b2fce5"
   },
   "source": [
    "y_pred"
   ],
   "outputs": [],
   "execution_count": null
  },
  {
   "cell_type": "markdown",
   "id": "d4972ed3",
   "metadata": {
    "id": "d4972ed3"
   },
   "source": [
    "# Ridge Regression"
   ]
  },
  {
   "cell_type": "code",
   "id": "55f50362",
   "metadata": {
    "id": "55f50362"
   },
   "source": [
    "import pandas as pd\n",
    "from sklearn.linear_model import Ridge\n",
    "from sklearn.datasets import load_diabetes\n",
    "from sklearn.model_selection import train_test_split"
   ],
   "outputs": [],
   "execution_count": null
  },
  {
   "cell_type": "code",
   "id": "7745b4e3",
   "metadata": {
    "id": "7745b4e3"
   },
   "source": [
    "diabetes = load_diabetes()"
   ],
   "outputs": [],
   "execution_count": null
  },
  {
   "cell_type": "code",
   "id": "0ca6b82c",
   "metadata": {
    "id": "0ca6b82c"
   },
   "source": [
    "diabetes_df = pd.DataFrame(diabetes.data, columns=diabetes.feature_names)\n",
    "diabetes_df['Target'] = diabetes.target"
   ],
   "outputs": [],
   "execution_count": null
  },
  {
   "cell_type": "code",
   "id": "999ef19d",
   "metadata": {
    "id": "999ef19d",
    "outputId": "1c8651a4-551e-43df-ddd0-aa35fd71571a"
   },
   "source": [
    "diabetes_df.info()"
   ],
   "outputs": [],
   "execution_count": null
  },
  {
   "cell_type": "code",
   "id": "7a0281d8",
   "metadata": {
    "id": "7a0281d8"
   },
   "source": [
    "X = diabetes_df.drop('Target', axis=1)\n",
    "y = diabetes_df['Target']\n",
    "\n",
    "X_train, X_test, y_train, y_test = train_test_split(X, y, test_size=0.2, random_state=0)"
   ],
   "outputs": [],
   "execution_count": null
  },
  {
   "cell_type": "code",
   "id": "5283f177",
   "metadata": {
    "id": "5283f177"
   },
   "source": [
    "model = Ridge(alpha=1.0)"
   ],
   "outputs": [],
   "execution_count": null
  },
  {
   "cell_type": "code",
   "id": "118df414",
   "metadata": {
    "id": "118df414",
    "outputId": "4dbb1af7-a37b-4974-92bc-032c785492bc"
   },
   "source": [
    "model.fit(X_train, y_train)"
   ],
   "outputs": [],
   "execution_count": null
  },
  {
   "cell_type": "code",
   "id": "db9ec8cc",
   "metadata": {
    "id": "db9ec8cc"
   },
   "source": [
    "y_pred = model.predict(X_test)"
   ],
   "outputs": [],
   "execution_count": null
  },
  {
   "cell_type": "code",
   "id": "c2656ce3",
   "metadata": {
    "id": "c2656ce3"
   },
   "source": [
    "from sklearn.metrics import mean_squared_error, mean_absolute_error, r2_score"
   ],
   "outputs": [],
   "execution_count": null
  },
  {
   "cell_type": "code",
   "id": "3e8a35b2",
   "metadata": {
    "id": "3e8a35b2",
    "outputId": "e8048cbe-ca19-4c8c-e6b0-07097e0884c7"
   },
   "source": [
    "print(\"Mean Squared Error:\", mean_squared_error(y_test, y_pred))\n",
    "print(\"Mean Absolute Error:\", mean_absolute_error(y_test, y_pred))\n",
    "print(\"R-squared Value:\", r2_score(y_test, y_pred))"
   ],
   "outputs": [],
   "execution_count": null
  },
  {
   "cell_type": "code",
   "id": "095b8083",
   "metadata": {
    "id": "095b8083",
    "outputId": "bc0dfa05-8364-439d-ff53-6ea8bf1d4920"
   },
   "source": [
    "import matplotlib.pyplot as plt\n",
    "plt.plot(model.coef_, label='Coefficients')\n",
    "plt.legend()\n",
    "plt.show()"
   ],
   "outputs": [],
   "execution_count": null
  },
  {
   "cell_type": "markdown",
   "id": "bb5fd6a7",
   "metadata": {
    "id": "bb5fd6a7"
   },
   "source": [
    "# Lasso Regression"
   ]
  },
  {
   "cell_type": "code",
   "id": "8b190a05",
   "metadata": {
    "id": "8b190a05"
   },
   "source": [
    "import pandas as pd\n",
    "from sklearn.linear_model import Lasso\n",
    "from sklearn.datasets import load_boston\n",
    "from sklearn.model_selection import train_test_split"
   ],
   "outputs": [],
   "execution_count": null
  },
  {
   "cell_type": "code",
   "id": "fe00330f",
   "metadata": {
    "id": "fe00330f",
    "outputId": "eaa9dff8-3b04-4459-f54c-ec230593ed75"
   },
   "source": [
    "boston = load_boston()"
   ],
   "outputs": [],
   "execution_count": null
  },
  {
   "cell_type": "code",
   "id": "0f2600fd",
   "metadata": {
    "id": "0f2600fd"
   },
   "source": [
    "boston_df = pd.DataFrame(boston.data, columns=boston.feature_names)\n",
    "boston_df['Price'] = boston.target"
   ],
   "outputs": [],
   "execution_count": null
  },
  {
   "cell_type": "code",
   "id": "f96bbb66",
   "metadata": {
    "id": "f96bbb66"
   },
   "source": [
    "X = boston_df.drop('Price', axis=1)\n",
    "y = boston_df['Price']\n",
    "X_train, X_test, y_train, y_test = train_test_split(X, y, test_size=0.2, random_state=0)"
   ],
   "outputs": [],
   "execution_count": null
  },
  {
   "cell_type": "code",
   "id": "fafd6038",
   "metadata": {
    "id": "fafd6038"
   },
   "source": [
    "model = Lasso(alpha=1.0)"
   ],
   "outputs": [],
   "execution_count": null
  },
  {
   "cell_type": "code",
   "id": "dff93b46",
   "metadata": {
    "id": "dff93b46",
    "outputId": "4807472d-6f7e-4461-9a00-2fe0b2022782"
   },
   "source": [
    "model.fit(X_train, y_train)"
   ],
   "outputs": [],
   "execution_count": null
  },
  {
   "cell_type": "code",
   "id": "9251b549",
   "metadata": {
    "id": "9251b549"
   },
   "source": [
    "y_pred = model.predict(X_test)"
   ],
   "outputs": [],
   "execution_count": null
  },
  {
   "cell_type": "markdown",
   "id": "38779e01",
   "metadata": {
    "id": "38779e01"
   },
   "source": [
    "# Poisson Regression"
   ]
  },
  {
   "cell_type": "code",
   "id": "970cc2d5",
   "metadata": {
    "id": "970cc2d5",
    "jupyter": {
     "is_executing": true
    }
   },
   "source": [
    "import statsmodels.api as sm"
   ],
   "outputs": [],
   "execution_count": null
  },
  {
   "cell_type": "code",
   "id": "5ce09158",
   "metadata": {
    "id": "5ce09158"
   },
   "source": [
    "# load your data\n",
    "y = [1, 0, 2, 1, 4, 3, 2, 1, 2, 3] # count data\n",
    "x = [1, 2, 3, 4, 5, 6, 7, 8, 9, 10] # predictor variable"
   ],
   "outputs": [],
   "execution_count": null
  },
  {
   "cell_type": "code",
   "id": "2dcad053",
   "metadata": {
    "id": "2dcad053",
    "jupyter": {
     "is_executing": true
    }
   },
   "source": [
    "# fit the Poisson regression model\n",
    "model = sm.GLM(y, sm.add_constant(x), family=sm.families.Poisson())\n",
    "result = model.fit()"
   ],
   "outputs": [],
   "execution_count": null
  },
  {
   "cell_type": "code",
   "id": "6cc46a5c",
   "metadata": {
    "id": "6cc46a5c",
    "outputId": "aaaa6065-08c9-4cdf-a2ed-ee7acfe9eed3"
   },
   "source": [
    "# print the summary of the model\n",
    "print(result.summary())"
   ],
   "outputs": [],
   "execution_count": null
  },
  {
   "cell_type": "raw",
   "id": "8f10a924",
   "metadata": {
    "id": "8f10a924"
   },
   "source": [
    "In this example, y represents the count data and x represents the predictor variable. The sm.GLM function is used to fit a Poisson regression model to the data, and sm.add_constant is used to add an intercept to the model. The family argument specifies the type of regression to be fitted, in this case, Poisson regression. Finally, the result.summary() method is used to print a summary of the model."
   ]
  },
  {
   "cell_type": "markdown",
   "id": "001bbfa0",
   "metadata": {
    "id": "001bbfa0"
   },
   "source": [
    "# Quantile Regression"
   ]
  },
  {
   "cell_type": "code",
   "id": "f1fa4389",
   "metadata": {
    "id": "f1fa4389",
    "outputId": "ea711c3b-76b9-4530-d32f-13eed76a6b57"
   },
   "source": [
    "from sklearn.datasets import load_boston\n",
    "boston = load_boston()"
   ],
   "outputs": [],
   "execution_count": null
  },
  {
   "cell_type": "code",
   "id": "067cf0fb",
   "metadata": {
    "id": "067cf0fb"
   },
   "source": [
    "from sklearn.model_selection import train_test_split\n",
    "X_train, X_test, y_train, y_test = train_test_split(boston.data, boston.target, test_size=0.3, random_state=42)"
   ],
   "outputs": [],
   "execution_count": null
  },
  {
   "cell_type": "code",
   "id": "1a627fa1",
   "metadata": {
    "id": "1a627fa1"
   },
   "source": [
    "### Next, we'll import the quantile regression model:\n",
    "from sklearn.linear_model import QuantileRegressor"
   ],
   "outputs": [],
   "execution_count": null
  },
  {
   "cell_type": "code",
   "id": "c1b4a40a",
   "metadata": {
    "id": "c1b4a40a"
   },
   "source": [
    "## Now we'll instantiate the model:\n",
    "quantreg = QuantileRegressor()"
   ],
   "outputs": [],
   "execution_count": null
  },
  {
   "cell_type": "code",
   "id": "c3b54f79",
   "metadata": {
    "id": "c3b54f79",
    "outputId": "a746aff8-3abf-4c71-a041-7ca9a5e231c4"
   },
   "source": [
    "## We'll fit the model on the training data:\n",
    "quantreg.fit(X_train, y_train)"
   ],
   "outputs": [],
   "execution_count": null
  },
  {
   "cell_type": "code",
   "id": "49930fc1",
   "metadata": {
    "id": "49930fc1"
   },
   "source": [
    "## Finally, we can use the model to make predictions on the test data:\n",
    "y_pred = quantreg.predict(X_test)"
   ],
   "outputs": [],
   "execution_count": null
  },
  {
   "cell_type": "code",
   "id": "2c2c171b",
   "metadata": {
    "id": "2c2c171b"
   },
   "source": [],
   "outputs": [],
   "execution_count": null
  }
 ],
 "metadata": {
  "colab": {
   "provenance": []
  },
  "kernelspec": {
   "display_name": "Python 3 (ipykernel)",
   "language": "python",
   "name": "python3"
  },
  "language_info": {
   "codemirror_mode": {
    "name": "ipython",
    "version": 3
   },
   "file_extension": ".py",
   "mimetype": "text/x-python",
   "name": "python",
   "nbconvert_exporter": "python",
   "pygments_lexer": "ipython3",
   "version": "3.11.5"
  }
 },
 "nbformat": 4,
 "nbformat_minor": 5
}
