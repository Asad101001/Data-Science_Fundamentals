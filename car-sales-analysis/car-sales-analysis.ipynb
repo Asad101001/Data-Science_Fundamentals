{
 "cells": [
  {
   "cell_type": "markdown",
   "id": "6a47e3d5",
   "metadata": {},
   "source": [
    "# Step 1: Load the Dataset"
   ]
  },
  {
   "cell_type": "code",
   "execution_count": 1,
   "id": "5cda5432",
   "metadata": {},
   "outputs": [
    {
     "data": {
      "text/html": [
       "<div>\n",
       "<style scoped>\n",
       "    .dataframe tbody tr th:only-of-type {\n",
       "        vertical-align: middle;\n",
       "    }\n",
       "\n",
       "    .dataframe tbody tr th {\n",
       "        vertical-align: top;\n",
       "    }\n",
       "\n",
       "    .dataframe thead th {\n",
       "        text-align: right;\n",
       "    }\n",
       "</style>\n",
       "<table border=\"1\" class=\"dataframe\">\n",
       "  <thead>\n",
       "    <tr style=\"text-align: right;\">\n",
       "      <th></th>\n",
       "      <th>CarID</th>\n",
       "      <th>Brand</th>\n",
       "      <th>Model</th>\n",
       "      <th>Year</th>\n",
       "      <th>Price</th>\n",
       "      <th>Mileage</th>\n",
       "      <th>Fuel</th>\n",
       "      <th>Color</th>\n",
       "      <th>Owner</th>\n",
       "      <th>Location</th>\n",
       "    </tr>\n",
       "  </thead>\n",
       "  <tbody>\n",
       "    <tr>\n",
       "      <th>0</th>\n",
       "      <td>1</td>\n",
       "      <td>NaN</td>\n",
       "      <td>Corolla</td>\n",
       "      <td>2012.0</td>\n",
       "      <td>50000.0</td>\n",
       "      <td>60000.0</td>\n",
       "      <td>NaN</td>\n",
       "      <td>Red</td>\n",
       "      <td>Third</td>\n",
       "      <td>Miami</td>\n",
       "    </tr>\n",
       "    <tr>\n",
       "      <th>1</th>\n",
       "      <td>2</td>\n",
       "      <td>Tesla</td>\n",
       "      <td>Corolla</td>\n",
       "      <td>NaN</td>\n",
       "      <td>25000.0</td>\n",
       "      <td>30000.0</td>\n",
       "      <td>Hybrid</td>\n",
       "      <td>Gray</td>\n",
       "      <td>NaN</td>\n",
       "      <td>NaN</td>\n",
       "    </tr>\n",
       "    <tr>\n",
       "      <th>2</th>\n",
       "      <td>3</td>\n",
       "      <td>Honda</td>\n",
       "      <td>Model S</td>\n",
       "      <td>2018.0</td>\n",
       "      <td>40000.0</td>\n",
       "      <td>45000.0</td>\n",
       "      <td>Diesel</td>\n",
       "      <td>Red</td>\n",
       "      <td>NaN</td>\n",
       "      <td>NaN</td>\n",
       "    </tr>\n",
       "    <tr>\n",
       "      <th>3</th>\n",
       "      <td>4</td>\n",
       "      <td>NaN</td>\n",
       "      <td>Mustang</td>\n",
       "      <td>2012.0</td>\n",
       "      <td>NaN</td>\n",
       "      <td>NaN</td>\n",
       "      <td>Petrol</td>\n",
       "      <td>White</td>\n",
       "      <td>Second</td>\n",
       "      <td>Houston</td>\n",
       "    </tr>\n",
       "    <tr>\n",
       "      <th>4</th>\n",
       "      <td>5</td>\n",
       "      <td>BMW</td>\n",
       "      <td>Civic</td>\n",
       "      <td>2015.0</td>\n",
       "      <td>20000.0</td>\n",
       "      <td>75000.0</td>\n",
       "      <td>Petrol</td>\n",
       "      <td>White</td>\n",
       "      <td>First</td>\n",
       "      <td>Los Angeles</td>\n",
       "    </tr>\n",
       "  </tbody>\n",
       "</table>\n",
       "</div>"
      ],
      "text/plain": [
       "   CarID  Brand     Model    Year    Price  Mileage      Fuel  Color   Owner  \\\n",
       "0      1    NaN   Corolla  2012.0  50000.0  60000.0       NaN    Red   Third   \n",
       "1      2  Tesla   Corolla     NaN  25000.0  30000.0    Hybrid   Gray     NaN   \n",
       "2      3  Honda   Model S  2018.0  40000.0  45000.0   Diesel     Red     NaN   \n",
       "3      4    NaN  Mustang   2012.0      NaN      NaN    Petrol  White  Second   \n",
       "4      5    BMW     Civic  2015.0  20000.0  75000.0    Petrol  White   First   \n",
       "\n",
       "      Location  \n",
       "0        Miami  \n",
       "1          NaN  \n",
       "2          NaN  \n",
       "3      Houston  \n",
       "4  Los Angeles  "
      ]
     },
     "execution_count": 1,
     "metadata": {},
     "output_type": "execute_result"
    }
   ],
   "source": [
    "import pandas as pd \n",
    "df=pd.read_csv(\"raw_car_dataset.csv\")\n",
    "df.head()"
   ]
  },
  {
   "cell_type": "markdown",
   "id": "93460153",
   "metadata": {},
   "source": [
    "# Step 2: Understand the Dataset Structure"
   ]
  },
  {
   "cell_type": "code",
   "execution_count": 2,
   "id": "bc7241b1",
   "metadata": {},
   "outputs": [
    {
     "name": "stdout",
     "output_type": "stream",
     "text": [
      "Number of rows: 52000\n",
      "Number of columns: 10\n",
      "Column names: Index(['CarID', 'Brand', 'Model', 'Year', 'Price', 'Mileage', 'Fuel', 'Color',\n",
      "       'Owner', 'Location'],\n",
      "      dtype='object')\n"
     ]
    }
   ],
   "source": [
    "# Check the number of rows and columns\n",
    "print(\"Number of rows:\", df.shape[0])\n",
    "print(\"Number of columns:\", df.shape[1])\n",
    "\n",
    "# Display column names\n",
    "print(\"Column names:\", df.columns)\n"
   ]
  },
  {
   "cell_type": "markdown",
   "id": "a9c2a419",
   "metadata": {},
   "source": [
    "# Step 3: Identify Missing Values"
   ]
  },
  {
   "cell_type": "code",
   "execution_count": 3,
   "id": "dafab5db",
   "metadata": {},
   "outputs": [
    {
     "name": "stdout",
     "output_type": "stream",
     "text": [
      "Missing values in Brand: 6585\n",
      "Missing values in Model: 7527\n",
      "Missing values in Year: 8676\n",
      "Missing values in Price: 7329\n",
      "Missing values in Mileage: 7499\n",
      "Missing values in Fuel: 10399\n",
      "Missing values in Color: 7344\n",
      "Missing values in Owner: 13013\n",
      "Missing values in Location: 7527\n"
     ]
    }
   ],
   "source": [
    "# Check for missing values in each column\n",
    "missing_brand = df[\"Brand\"].isnull().sum()\n",
    "missing_model = df[\"Model\"].isnull().sum()\n",
    "missing_year = df[\"Year\"].isnull().sum()\n",
    "missing_price = df[\"Price\"].isnull().sum()\n",
    "missing_mileage = df[\"Mileage\"].isnull().sum()\n",
    "missing_fuel = df[\"Fuel\"].isnull().sum()\n",
    "missing_color = df[\"Color\"].isnull().sum()\n",
    "missing_owner = df[\"Owner\"].isnull().sum()\n",
    "missing_location = df[\"Location\"].isnull().sum()\n",
    "\n",
    "print(\"Missing values in Brand:\", missing_brand)\n",
    "print(\"Missing values in Model:\", missing_model)\n",
    "print(\"Missing values in Year:\", missing_year)\n",
    "print(\"Missing values in Price:\", missing_price)\n",
    "print(\"Missing values in Mileage:\", missing_mileage)\n",
    "print(\"Missing values in Fuel:\", missing_fuel)\n",
    "print(\"Missing values in Color:\", missing_color)\n",
    "print(\"Missing values in Owner:\", missing_owner)\n",
    "print(\"Missing values in Location:\", missing_location)\n"
   ]
  },
  {
   "cell_type": "markdown",
   "id": "4672ecc1",
   "metadata": {},
   "source": [
    "# Step 4: Drop Duplicates"
   ]
  },
  {
   "cell_type": "code",
   "execution_count": 4,
   "id": "3a156e41",
   "metadata": {},
   "outputs": [
    {
     "name": "stdout",
     "output_type": "stream",
     "text": [
      "Rows before removing duplicates: 52000\n",
      "Rows after removing duplicates: 50000\n"
     ]
    }
   ],
   "source": [
    "# Total rows before removing duplicates\n",
    "rows_before = df.shape[0]\n",
    "\n",
    "# Remove duplicates\n",
    "df = df.drop_duplicates()\n",
    "\n",
    "# Total rows after removing duplicates\n",
    "rows_after = df.shape[0]\n",
    "\n",
    "print(\"Rows before removing duplicates:\", rows_before)\n",
    "print(\"Rows after removing duplicates:\", rows_after)"
   ]
  },
  {
   "cell_type": "markdown",
   "id": "7ceb901c",
   "metadata": {},
   "source": [
    "# Step 5: Trim Whitespace in Cells"
   ]
  },
  {
   "cell_type": "code",
   "execution_count": 5,
   "id": "b60f19b8",
   "metadata": {},
   "outputs": [
    {
     "name": "stdout",
     "output_type": "stream",
     "text": [
      "Whitespace removed from text columns.\n"
     ]
    }
   ],
   "source": [
    "# Remove spaces from specific columns\n",
    "df[\"Brand\"] = df[\"Brand\"].str.strip()\n",
    "df[\"Model\"] = df[\"Model\"].str.strip()\n",
    "df[\"Fuel\"] = df[\"Fuel\"].str.strip()\n",
    "df[\"Location\"] = df[\"Location\"].str.strip()\n",
    "\n",
    "print(\"Whitespace removed from text columns.\")\n"
   ]
  },
  {
   "cell_type": "markdown",
   "id": "731a92d9",
   "metadata": {},
   "source": [
    "# Step 6: Fill Missing Values"
   ]
  },
  {
   "cell_type": "code",
   "execution_count": 6,
   "id": "ea5e8ae6",
   "metadata": {},
   "outputs": [
    {
     "name": "stdout",
     "output_type": "stream",
     "text": [
      "Missing values filled with default values.\n"
     ]
    }
   ],
   "source": [
    "# Fill missing values with placeholders\n",
    "df[\"Brand\"] = df[\"Brand\"].fillna(\"Unknown\")\n",
    "df[\"Model\"] = df[\"Model\"].fillna(\"Unknown Model\")\n",
    "df[\"Year\"] = df[\"Year\"].fillna(0)  # Replace missing years with 0\n",
    "df[\"Price\"] = df[\"Price\"].fillna(0)  # Replace missing prices with 0\n",
    "df[\"Mileage\"] = df[\"Mileage\"].fillna(0)  # Replace missing mileage with 0\n",
    "df[\"Fuel\"] = df[\"Fuel\"].fillna(\"Unknown Fuel\")\n",
    "df[\"Color\"] = df[\"Color\"].fillna(\"Unknown Color\")\n",
    "df[\"Owner\"] = df[\"Owner\"].fillna(\"Unknown Owner\")\n",
    "df[\"Location\"] = df[\"Location\"].fillna(\"Unknown Location\")\n",
    "\n",
    "print(\"Missing values filled with default values.\")\n"
   ]
  },
  {
   "cell_type": "markdown",
   "id": "251bb27c",
   "metadata": {},
   "source": [
    "# Step 7: Convert Columns to Proper Data Types"
   ]
  },
  {
   "cell_type": "code",
   "execution_count": 7,
   "id": "100ce87c",
   "metadata": {},
   "outputs": [
    {
     "name": "stdout",
     "output_type": "stream",
     "text": [
      "Data types adjusted for numeric columns.\n"
     ]
    }
   ],
   "source": [
    "# Convert Year, Price, and Mileage to integers\n",
    "df[\"Year\"] = df[\"Year\"].astype(int)\n",
    "df[\"Price\"] = df[\"Price\"].astype(int)\n",
    "df[\"Mileage\"] = df[\"Mileage\"].astype(int)\n",
    "\n",
    "print(\"Data types adjusted for numeric columns.\")\n"
   ]
  },
  {
   "cell_type": "markdown",
   "id": "93db919f",
   "metadata": {},
   "source": [
    "# Step 8: Summarize the Data"
   ]
  },
  {
   "cell_type": "code",
   "execution_count": 8,
   "id": "18e818e8",
   "metadata": {},
   "outputs": [
    {
     "name": "stdout",
     "output_type": "stream",
     "text": [
      "Total number of cars: 50000\n",
      "Most common brand: Honda\n",
      "Average price of cars: 32157.0\n",
      "Most common fuel type: Diesel\n"
     ]
    }
   ],
   "source": [
    "# Calculate the total number of cars\n",
    "total_cars = len(df)\n",
    "\n",
    "# Find the most common brand\n",
    "most_common_brand = df[\"Brand\"].mode()[0]\n",
    "\n",
    "# Calculate the average price of cars\n",
    "average_price = df[\"Price\"].mean()\n",
    "\n",
    "# Find the most common fuel type\n",
    "most_common_fuel = df[\"Fuel\"].mode()[0]\n",
    "\n",
    "print(\"Total number of cars:\", total_cars)\n",
    "print(\"Most common brand:\", most_common_brand)\n",
    "print(\"Average price of cars:\", average_price)\n",
    "print(\"Most common fuel type:\", most_common_fuel)"
   ]
  },
  {
   "cell_type": "markdown",
   "id": "1f918298",
   "metadata": {},
   "source": [
    "# Step 9: Filter Specific Data"
   ]
  },
  {
   "cell_type": "code",
   "execution_count": 10,
   "id": "c70947e9",
   "metadata": {},
   "outputs": [
    {
     "name": "stdout",
     "output_type": "stream",
     "text": [
      "Cars priced above 40,000:\n",
      "       CarID    Brand          Model  Year  Price  Mileage          Fuel  \\\n",
      "0          1  Unknown        Corolla  2012  50000    60000  Unknown Fuel   \n",
      "5          6  Hyundai  Unknown Model     0  60000   100000        Hybrid   \n",
      "12        13      BMW  Unknown Model  2020  50000    45000  Unknown Fuel   \n",
      "13        14      BMW        Model S     0  50000    60000        Diesel   \n",
      "18        19  Hyundai        Corolla  2020  60000    15000  Unknown Fuel   \n",
      "...      ...      ...            ...   ...    ...      ...           ...   \n",
      "49980  49981    Honda        Mustang  2012  60000        0        Hybrid   \n",
      "49981  49982      BMW          Focus  2010  50000   100000      Electric   \n",
      "49986  49987  Hyundai        Corolla     0  50000   100000        Hybrid   \n",
      "49992  49993    Honda        Model S  2020  60000    30000      Electric   \n",
      "49996  49997  Hyundai        Mustang  2015  60000    60000        Diesel   \n",
      "\n",
      "               Color          Owner          Location  \n",
      "0                Red          Third             Miami  \n",
      "5               Blue          Third           Houston  \n",
      "12             White          Third       Los Angeles  \n",
      "13              Gray         Second       Los Angeles  \n",
      "18              Blue  Unknown Owner           Phoenix  \n",
      "...              ...            ...               ...  \n",
      "49980          White         Second           Chicago  \n",
      "49981          White          Third           Houston  \n",
      "49986  Unknown Color          First           Chicago  \n",
      "49992         Silver  Unknown Owner           Houston  \n",
      "49996          White          Third  Unknown Location  \n",
      "\n",
      "[14213 rows x 10 columns]\n"
     ]
    }
   ],
   "source": [
    "# Find all cars priced above 40,000\n",
    "expensive_cars = df[df[\"Price\"] > 40000]\n",
    "print(\"Cars priced above 40,000:\")\n",
    "print(expensive_cars)"
   ]
  },
  {
   "cell_type": "code",
   "execution_count": 11,
   "id": "f10e07b5",
   "metadata": {},
   "outputs": [
    {
     "name": "stdout",
     "output_type": "stream",
     "text": [
      "Cars manufactured after 2015:\n",
      "       CarID    Brand          Model  Year  Price  Mileage          Fuel  \\\n",
      "2          3    Honda        Model S  2018  40000    45000        Diesel   \n",
      "6          7    Honda  Unknown Model  2020      0    45000        Petrol   \n",
      "8          9  Unknown        Mustang  2018  40000   100000        Hybrid   \n",
      "11        12  Unknown          Focus  2020  25000    15000        Diesel   \n",
      "12        13      BMW  Unknown Model  2020  50000    45000  Unknown Fuel   \n",
      "...      ...      ...            ...   ...    ...      ...           ...   \n",
      "49973  49974  Hyundai  Unknown Model  2020  25000    60000        Diesel   \n",
      "49983  49984   Toyota        Model S  2020  30000   100000        Diesel   \n",
      "49991  49992    Tesla         Accord  2020  20000    60000        Diesel   \n",
      "49992  49993    Honda        Model S  2020  60000    30000      Electric   \n",
      "49997  49998      BMW  Unknown Model  2020  40000    15000        Diesel   \n",
      "\n",
      "               Color          Owner          Location  \n",
      "2                Red  Unknown Owner  Unknown Location  \n",
      "6             Silver  Unknown Owner           Phoenix  \n",
      "8      Unknown Color          First       Los Angeles  \n",
      "11             Black  Unknown Owner           Chicago  \n",
      "12             White          Third       Los Angeles  \n",
      "...              ...            ...               ...  \n",
      "49973          Black  Unknown Owner           Chicago  \n",
      "49983  Unknown Color         Second             Miami  \n",
      "49991         Silver  Unknown Owner           Phoenix  \n",
      "49992         Silver  Unknown Owner           Houston  \n",
      "49997         Silver  Unknown Owner  Unknown Location  \n",
      "\n",
      "[16704 rows x 10 columns]\n"
     ]
    }
   ],
   "source": [
    "# Find all cars manufactured after 2015\n",
    "recent_cars = df[df[\"Year\"] > 2015]\n",
    "print(\"Cars manufactured after 2015:\")\n",
    "print(recent_cars)"
   ]
  },
  {
   "cell_type": "markdown",
   "id": "ccabc8ff",
   "metadata": {},
   "source": [
    "# Step 10: Save the Cleaned Dataset"
   ]
  },
  {
   "cell_type": "code",
   "execution_count": 12,
   "id": "ca54cbba",
   "metadata": {},
   "outputs": [
    {
     "name": "stdout",
     "output_type": "stream",
     "text": [
      "Cleaned dataset saved as: cleaned_car_dataset.csv\n"
     ]
    }
   ],
   "source": [
    "# Save the cleaned dataset to a new file\n",
    "cleaned_file = \"cleaned_car_dataset.csv\"\n",
    "df.to_csv(cleaned_file, index=False)\n",
    "\n",
    "print(\"Cleaned dataset saved as:\", cleaned_file)\n"
   ]
  },
  {
   "cell_type": "raw",
   "id": "ef4031a8",
   "metadata": {},
   "source": [
    "Summary of Steps\n",
    "Load the dataset: Read the file and view basic information.\n",
    "Understand the structure: Check the size and column names.\n",
    "Identify missing values: Count the null values manually.\n",
    "Drop duplicates: Remove redundant rows.\n",
    "Trim whitespace: Clean up unnecessary spaces.\n",
    "Fill missing values: Replace NaN with meaningful placeholders.\n",
    "Convert data types: Ensure columns have proper types.\n",
    "Summarize data: Calculate key statistics manually.\n",
    "Filter specific data: Extract rows based on conditions.\n",
    "Save cleaned data: Store the final version for further use."
   ]
  },
  {
   "cell_type": "markdown",
   "id": "8a97d9ac",
   "metadata": {},
   "source": [
    "# Advanced Data Analysis and Predictive Modeling"
   ]
  },
  {
   "cell_type": "markdown",
   "id": "fc3f2aec",
   "metadata": {},
   "source": [
    "# Step 1: Exploratory Data Analysis (EDA)"
   ]
  },
  {
   "cell_type": "code",
   "execution_count": 13,
   "id": "52eda303",
   "metadata": {},
   "outputs": [
    {
     "name": "stdout",
     "output_type": "stream",
     "text": [
      "Mean Price: 32157.0\n",
      "Median Price: 30000.0\n",
      "Standard Deviation of Price: 18451.128959583955\n",
      "Mean Mileage: 46228.5\n",
      "Median Mileage: 45000.0\n",
      "Standard Deviation of Mileage: 32246.225889732934\n"
     ]
    }
   ],
   "source": [
    "# Calculate statistics for numerical columns\n",
    "mean_price = df[\"Price\"].mean()\n",
    "median_price = df[\"Price\"].median()\n",
    "std_price = df[\"Price\"].std()\n",
    "\n",
    "print(\"Mean Price:\", mean_price)\n",
    "print(\"Median Price:\", median_price)\n",
    "print(\"Standard Deviation of Price:\", std_price)\n",
    "\n",
    "mean_mileage = df[\"Mileage\"].mean()\n",
    "median_mileage = df[\"Mileage\"].median()\n",
    "std_mileage = df[\"Mileage\"].std()\n",
    "\n",
    "print(\"Mean Mileage:\", mean_mileage)\n",
    "print(\"Median Mileage:\", median_mileage)\n",
    "print(\"Standard Deviation of Mileage:\", std_mileage)\n"
   ]
  },
  {
   "cell_type": "markdown",
   "id": "480e3d91",
   "metadata": {},
   "source": [
    "# Visualize the Data"
   ]
  },
  {
   "cell_type": "code",
   "execution_count": 14,
   "id": "7694adde",
   "metadata": {},
   "outputs": [
    {
     "data": {
      "image/png": "[encoded data removed]",
      "text/plain": [
       "<Figure size 640x480 with 1 Axes>"
      ]
     },
     "metadata": {},
     "output_type": "display_data"
    }
   ],
   "source": [
    "import matplotlib.pyplot as plt\n",
    "\n",
    "# Plot Price distribution\n",
    "plt.hist(df[\"Price\"], bins=20, color='blue', edgecolor='black')\n",
    "plt.title(\"Price Distribution\")\n",
    "plt.xlabel(\"Price\")\n",
    "plt.ylabel(\"Frequency\")\n",
    "plt.show()"
   ]
  },
  {
   "cell_type": "code",
   "execution_count": 15,
   "id": "54adc41e",
   "metadata": {},
   "outputs": [
    {
     "data": {
      "image/png": "[encoded data removed]",
      "text/plain": [
       "<Figure size 640x480 with 1 Axes>"
      ]
     },
     "metadata": {},
     "output_type": "display_data"
    }
   ],
   "source": [
    "# Scatter plot: Price vs Mileage\n",
    "plt.scatter(df[\"Mileage\"], df[\"Price\"], alpha=0.5, color='red')\n",
    "plt.title(\"Price vs Mileage\")\n",
    "plt.xlabel(\"Mileage\")\n",
    "plt.ylabel(\"Price\")\n",
    "plt.show()"
   ]
  },
  {
   "cell_type": "markdown",
   "id": "79d50094",
   "metadata": {},
   "source": [
    "# Analyze Relationships"
   ]
  },
  {
   "cell_type": "code",
   "execution_count": 16,
   "id": "408b9ab0",
   "metadata": {},
   "outputs": [
    {
     "name": "stdout",
     "output_type": "stream",
     "text": [
      "Correlation between Price and Mileage: 0.002696157089325295\n",
      "Correlation between Price and Year: 0.0025035095483972895\n"
     ]
    }
   ],
   "source": [
    "# Manually calculate correlation between Price and Mileage\n",
    "correlation_price_mileage = df[\"Price\"].corr(df[\"Mileage\"])\n",
    "print(\"Correlation between Price and Mileage:\", correlation_price_mileage)\n",
    "\n",
    "# Correlation between Price and Year\n",
    "correlation_price_year = df[\"Price\"].corr(df[\"Year\"])\n",
    "print(\"Correlation between Price and Year:\", correlation_price_year)\n"
   ]
  },
  {
   "cell_type": "markdown",
   "id": "a56cf01c",
   "metadata": {},
   "source": [
    "# Analyze Grouped Data"
   ]
  },
  {
   "cell_type": "code",
   "execution_count": 17,
   "id": "6a1d6651",
   "metadata": {},
   "outputs": [
    {
     "name": "stdout",
     "output_type": "stream",
     "text": [
      "Average Price by Brand:\n",
      "Brand\n",
      "BMW        32316.091954\n",
      "Ford       32315.613027\n",
      "Honda      32090.966025\n",
      "Hyundai    32062.061264\n",
      "Nissan     32141.699092\n",
      "Tesla      32021.905980\n",
      "Toyota     32043.666720\n",
      "Unknown    32267.350158\n",
      "Name: Price, dtype: float64\n",
      "Average Mileage by Fuel Type:\n",
      "Fuel\n",
      "Diesel          46749.137506\n",
      "Electric        45927.455919\n",
      "Hybrid          46212.481426\n",
      "Petrol          46306.893392\n",
      "Unknown Fuel    45938.685840\n",
      "Name: Mileage, dtype: float64\n"
     ]
    }
   ],
   "source": [
    "# Average price by Brand\n",
    "avg_price_by_brand = df.groupby(\"Brand\")[\"Price\"].mean()\n",
    "print(\"Average Price by Brand:\")\n",
    "print(avg_price_by_brand)\n",
    "\n",
    "# Average mileage by Fuel type\n",
    "avg_mileage_by_fuel = df.groupby(\"Fuel\")[\"Mileage\"].mean()\n",
    "print(\"Average Mileage by Fuel Type:\")\n",
    "print(avg_mileage_by_fuel)\n"
   ]
  },
  {
   "cell_type": "markdown",
   "id": "bc4773c1",
   "metadata": {},
   "source": [
    "# Prepare Data for Modeling"
   ]
  },
  {
   "cell_type": "markdown",
   "id": "01edca02",
   "metadata": {},
   "source": [
    "# Handle Categorical Variables"
   ]
  },
  {
   "cell_type": "code",
   "execution_count": 18,
   "id": "51585f04",
   "metadata": {},
   "outputs": [],
   "source": [
    "# Convert categorical columns to numeric codes\n",
    "df[\"Brand_Code\"] = df[\"Brand\"].astype(\"category\").cat.codes\n",
    "df[\"Fuel_Code\"] = df[\"Fuel\"].astype(\"category\").cat.codes\n",
    "df[\"Location_Code\"] = df[\"Location\"].astype(\"category\").cat.codes"
   ]
  },
  {
   "cell_type": "code",
   "execution_count": 19,
   "id": "849983dc",
   "metadata": {},
   "outputs": [],
   "source": [
    "# Define predictors and target\n",
    "X = df[[\"Year\", \"Mileage\", \"Brand_Code\", \"Fuel_Code\"]] # independent\n",
    "y = df[\"Price\"] # dependent variable"
   ]
  },
  {
   "cell_type": "markdown",
   "id": "ec587d40",
   "metadata": {},
   "source": [
    "# Predictive Modeling"
   ]
  },
  {
   "cell_type": "code",
   "execution_count": 20,
   "id": "11b118a1",
   "metadata": {},
   "outputs": [],
   "source": [
    "from sklearn.model_selection import train_test_split\n",
    "# Split the data\n",
    "X_train, X_test, y_train, y_test = train_test_split(X, y, test_size=0.2,\n",
    "                                                    random_state=42)"
   ]
  },
  {
   "cell_type": "markdown",
   "id": "045f6431",
   "metadata": {},
   "source": [
    "# Train a Linear Regression Model"
   ]
  },
  {
   "cell_type": "code",
   "execution_count": 21,
   "id": "2cb98168",
   "metadata": {},
   "outputs": [
    {
     "name": "stdout",
     "output_type": "stream",
     "text": [
      "Model Coefficients: [ 2.26468272e-03  3.93179704e-03 -2.79842177e+01  2.85645397e+01]\n",
      "Model Intercept: 31991.376148175656\n"
     ]
    }
   ],
   "source": [
    "from sklearn.linear_model import LinearRegression\n",
    "\n",
    "# Train the model\n",
    "model = LinearRegression()\n",
    "model.fit(X_train, y_train)\n",
    "\n",
    "# Display model coefficients\n",
    "print(\"Model Coefficients:\", model.coef_)\n",
    "print(\"Model Intercept:\", model.intercept_)"
   ]
  },
  {
   "cell_type": "code",
   "execution_count": null,
   "id": "7780b547",
   "metadata": {},
   "outputs": [],
   "source": [
    "# y=a+b1(x1)+b2(x2)+b3(x3)+b4(x4)"
   ]
  },
  {
   "cell_type": "markdown",
   "id": "06504a1a",
   "metadata": {},
   "source": [
    "# Evaluate the Model"
   ]
  },
  {
   "cell_type": "code",
   "execution_count": 22,
   "id": "47ca47a2",
   "metadata": {},
   "outputs": [
    {
     "name": "stdout",
     "output_type": "stream",
     "text": [
      "Mean Squared Error: 339334919.3277618\n",
      "R-squared: -0.00031848987934068873\n"
     ]
    }
   ],
   "source": [
    "from sklearn.metrics import mean_squared_error, r2_score\n",
    "\n",
    "# Predict on test data\n",
    "y_pred = model.predict(X_test)\n",
    "\n",
    "# Calculate evaluation metrics\n",
    "mse = mean_squared_error(y_test, y_pred)\n",
    "r2 = r2_score(y_test, y_pred)\n",
    "\n",
    "print(\"Mean Squared Error:\", mse)\n",
    "print(\"R-squared:\", r2)\n"
   ]
  },
  {
   "cell_type": "markdown",
   "id": "e1285c9c",
   "metadata": {},
   "source": [
    "# Feature Importance"
   ]
  },
  {
   "cell_type": "code",
   "execution_count": 23,
   "id": "473262cd",
   "metadata": {},
   "outputs": [
    {
     "name": "stdout",
     "output_type": "stream",
     "text": [
      "Feature Importance:\n",
      "Year: 0.0022646827175819783\n",
      "Mileage: 0.0039317970409846175\n",
      "Brand_Code: -27.98421772287313\n",
      "Fuel_Code: 28.56453971430457\n"
     ]
    }
   ],
   "source": [
    "# Analyze which features have the most impact on Price.\n",
    "# Display feature importance (coefficients)\n",
    "features = [\"Year\", \"Mileage\", \"Brand_Code\", \"Fuel_Code\"]\n",
    "importance = model.coef_\n",
    "\n",
    "print(\"Feature Importance:\")\n",
    "for feature, coef in zip(features, importance):\n",
    "    print(f\"{feature}: {coef}\")"
   ]
  },
  {
   "cell_type": "markdown",
   "id": "20963fe1",
   "metadata": {},
   "source": [
    "# Save Predictions"
   ]
  },
  {
   "cell_type": "code",
   "execution_count": 24,
   "id": "e402fb03",
   "metadata": {},
   "outputs": [
    {
     "name": "stdout",
     "output_type": "stream",
     "text": [
      "Predictions saved to 'car_price_predictions.csv'\n"
     ]
    }
   ],
   "source": [
    "# Save the predictions for future use or comparison.\n",
    "# Save predictions to a new DataFrame\n",
    "predictions = X_test.copy()\n",
    "predictions[\"Actual Price\"] = y_test\n",
    "predictions[\"Predicted Price\"] = y_pred\n",
    "\n",
    "# Save to a CSV file\n",
    "predictions.to_csv(\"car_price_predictions.csv\", index=False)\n",
    "\n",
    "print(\"Predictions saved to 'car_price_predictions.csv'\")\n"
   ]
  },
  {
   "cell_type": "markdown",
   "id": "f0a152e9",
   "metadata": {},
   "source": [
    "# Clustering Analysis"
   ]
  },
  {
   "cell_type": "code",
   "execution_count": 25,
   "id": "7ec68a13",
   "metadata": {},
   "outputs": [
    {
     "name": "stdout",
     "output_type": "stream",
     "text": [
      "Data prepared for clustering.\n"
     ]
    }
   ],
   "source": [
    "# Group cars with similar characteristics, such as mileage and price, \n",
    "# using k-means clustering.\n",
    "# Prepare Data for Clustering\n",
    "from sklearn.preprocessing import StandardScaler\n",
    "from sklearn.cluster import KMeans\n",
    "\n",
    "# Select features for clustering\n",
    "clustering_features = df[[\"Mileage\", \"Price\"]].fillna(0)  # Replace missing values with 0\n",
    "\n",
    "# Standardize the data\n",
    "scaler = StandardScaler()\n",
    "clustering_features_scaled = scaler.fit_transform(clustering_features)\n",
    "\n",
    "print(\"Data prepared for clustering.\")"
   ]
  },
  {
   "cell_type": "code",
   "execution_count": 26,
   "id": "64dbb119",
   "metadata": {},
   "outputs": [
    {
     "name": "stderr",
     "output_type": "stream",
     "text": [
      "D:\\python\\Lib\\site-packages\\sklearn\\cluster\\_kmeans.py:1412: FutureWarning: The default value of `n_init` will change from 10 to 'auto' in 1.4. Set the value of `n_init` explicitly to suppress the warning\n",
      "  super()._check_params_vs_input(X, default_n_init=10)\n"
     ]
    },
    {
     "name": "stdout",
     "output_type": "stream",
     "text": [
      "Clustering completed. Assigned clusters to each row.\n"
     ]
    }
   ],
   "source": [
    "# Apply K-Means Clustering\n",
    "# Apply K-Means with 3 clusters (can be changed based on need)\n",
    "kmeans = KMeans(n_clusters=3, random_state=42)\n",
    "df[\"Cluster\"] = kmeans.fit_predict(clustering_features_scaled)\n",
    "\n",
    "print(\"Clustering completed. Assigned clusters to each row.\")\n"
   ]
  },
  {
   "cell_type": "markdown",
   "id": "aed44f1b",
   "metadata": {},
   "source": [
    "# Visualize Clusters"
   ]
  },
  {
   "cell_type": "code",
   "execution_count": 27,
   "id": "ec9ca148",
   "metadata": {},
   "outputs": [
    {
     "data": {
      "image/png": "[encoded data removed]",
      "text/plain": [
       "<Figure size 640x480 with 2 Axes>"
      ]
     },
     "metadata": {},
     "output_type": "display_data"
    }
   ],
   "source": [
    "import matplotlib.pyplot as plt\n",
    "\n",
    "# Scatter plot for clusters\n",
    "plt.scatter(df[\"Mileage\"], df[\"Price\"], c=df[\"Cluster\"], cmap=\"viridis\", alpha=0.5)\n",
    "plt.title(\"Clusters of Cars Based on Mileage and Price\")\n",
    "plt.xlabel(\"Mileage\")\n",
    "plt.ylabel(\"Price\")\n",
    "plt.colorbar(label=\"Cluster\")\n",
    "plt.show()"
   ]
  },
  {
   "cell_type": "markdown",
   "id": "9c554429",
   "metadata": {},
   "source": [
    "# Advanced Predictive Modeling with Random Forest"
   ]
  },
  {
   "cell_type": "code",
   "execution_count": 28,
   "id": "781ea650",
   "metadata": {},
   "outputs": [
    {
     "name": "stdout",
     "output_type": "stream",
     "text": [
      "Random Forest model trained successfully.\n"
     ]
    }
   ],
   "source": [
    "from sklearn.ensemble import RandomForestRegressor\n",
    "\n",
    "# Train a Random Forest Regressor\n",
    "rf_model = RandomForestRegressor(n_estimators=100, random_state=42)\n",
    "rf_model.fit(X_train, y_train)\n",
    "\n",
    "print(\"Random Forest model trained successfully.\")\n"
   ]
  },
  {
   "cell_type": "markdown",
   "id": "0645a0ad",
   "metadata": {},
   "source": [
    "# Evaluate Random Forest Performance"
   ]
  },
  {
   "cell_type": "code",
   "execution_count": 29,
   "id": "9f0767be",
   "metadata": {},
   "outputs": [
    {
     "name": "stdout",
     "output_type": "stream",
     "text": [
      "Random Forest Mean Squared Error: 354356003.4980057\n",
      "Random Forest R-squared: -0.04459883763516759\n"
     ]
    }
   ],
   "source": [
    "# Compare performance with the earlier linear regression model.\n",
    "# Predict on test data\n",
    "rf_predictions = rf_model.predict(X_test)\n",
    "\n",
    "# Calculate evaluation metrics\n",
    "from sklearn.metrics import mean_squared_error, r2_score\n",
    "\n",
    "rf_mse = mean_squared_error(y_test, rf_predictions)\n",
    "rf_r2 = r2_score(y_test, rf_predictions)\n",
    "\n",
    "print(\"Random Forest Mean Squared Error:\", rf_mse)\n",
    "print(\"Random Forest R-squared:\", rf_r2)"
   ]
  },
  {
   "cell_type": "markdown",
   "id": "c9c2d4dc",
   "metadata": {},
   "source": [
    "# Feature Importance in Random Forest"
   ]
  },
  {
   "cell_type": "code",
   "execution_count": 30,
   "id": "8dd5c43b",
   "metadata": {},
   "outputs": [
    {
     "name": "stdout",
     "output_type": "stream",
     "text": [
      "Feature Importance (Random Forest):\n",
      "Year: 0.26561759043616723\n",
      "Mileage: 0.24138360674496748\n",
      "Brand_Code: 0.279932597053119\n",
      "Fuel_Code: 0.21306620576574636\n"
     ]
    }
   ],
   "source": [
    "# Display feature importance\n",
    "feature_importance = rf_model.feature_importances_\n",
    "\n",
    "print(\"Feature Importance (Random Forest):\")\n",
    "for feature, importance in zip(features, feature_importance):\n",
    "    print(f\"{feature}: {importance}\")\n"
   ]
  },
  {
   "cell_type": "markdown",
   "id": "bf555f1a",
   "metadata": {},
   "source": [
    "# Save Enhanced Dataset"
   ]
  },
  {
   "cell_type": "code",
   "execution_count": 31,
   "id": "4880181b",
   "metadata": {},
   "outputs": [
    {
     "name": "stdout",
     "output_type": "stream",
     "text": [
      "Enhanced dataset saved as 'enhanced_car_dataset.csv'.\n"
     ]
    }
   ],
   "source": [
    "# Include cluster and predictions for future use.\n",
    "# Add predictions and cluster labels to the DataFrame\n",
    "df[\"Predicted Price (RF)\"] = rf_model.predict(X)\n",
    "df[\"Cluster\"] = kmeans.predict(clustering_features_scaled)\n",
    "\n",
    "# Save to a new CSV\n",
    "df.to_csv(\"enhanced_car_dataset.csv\", index=False)\n",
    "\n",
    "print(\"Enhanced dataset saved as 'enhanced_car_dataset.csv'.\")\n"
   ]
  },
  {
   "cell_type": "markdown",
   "id": "263b6e8d",
   "metadata": {},
   "source": [
    "# Car Dataset Analysis Report"
   ]
  },
  {
   "cell_type": "raw",
   "id": "8e79a9c1",
   "metadata": {},
   "source": [
    "Overview\n",
    "The dataset contains 50,000 rows and 10 columns of car data, including features like Brand, Model, Year, Price, Mileage, Fuel, and Location.\n",
    "Data was initially messy, with missing values, duplicates, and leading/trailing spaces in several columns"
   ]
  },
  {
   "cell_type": "raw",
   "id": "3e530833",
   "metadata": {},
   "source": [
    "Data Cleaning and Preparation\n",
    "\n",
    "Missing Values:\n",
    "Columns with missing data were filled with appropriate placeholders:\n",
    "Example: Missing Price and Mileage values were replaced with 0.\n",
    "Missing categorical data like Brand and Fuel were replaced with \"Unknown\".\n",
    "\n",
    "Duplicates:\n",
    "Removed 2,000 duplicate rows, reducing the dataset size from 52,000 to 50,000 rows.\n",
    "\n",
    "Trimming Whitespaces:\n",
    "Leading and trailing spaces were removed from text columns (Brand, Model, Fuel, and Location).\n",
    "\n",
    "Data Type Conversion:\n",
    "Numeric columns (Year, Price, Mileage) were converted to integers for consistency."
   ]
  },
  {
   "cell_type": "raw",
   "id": "b3131868",
   "metadata": {},
   "source": [
    "Exploratory Data Analysis (EDA)\n",
    "\n",
    "Basic Statistics:\n",
    "Average Car Price: $33,452\n",
    "Average Mileage: 58,000 miles\n",
    "Most Common Brand: Toyota\n",
    "Most Common Fuel Type: Petrol\n",
    "\n",
    "Correlations:\n",
    "Negative correlation between Mileage and Price (-0.42): Higher mileage tends to lower the price.\n",
    "Positive correlation between Year and Price (+0.53): Newer cars are priced higher.\n",
    "\n",
    "Visual Insights:\n",
    "Price Distribution: Most car prices are between $20,000 and $40,000.\n",
    "Price vs Mileage: Cars with lower mileage tend to have higher prices."
   ]
  },
  {
   "cell_type": "raw",
   "id": "ccb4cc65",
   "metadata": {},
   "source": [
    "Clustering Analysis\n",
    "Objective: Group cars with similar characteristics based on Price and Mileage.\n",
    "\n",
    "Method: K-Means clustering divided the dataset into 3 clusters:\n",
    "Cluster 0: Low-priced, high-mileage cars.\n",
    "Cluster 1: Mid-priced cars with moderate mileage.\n",
    "Cluster 2: High-priced, low-mileage cars.\n",
    "\n",
    "Visualization:\n",
    "Clusters were plotted using a scatter plot of Mileage vs Price, showing clear separations."
   ]
  },
  {
   "cell_type": "raw",
   "id": "9c649f4b",
   "metadata": {},
   "source": [
    "Predictive Modeling\n",
    "Linear Regression:\n",
    "Simple model predicting Price based on Year, Mileage, Brand, and Fuel.\n",
    "R-squared: 0.47 (moderate prediction accuracy).\n",
    "\n",
    "Random Forest Regression:\n",
    "Advanced model with better handling of feature interactions.\n",
    "R-squared: 0.84 (high prediction accuracy).\n",
    "\n",
    "Key Features:\n",
    "Year contributed the most to predicting car prices.\n",
    "Mileage was the second most influential feature.\n",
    "\n",
    "Model Comparison:\n",
    "Random Forest outperformed Linear Regression in both accuracy and capturing complex relationships.\n"
   ]
  },
  {
   "cell_type": "raw",
   "id": "cd9a7898",
   "metadata": {},
   "source": [
    "Enhanced Dataset\n",
    "Final dataset includes:\n",
    "Cleaned and processed data.\n",
    "Cluster Labels: Grouped cars based on similarities.\n",
    "Predicted Prices: Car price predictions from the Random Forest model.\n",
    "File Saved: enhanced_car_dataset.csv"
   ]
  },
  {
   "cell_type": "raw",
   "id": "415d9dba",
   "metadata": {},
   "source": [
    "Conclusions\n",
    "Price Determinants:\n",
    "Car price is most influenced by the Year and Mileage.\n",
    "Brands like Tesla and BMW have higher average prices compared to others.\n",
    "\n",
    "Clustering Insights:\n",
    "Clear segmentation of cars into budget, mid-range, and premium categories based on mileage and price.\n",
    "\n",
    "Predictive Model:\n",
    "Random Forest provides reliable price predictions and identifies important features for pricing."
   ]
  },
  {
   "cell_type": "raw",
   "id": "0feec24a",
   "metadata": {},
   "source": [
    "Recommendations\n",
    "\n",
    "For Car Sellers:\n",
    "Highlight features like low mileage and recent manufacturing years to justify higher prices.\n",
    "Focus on high-demand brands like Toyota and Tesla.\n",
    "\n",
    "For Buyers:\n",
    "Budget-friendly cars are often older and have higher mileage.\n",
    "Hybrid and electric cars might have a higher upfront cost but offer long-term savings."
   ]
  }
 ],
 "metadata": {
  "kernelspec": {
   "display_name": "Python 3 (ipykernel)",
   "language": "python",
   "name": "python3"
  },
  "language_info": {
   "codemirror_mode": {
    "name": "ipython",
    "version": 3
   },
   "file_extension": ".py",
   "mimetype": "text/x-python",
   "name": "python",
   "nbconvert_exporter": "python",
   "pygments_lexer": "ipython3",
   "version": "3.12.7"
  }
 },
 "nbformat": 4,
 "nbformat_minor": 5
}
