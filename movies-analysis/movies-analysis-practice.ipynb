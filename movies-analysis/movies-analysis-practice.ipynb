{
 "cells": [
  {
   "metadata": {},
   "cell_type": "code",
   "outputs": [],
   "execution_count": null,
   "source": [
    "import pandas as pd\n",
    "\n",
    "df = pd.read_csv(\"adventure_movies_dataset.csv\")\n",
    "\n",
    "print (\"FIRST 10 ROWS OF DATA:\\n\")\n",
    "df.head(10)"
   ],
   "id": "718a0014c20bf973"
  },
  {
   "metadata": {},
   "cell_type": "code",
   "outputs": [],
   "execution_count": null,
   "source": "df.info()",
   "id": "8e78bb2ee6e19a6b"
  },
  {
   "cell_type": "code",
   "execution_count": 19,
   "id": "e20cc04f-f90b-429e-be6b-3de8bc828cd2",
   "metadata": {},
   "outputs": [
    {
     "name": "stdout",
     "output_type": "stream",
     "text": [
      "Numbersof rows: 80000\n",
      "Number of columns: 10\n",
      "Column Names: Index(['Movie_ID', 'Title', 'Year', 'Genre', 'Director', 'Budget_Million',\n",
      "       'BoxOffice_Million', 'Runtime_Minutes', 'Rating', 'Award_Won'],\n",
      "      dtype='object')\n"
     ]
    }
   ],
   "source": [
    "#Check number of rows and columns\n",
    "print (\"Numbersof rows:\", df.shape[0])\n",
    "print (\"Number of columns:\", df.shape[1])\n",
    "\n",
    "#Display column names\n",
    "print (\"Column Names:\", df.columns)"
   ]
  },
  {
   "cell_type": "code",
   "execution_count": 20,
   "id": "fbe3378f-1234-4608-89cc-771d714d952d",
   "metadata": {},
   "outputs": [
    {
     "name": "stdout",
     "output_type": "stream",
     "text": [
      "Missing values in Movie ID: 0\n",
      "Missing values in Title: 0\n",
      "Missing values in Year: 0\n",
      "Missing values in Genre: 0\n",
      "Missing values in Director: 0\n",
      "Missing values in Budget_Million: 0\n",
      "Missing values in BoxOffice_Million: 0\n",
      "Missing values in Runtime: 0\n",
      "Missing values in Rating: 0\n",
      "Missing values in Award_Won: 0\n"
     ]
    }
   ],
   "source": [
    "missing_movieid = df[\"Movie_ID\"].isnull().sum()\n",
    "missing_title = df[\"Title\"].isnull().sum()\n",
    "missing_year = df[\"Year\"].isnull().sum()\n",
    "missing_genre = df[\"Genre\"].isnull().sum()\n",
    "missing_director = df[\"Director\"].isnull().sum()\n",
    "missing_budget = df[\"Budget_Million\"].isnull().sum()\n",
    "missing_boxoffice = df[\"BoxOffice_Million\"].isnull().sum()\n",
    "missing_runtime = df[\"Runtime_Minutes\"].isnull().sum()\n",
    "missing_rating = df[\"Rating\"].isnull().sum()\n",
    "missing_award = df[\"Award_Won\"].isnull().sum()\n",
    "\n",
    "\n",
    "print (\"Missing values in Movie ID:\", missing_movieid)\n",
    "print (\"Missing values in Title:\", missing_title)\n",
    "print (\"Missing values in Year:\", missing_year)\n",
    "print (\"Missing values in Genre:\", missing_genre)\n",
    "print (\"Missing values in Director:\", missing_director)\n",
    "print (\"Missing values in Budget_Million:\", missing_budget)\n",
    "print (\"Missing values in BoxOffice_Million:\", missing_boxoffice)\n",
    "print (\"Missing values in Runtime:\", missing_runtime)\n",
    "print (\"Missing values in Rating:\", missing_rating)\n",
    "print (\"Missing values in Award_Won:\", missing_award)"
   ]
  },
  {
   "cell_type": "code",
   "execution_count": 22,
   "id": "bae3b534-c29f-42c9-a26f-a621d6f81b60",
   "metadata": {},
   "outputs": [
    {
     "name": "stdout",
     "output_type": "stream",
     "text": [
      "Genre\n",
      "Adventure    56110\n",
      "Sci-Fi        8021\n",
      "Fantasy       7951\n",
      "Action        7918\n",
      "Name: count, dtype: int64\n"
     ]
    }
   ],
   "source": [
    "print (df[\"Genre\"].value_counts())"
   ]
  },
  {
   "cell_type": "code",
   "execution_count": 23,
   "id": "9a88c767-c1f5-4434-8a8e-9f1c89d428ff",
   "metadata": {},
   "outputs": [
    {
     "name": "stdout",
     "output_type": "stream",
     "text": [
      "Average Box Office Revenue(Million USD): 200.40606034174928\n"
     ]
    }
   ],
   "source": [
    "print (\"Average Box Office Revenue(Million USD):\",\n",
    "        df[\"BoxOffice_Million\"].mean())"
   ]
  },
  {
   "cell_type": "code",
   "execution_count": 37,
   "id": "5ebeace3-5a7a-40d5-a22f-e0ff76e1a44c",
   "metadata": {},
   "outputs": [
    {
     "name": "stdout",
     "output_type": "stream",
     "text": [
      "Maximum Budget (Million USD): 289.10939244983206\n",
      "        Movie_ID                 Title  Year      Genre    Director  \\\n",
      "36373  MOV036374  Adventure Film 36374  2020  Adventure  Director A   \n",
      "\n",
      "       Budget_Million  BoxOffice_Million  Runtime_Minutes  Rating Award_Won  \n",
      "36373      289.109392         243.903081        116.06643     1.3        No  \n"
     ]
    }
   ],
   "source": [
    "max_budget = df[\"Budget_Million\"].max()\n",
    "print (\"Maximum Budget (Million USD):\", max_budget)\n",
    "print (df[df[\"Budget_Million\"] == max_budget])"
   ]
  },
  {
   "cell_type": "code",
   "execution_count": 28,
   "id": "995b5f20-852c-4601-a29e-8e4c03b36872",
   "metadata": {},
   "outputs": [
    {
     "name": "stdout",
     "output_type": "stream",
     "text": [
      "Movies with Awards:\n",
      "\n",
      "Award_Won\n",
      "No     56148\n",
      "Yes    23852\n",
      "Name: count, dtype: int64\n"
     ]
    }
   ],
   "source": [
    "awardcount = df[\"Award_Won\"].value_counts()\n",
    "print (\"Movies with Awards:\\n\")\n",
    "print (awardcount)"
   ]
  },
  {
   "cell_type": "code",
   "execution_count": 32,
   "id": "5fbedd61-19f5-4772-9887-d083365e0413",
   "metadata": {},
   "outputs": [
    {
     "name": "stdout",
     "output_type": "stream",
     "text": [
      "Median Runtime (Minutes): 126.12850455408491\n"
     ]
    }
   ],
   "source": [
    "print (\"Median Runtime (Minutes):\", df[\"Runtime_Minutes\"].median())"
   ]
  },
  {
   "cell_type": "code",
   "execution_count": 35,
   "id": "b5b77e2f-d840-4431-b2ef-1e9d3187e1d7",
   "metadata": {},
   "outputs": [
    {
     "name": "stdout",
     "output_type": "stream",
     "text": [
      "Correlation b/w Budget and Box Office Revenue: 0.0004596886358127435\n"
     ]
    }
   ],
   "source": [
    "correlation = df[\"Budget_Million\"].corr(df[\"BoxOffice_Million\"])\n",
    "print (\"Correlation b/w Budget and Box Office Revenue:\", correlation)"
   ]
  },
  {
   "cell_type": "code",
   "execution_count": 40,
   "id": "4720eef4-c274-4f65-8711-f758adc0ad81",
   "metadata": {},
   "outputs": [
    {
     "name": "stdout",
     "output_type": "stream",
     "text": [
      "Top 5 Director with the most movies directed:\n",
      " Director\n",
      "Director E    16051\n",
      "Director B    16050\n",
      "Director D    16007\n",
      "Director C    15992\n",
      "Director A    15900\n",
      "Name: count, dtype: int64\n"
     ]
    }
   ],
   "source": [
    "top_directors = df[\"Director\"].value_counts().head(5)\n",
    "print (\"Top 5 Director with the most movies directed:\\n\", top_directors)"
   ]
  },
  {
   "cell_type": "code",
   "execution_count": 44,
   "id": "1db3bf22-b821-4781-b7ed-88f0dccbd5b8",
   "metadata": {},
   "outputs": [
    {
     "name": "stdout",
     "output_type": "stream",
     "text": [
      "Year with the Highest Average Box Office Revenue:\n",
      " 2012\n",
      "Highest Average Revenue (Million USD):\n",
      " 205.1806124573583\n"
     ]
    }
   ],
   "source": [
    "yearlyrevenue = df.groupby(\"Year\")[\"BoxOffice_Million\"].mean()\n",
    "highestyear = yearlyrevenue.idxmax()\n",
    "highestrevenue = yearlyrevenue.max()\n",
    "\n",
    "print (\"Year with the Highest Average Box Office Revenue:\\n\", highestyear)\n",
    "print (\"Highest Average Revenue (Million USD):\\n\", highestrevenue)"
   ]
  },
  {
   "cell_type": "code",
   "execution_count": 46,
   "id": "20bb466a-f04d-44ea-9897-983c3f255a78",
   "metadata": {},
   "outputs": [
    {
     "name": "stdout",
     "output_type": "stream",
     "text": [
      "Percentage of Movies by Genre:\n",
      " Genre\n",
      "Adventure    70.13750\n",
      "Sci-Fi       10.02625\n",
      "Fantasy       9.93875\n",
      "Action        9.89750\n",
      "Name: proportion, dtype: float64\n"
     ]
    }
   ],
   "source": [
    "genrepercentage = df[\"Genre\"].value_counts(normalize=True) * 100\n",
    "print (\"Percentage of Movies by Genre:\\n\", genrepercentage)"
   ]
  },
  {
   "cell_type": "code",
   "execution_count": null,
   "id": "de6776dc-0335-4946-a599-a7db8133fe65",
   "metadata": {},
   "outputs": [],
   "source": []
  },
  {
   "cell_type": "code",
   "execution_count": 6,
   "id": "9a7c7641-bf32-4315-a22b-b88127bbcdef",
   "metadata": {},
   "outputs": [
    {
     "data": {
      "text/plain": [
       "(80000, 10)"
      ]
     },
     "execution_count": 6,
     "metadata": {},
     "output_type": "execute_result"
    }
   ],
   "source": [
    "df.shape"
   ]
  },
  {
   "cell_type": "code",
   "execution_count": 7,
   "id": "d75f8465-dda5-4596-ad00-a4f30c7419fb",
   "metadata": {},
   "outputs": [
    {
     "name": "stdout",
     "output_type": "stream",
     "text": [
      "Rows before removing duplicates: 80000\n",
      "Rows after removing duplicates: 80000\n",
      "Number of Duplicate Rows: 0\n",
      "(80000, 10)\n"
     ]
    }
   ],
   "source": [
    "#total rows before removing duplicates\n",
    "rows_beforeduplicates = df.shape[0]\n",
    "duplicates = df.duplicated().sum()\n",
    "#remove duplicates\n",
    "df = df.drop_duplicates()\n",
    "\n",
    "#total rows after removing duplicates\n",
    "rows_afterduplicates = df.shape[0]\n",
    "\n",
    "print (\"Rows before removing duplicates:\", rows_beforeduplicates)\n",
    "print (\"Rows after removing duplicates:\", rows_afterduplicates)\n",
    "print (\"Number of Duplicate Rows:\", duplicates)\n",
    "print (df.shape)"
   ]
  },
  {
   "cell_type": "code",
   "execution_count": 8,
   "id": "74c6ec27-b386-4f09-afc6-9626890b2493",
   "metadata": {},
   "outputs": [
    {
     "name": "stdout",
     "output_type": "stream",
     "text": [
      "                                 Descriptive statistics:\n",
      "\n"
     ]
    },
    {
     "data": {
      "text/html": [
       "<div>\n",
       "<style scoped>\n",
       "    .dataframe tbody tr th:only-of-type {\n",
       "        vertical-align: middle;\n",
       "    }\n",
       "\n",
       "    .dataframe tbody tr th {\n",
       "        vertical-align: top;\n",
       "    }\n",
       "\n",
       "    .dataframe thead th {\n",
       "        text-align: right;\n",
       "    }\n",
       "</style>\n",
       "<table border=\"1\" class=\"dataframe\">\n",
       "  <thead>\n",
       "    <tr style=\"text-align: right;\">\n",
       "      <th></th>\n",
       "      <th>Year</th>\n",
       "      <th>Budget_Million</th>\n",
       "      <th>BoxOffice_Million</th>\n",
       "      <th>Runtime_Minutes</th>\n",
       "      <th>Rating</th>\n",
       "    </tr>\n",
       "  </thead>\n",
       "  <tbody>\n",
       "    <tr>\n",
       "      <th>count</th>\n",
       "      <td>80000.000000</td>\n",
       "      <td>80000.000000</td>\n",
       "      <td>80000.000000</td>\n",
       "      <td>80000.000000</td>\n",
       "      <td>80000.000000</td>\n",
       "    </tr>\n",
       "    <tr>\n",
       "      <th>mean</th>\n",
       "      <td>2001.509425</td>\n",
       "      <td>100.703075</td>\n",
       "      <td>200.406060</td>\n",
       "      <td>126.957796</td>\n",
       "      <td>5.498771</td>\n",
       "    </tr>\n",
       "    <tr>\n",
       "      <th>std</th>\n",
       "      <td>12.660702</td>\n",
       "      <td>48.357263</td>\n",
       "      <td>97.593747</td>\n",
       "      <td>14.465309</td>\n",
       "      <td>2.593778</td>\n",
       "    </tr>\n",
       "    <tr>\n",
       "      <th>min</th>\n",
       "      <td>1980.000000</td>\n",
       "      <td>10.000000</td>\n",
       "      <td>5.000000</td>\n",
       "      <td>80.000000</td>\n",
       "      <td>1.000000</td>\n",
       "    </tr>\n",
       "    <tr>\n",
       "      <th>25%</th>\n",
       "      <td>1991.000000</td>\n",
       "      <td>66.286950</td>\n",
       "      <td>132.262816</td>\n",
       "      <td>116.967810</td>\n",
       "      <td>3.300000</td>\n",
       "    </tr>\n",
       "    <tr>\n",
       "      <th>50%</th>\n",
       "      <td>2002.000000</td>\n",
       "      <td>100.072418</td>\n",
       "      <td>199.069221</td>\n",
       "      <td>126.128505</td>\n",
       "      <td>5.500000</td>\n",
       "    </tr>\n",
       "    <tr>\n",
       "      <th>75%</th>\n",
       "      <td>2012.000000</td>\n",
       "      <td>133.697708</td>\n",
       "      <td>266.389786</td>\n",
       "      <td>136.303363</td>\n",
       "      <td>7.700000</td>\n",
       "    </tr>\n",
       "    <tr>\n",
       "      <th>max</th>\n",
       "      <td>2023.000000</td>\n",
       "      <td>289.109392</td>\n",
       "      <td>621.936634</td>\n",
       "      <td>180.000000</td>\n",
       "      <td>10.000000</td>\n",
       "    </tr>\n",
       "  </tbody>\n",
       "</table>\n",
       "</div>"
      ],
      "text/plain": [
       "               Year  Budget_Million  BoxOffice_Million  Runtime_Minutes  \\\n",
       "count  80000.000000    80000.000000       80000.000000     80000.000000   \n",
       "mean    2001.509425      100.703075         200.406060       126.957796   \n",
       "std       12.660702       48.357263          97.593747        14.465309   \n",
       "min     1980.000000       10.000000           5.000000        80.000000   \n",
       "25%     1991.000000       66.286950         132.262816       116.967810   \n",
       "50%     2002.000000      100.072418         199.069221       126.128505   \n",
       "75%     2012.000000      133.697708         266.389786       136.303363   \n",
       "max     2023.000000      289.109392         621.936634       180.000000   \n",
       "\n",
       "             Rating  \n",
       "count  80000.000000  \n",
       "mean       5.498771  \n",
       "std        2.593778  \n",
       "min        1.000000  \n",
       "25%        3.300000  \n",
       "50%        5.500000  \n",
       "75%        7.700000  \n",
       "max       10.000000  "
      ]
     },
     "execution_count": 8,
     "metadata": {},
     "output_type": "execute_result"
    }
   ],
   "source": [
    "print (\"                                 Descriptive statistics:\\n\")\n",
    "df.describe()"
   ]
  },
  {
   "cell_type": "code",
   "execution_count": 9,
   "id": "7e1a6910-4ef6-4b5f-964a-e57e24e10c63",
   "metadata": {},
   "outputs": [
    {
     "name": "stdout",
     "output_type": "stream",
     "text": [
      "Correlation matrix:\n"
     ]
    },
    {
     "data": {
      "text/html": [
       "<div>\n",
       "<style scoped>\n",
       "    .dataframe tbody tr th:only-of-type {\n",
       "        vertical-align: middle;\n",
       "    }\n",
       "\n",
       "    .dataframe tbody tr th {\n",
       "        vertical-align: top;\n",
       "    }\n",
       "\n",
       "    .dataframe thead th {\n",
       "        text-align: right;\n",
       "    }\n",
       "</style>\n",
       "<table border=\"1\" class=\"dataframe\">\n",
       "  <thead>\n",
       "    <tr style=\"text-align: right;\">\n",
       "      <th></th>\n",
       "      <th>Year</th>\n",
       "      <th>Budget_Million</th>\n",
       "      <th>BoxOffice_Million</th>\n",
       "      <th>Runtime_Minutes</th>\n",
       "      <th>Rating</th>\n",
       "    </tr>\n",
       "  </thead>\n",
       "  <tbody>\n",
       "    <tr>\n",
       "      <th>Year</th>\n",
       "      <td>1.000000</td>\n",
       "      <td>0.002123</td>\n",
       "      <td>-0.000878</td>\n",
       "      <td>-0.004212</td>\n",
       "      <td>0.000684</td>\n",
       "    </tr>\n",
       "    <tr>\n",
       "      <th>Budget_Million</th>\n",
       "      <td>0.002123</td>\n",
       "      <td>1.000000</td>\n",
       "      <td>0.000460</td>\n",
       "      <td>0.003103</td>\n",
       "      <td>0.002860</td>\n",
       "    </tr>\n",
       "    <tr>\n",
       "      <th>BoxOffice_Million</th>\n",
       "      <td>-0.000878</td>\n",
       "      <td>0.000460</td>\n",
       "      <td>1.000000</td>\n",
       "      <td>-0.002474</td>\n",
       "      <td>-0.004357</td>\n",
       "    </tr>\n",
       "    <tr>\n",
       "      <th>Runtime_Minutes</th>\n",
       "      <td>-0.004212</td>\n",
       "      <td>0.003103</td>\n",
       "      <td>-0.002474</td>\n",
       "      <td>1.000000</td>\n",
       "      <td>-0.007358</td>\n",
       "    </tr>\n",
       "    <tr>\n",
       "      <th>Rating</th>\n",
       "      <td>0.000684</td>\n",
       "      <td>0.002860</td>\n",
       "      <td>-0.004357</td>\n",
       "      <td>-0.007358</td>\n",
       "      <td>1.000000</td>\n",
       "    </tr>\n",
       "  </tbody>\n",
       "</table>\n",
       "</div>"
      ],
      "text/plain": [
       "                       Year  Budget_Million  BoxOffice_Million  \\\n",
       "Year               1.000000        0.002123          -0.000878   \n",
       "Budget_Million     0.002123        1.000000           0.000460   \n",
       "BoxOffice_Million -0.000878        0.000460           1.000000   \n",
       "Runtime_Minutes   -0.004212        0.003103          -0.002474   \n",
       "Rating             0.000684        0.002860          -0.004357   \n",
       "\n",
       "                   Runtime_Minutes    Rating  \n",
       "Year                     -0.004212  0.000684  \n",
       "Budget_Million            0.003103  0.002860  \n",
       "BoxOffice_Million        -0.002474 -0.004357  \n",
       "Runtime_Minutes           1.000000 -0.007358  \n",
       "Rating                   -0.007358  1.000000  "
      ]
     },
     "execution_count": 9,
     "metadata": {},
     "output_type": "execute_result"
    }
   ],
   "source": [
    "#Correlation Matrix\n",
    "\n",
    "#seelcting numerical columns only\n",
    "numerical_df = df.select_dtypes(include=['float64', 'int64'])\n",
    "\n",
    "#calculate correlation matrix\n",
    "correlation_matrix = numerical_df.corr()\n",
    "\n",
    "print (\"Correlation matrix:\")\n",
    "correlation_matrix"
   ]
  },
  {
   "cell_type": "code",
   "execution_count": 10,
   "id": "a747c47f-ee2a-4fa0-9f9b-882563d997d8",
   "metadata": {},
   "outputs": [],
   "source": [
    "from sklearn.model_selection import train_test_split\n",
    "\n",
    "#select features and target\n",
    "x = df[[\"Year\", \"Budget_Million\", \"BoxOffice_Million\", \"Runtime_Minutes\"]]\n",
    "\n",
    "y = df[\"Award_Won\"]"
   ]
  },
  {
   "cell_type": "code",
   "execution_count": 11,
   "id": "3572c446-a3af-46ba-9290-9d1e430468c4",
   "metadata": {},
   "outputs": [],
   "source": [
    "X_train, X_test, y_train, y_test = train_test_split(x, y,\n",
    "                                                    test_size=0.2, random_state=42)"
   ]
  },
  {
   "cell_type": "code",
   "execution_count": 12,
   "id": "25ba5cc0-8679-4282-8090-35c54cacee86",
   "metadata": {},
   "outputs": [
    {
     "name": "stdout",
     "output_type": "stream",
     "text": [
      "Shapes of training and test data sets:\n",
      "\n",
      "(64000, 4) (16000, 4) (64000,) (16000,)\n"
     ]
    }
   ],
   "source": [
    "print (\"Shapes of training and test data sets:\\n\")\n",
    "print (X_train.shape, X_test.shape, y_train.shape, y_test.shape)"
   ]
  },
  {
   "cell_type": "code",
   "execution_count": 13,
   "id": "d46fd364-2ed0-433f-9707-0166a29714e3",
   "metadata": {},
   "outputs": [
    {
     "data": {
      "text/html": [
       "<style>#sk-container-id-1 {\n",
       "  /* Definition of color scheme common for light and dark mode */\n",
       "  --sklearn-color-text: black;\n",
       "  --sklearn-color-line: gray;\n",
       "  /* Definition of color scheme for unfitted estimators */\n",
       "  --sklearn-color-unfitted-level-0: #fff5e6;\n",
       "  --sklearn-color-unfitted-level-1: #f6e4d2;\n",
       "  --sklearn-color-unfitted-level-2: #ffe0b3;\n",
       "  --sklearn-color-unfitted-level-3: chocolate;\n",
       "  /* Definition of color scheme for fitted estimators */\n",
       "  --sklearn-color-fitted-level-0: #f0f8ff;\n",
       "  --sklearn-color-fitted-level-1: #d4ebff;\n",
       "  --sklearn-color-fitted-level-2: #b3dbfd;\n",
       "  --sklearn-color-fitted-level-3: cornflowerblue;\n",
       "\n",
       "  /* Specific color for light theme */\n",
       "  --sklearn-color-text-on-default-background: var(--sg-text-color, var(--theme-code-foreground, var(--jp-content-font-color1, black)));\n",
       "  --sklearn-color-background: var(--sg-background-color, var(--theme-background, var(--jp-layout-color0, white)));\n",
       "  --sklearn-color-border-box: var(--sg-text-color, var(--theme-code-foreground, var(--jp-content-font-color1, black)));\n",
       "  --sklearn-color-icon: #696969;\n",
       "\n",
       "  @media (prefers-color-scheme: dark) {\n",
       "    /* Redefinition of color scheme for dark theme */\n",
       "    --sklearn-color-text-on-default-background: var(--sg-text-color, var(--theme-code-foreground, var(--jp-content-font-color1, white)));\n",
       "    --sklearn-color-background: var(--sg-background-color, var(--theme-background, var(--jp-layout-color0, #111)));\n",
       "    --sklearn-color-border-box: var(--sg-text-color, var(--theme-code-foreground, var(--jp-content-font-color1, white)));\n",
       "    --sklearn-color-icon: #878787;\n",
       "  }\n",
       "}\n",
       "\n",
       "#sk-container-id-1 {\n",
       "  color: var(--sklearn-color-text);\n",
       "}\n",
       "\n",
       "#sk-container-id-1 pre {\n",
       "  padding: 0;\n",
       "}\n",
       "\n",
       "#sk-container-id-1 input.sk-hidden--visually {\n",
       "  border: 0;\n",
       "  clip: rect(1px 1px 1px 1px);\n",
       "  clip: rect(1px, 1px, 1px, 1px);\n",
       "  height: 1px;\n",
       "  margin: -1px;\n",
       "  overflow: hidden;\n",
       "  padding: 0;\n",
       "  position: absolute;\n",
       "  width: 1px;\n",
       "}\n",
       "\n",
       "#sk-container-id-1 div.sk-dashed-wrapped {\n",
       "  border: 1px dashed var(--sklearn-color-line);\n",
       "  margin: 0 0.4em 0.5em 0.4em;\n",
       "  box-sizing: border-box;\n",
       "  padding-bottom: 0.4em;\n",
       "  background-color: var(--sklearn-color-background);\n",
       "}\n",
       "\n",
       "#sk-container-id-1 div.sk-container {\n",
       "  /* jupyter's `normalize.less` sets `[hidden] { display: none; }`\n",
       "     but bootstrap.min.css set `[hidden] { display: none !important; }`\n",
       "     so we also need the `!important` here to be able to override the\n",
       "     default hidden behavior on the sphinx rendered scikit-learn.org.\n",
       "     See: https://github.com/scikit-learn/scikit-learn/issues/21755 */\n",
       "  display: inline-block !important;\n",
       "  position: relative;\n",
       "}\n",
       "\n",
       "#sk-container-id-1 div.sk-text-repr-fallback {\n",
       "  display: none;\n",
       "}\n",
       "\n",
       "div.sk-parallel-item,\n",
       "div.sk-serial,\n",
       "div.sk-item {\n",
       "  /* draw centered vertical line to link estimators */\n",
       "  background-image: linear-gradient(var(--sklearn-color-text-on-default-background), var(--sklearn-color-text-on-default-background));\n",
       "  background-size: 2px 100%;\n",
       "  background-repeat: no-repeat;\n",
       "  background-position: center center;\n",
       "}\n",
       "\n",
       "/* Parallel-specific style estimator block */\n",
       "\n",
       "#sk-container-id-1 div.sk-parallel-item::after {\n",
       "  content: \"\";\n",
       "  width: 100%;\n",
       "  border-bottom: 2px solid var(--sklearn-color-text-on-default-background);\n",
       "  flex-grow: 1;\n",
       "}\n",
       "\n",
       "#sk-container-id-1 div.sk-parallel {\n",
       "  display: flex;\n",
       "  align-items: stretch;\n",
       "  justify-content: center;\n",
       "  background-color: var(--sklearn-color-background);\n",
       "  position: relative;\n",
       "}\n",
       "\n",
       "#sk-container-id-1 div.sk-parallel-item {\n",
       "  display: flex;\n",
       "  flex-direction: column;\n",
       "}\n",
       "\n",
       "#sk-container-id-1 div.sk-parallel-item:first-child::after {\n",
       "  align-self: flex-end;\n",
       "  width: 50%;\n",
       "}\n",
       "\n",
       "#sk-container-id-1 div.sk-parallel-item:last-child::after {\n",
       "  align-self: flex-start;\n",
       "  width: 50%;\n",
       "}\n",
       "\n",
       "#sk-container-id-1 div.sk-parallel-item:only-child::after {\n",
       "  width: 0;\n",
       "}\n",
       "\n",
       "/* Serial-specific style estimator block */\n",
       "\n",
       "#sk-container-id-1 div.sk-serial {\n",
       "  display: flex;\n",
       "  flex-direction: column;\n",
       "  align-items: center;\n",
       "  background-color: var(--sklearn-color-background);\n",
       "  padding-right: 1em;\n",
       "  padding-left: 1em;\n",
       "}\n",
       "\n",
       "\n",
       "/* Toggleable style: style used for estimator/Pipeline/ColumnTransformer box that is\n",
       "clickable and can be expanded/collapsed.\n",
       "- Pipeline and ColumnTransformer use this feature and define the default style\n",
       "- Estimators will overwrite some part of the style using the `sk-estimator` class\n",
       "*/\n",
       "\n",
       "/* Pipeline and ColumnTransformer style (default) */\n",
       "\n",
       "#sk-container-id-1 div.sk-toggleable {\n",
       "  /* Default theme specific background. It is overwritten whether we have a\n",
       "  specific estimator or a Pipeline/ColumnTransformer */\n",
       "  background-color: var(--sklearn-color-background);\n",
       "}\n",
       "\n",
       "/* Toggleable label */\n",
       "#sk-container-id-1 label.sk-toggleable__label {\n",
       "  cursor: pointer;\n",
       "  display: block;\n",
       "  width: 100%;\n",
       "  margin-bottom: 0;\n",
       "  padding: 0.5em;\n",
       "  box-sizing: border-box;\n",
       "  text-align: center;\n",
       "}\n",
       "\n",
       "#sk-container-id-1 label.sk-toggleable__label-arrow:before {\n",
       "  /* Arrow on the left of the label */\n",
       "  content: \"▸\";\n",
       "  float: left;\n",
       "  margin-right: 0.25em;\n",
       "  color: var(--sklearn-color-icon);\n",
       "}\n",
       "\n",
       "#sk-container-id-1 label.sk-toggleable__label-arrow:hover:before {\n",
       "  color: var(--sklearn-color-text);\n",
       "}\n",
       "\n",
       "/* Toggleable content - dropdown */\n",
       "\n",
       "#sk-container-id-1 div.sk-toggleable__content {\n",
       "  max-height: 0;\n",
       "  max-width: 0;\n",
       "  overflow: hidden;\n",
       "  text-align: left;\n",
       "  /* unfitted */\n",
       "  background-color: var(--sklearn-color-unfitted-level-0);\n",
       "}\n",
       "\n",
       "#sk-container-id-1 div.sk-toggleable__content.fitted {\n",
       "  /* fitted */\n",
       "  background-color: var(--sklearn-color-fitted-level-0);\n",
       "}\n",
       "\n",
       "#sk-container-id-1 div.sk-toggleable__content pre {\n",
       "  margin: 0.2em;\n",
       "  border-radius: 0.25em;\n",
       "  color: var(--sklearn-color-text);\n",
       "  /* unfitted */\n",
       "  background-color: var(--sklearn-color-unfitted-level-0);\n",
       "}\n",
       "\n",
       "#sk-container-id-1 div.sk-toggleable__content.fitted pre {\n",
       "  /* unfitted */\n",
       "  background-color: var(--sklearn-color-fitted-level-0);\n",
       "}\n",
       "\n",
       "#sk-container-id-1 input.sk-toggleable__control:checked~div.sk-toggleable__content {\n",
       "  /* Expand drop-down */\n",
       "  max-height: 200px;\n",
       "  max-width: 100%;\n",
       "  overflow: auto;\n",
       "}\n",
       "\n",
       "#sk-container-id-1 input.sk-toggleable__control:checked~label.sk-toggleable__label-arrow:before {\n",
       "  content: \"▾\";\n",
       "}\n",
       "\n",
       "/* Pipeline/ColumnTransformer-specific style */\n",
       "\n",
       "#sk-container-id-1 div.sk-label input.sk-toggleable__control:checked~label.sk-toggleable__label {\n",
       "  color: var(--sklearn-color-text);\n",
       "  background-color: var(--sklearn-color-unfitted-level-2);\n",
       "}\n",
       "\n",
       "#sk-container-id-1 div.sk-label.fitted input.sk-toggleable__control:checked~label.sk-toggleable__label {\n",
       "  background-color: var(--sklearn-color-fitted-level-2);\n",
       "}\n",
       "\n",
       "/* Estimator-specific style */\n",
       "\n",
       "/* Colorize estimator box */\n",
       "#sk-container-id-1 div.sk-estimator input.sk-toggleable__control:checked~label.sk-toggleable__label {\n",
       "  /* unfitted */\n",
       "  background-color: var(--sklearn-color-unfitted-level-2);\n",
       "}\n",
       "\n",
       "#sk-container-id-1 div.sk-estimator.fitted input.sk-toggleable__control:checked~label.sk-toggleable__label {\n",
       "  /* fitted */\n",
       "  background-color: var(--sklearn-color-fitted-level-2);\n",
       "}\n",
       "\n",
       "#sk-container-id-1 div.sk-label label.sk-toggleable__label,\n",
       "#sk-container-id-1 div.sk-label label {\n",
       "  /* The background is the default theme color */\n",
       "  color: var(--sklearn-color-text-on-default-background);\n",
       "}\n",
       "\n",
       "/* On hover, darken the color of the background */\n",
       "#sk-container-id-1 div.sk-label:hover label.sk-toggleable__label {\n",
       "  color: var(--sklearn-color-text);\n",
       "  background-color: var(--sklearn-color-unfitted-level-2);\n",
       "}\n",
       "\n",
       "/* Label box, darken color on hover, fitted */\n",
       "#sk-container-id-1 div.sk-label.fitted:hover label.sk-toggleable__label.fitted {\n",
       "  color: var(--sklearn-color-text);\n",
       "  background-color: var(--sklearn-color-fitted-level-2);\n",
       "}\n",
       "\n",
       "/* Estimator label */\n",
       "\n",
       "#sk-container-id-1 div.sk-label label {\n",
       "  font-family: monospace;\n",
       "  font-weight: bold;\n",
       "  display: inline-block;\n",
       "  line-height: 1.2em;\n",
       "}\n",
       "\n",
       "#sk-container-id-1 div.sk-label-container {\n",
       "  text-align: center;\n",
       "}\n",
       "\n",
       "/* Estimator-specific */\n",
       "#sk-container-id-1 div.sk-estimator {\n",
       "  font-family: monospace;\n",
       "  border: 1px dotted var(--sklearn-color-border-box);\n",
       "  border-radius: 0.25em;\n",
       "  box-sizing: border-box;\n",
       "  margin-bottom: 0.5em;\n",
       "  /* unfitted */\n",
       "  background-color: var(--sklearn-color-unfitted-level-0);\n",
       "}\n",
       "\n",
       "#sk-container-id-1 div.sk-estimator.fitted {\n",
       "  /* fitted */\n",
       "  background-color: var(--sklearn-color-fitted-level-0);\n",
       "}\n",
       "\n",
       "/* on hover */\n",
       "#sk-container-id-1 div.sk-estimator:hover {\n",
       "  /* unfitted */\n",
       "  background-color: var(--sklearn-color-unfitted-level-2);\n",
       "}\n",
       "\n",
       "#sk-container-id-1 div.sk-estimator.fitted:hover {\n",
       "  /* fitted */\n",
       "  background-color: var(--sklearn-color-fitted-level-2);\n",
       "}\n",
       "\n",
       "/* Specification for estimator info (e.g. \"i\" and \"?\") */\n",
       "\n",
       "/* Common style for \"i\" and \"?\" */\n",
       "\n",
       ".sk-estimator-doc-link,\n",
       "a:link.sk-estimator-doc-link,\n",
       "a:visited.sk-estimator-doc-link {\n",
       "  float: right;\n",
       "  font-size: smaller;\n",
       "  line-height: 1em;\n",
       "  font-family: monospace;\n",
       "  background-color: var(--sklearn-color-background);\n",
       "  border-radius: 1em;\n",
       "  height: 1em;\n",
       "  width: 1em;\n",
       "  text-decoration: none !important;\n",
       "  margin-left: 1ex;\n",
       "  /* unfitted */\n",
       "  border: var(--sklearn-color-unfitted-level-1) 1pt solid;\n",
       "  color: var(--sklearn-color-unfitted-level-1);\n",
       "}\n",
       "\n",
       ".sk-estimator-doc-link.fitted,\n",
       "a:link.sk-estimator-doc-link.fitted,\n",
       "a:visited.sk-estimator-doc-link.fitted {\n",
       "  /* fitted */\n",
       "  border: var(--sklearn-color-fitted-level-1) 1pt solid;\n",
       "  color: var(--sklearn-color-fitted-level-1);\n",
       "}\n",
       "\n",
       "/* On hover */\n",
       "div.sk-estimator:hover .sk-estimator-doc-link:hover,\n",
       ".sk-estimator-doc-link:hover,\n",
       "div.sk-label-container:hover .sk-estimator-doc-link:hover,\n",
       ".sk-estimator-doc-link:hover {\n",
       "  /* unfitted */\n",
       "  background-color: var(--sklearn-color-unfitted-level-3);\n",
       "  color: var(--sklearn-color-background);\n",
       "  text-decoration: none;\n",
       "}\n",
       "\n",
       "div.sk-estimator.fitted:hover .sk-estimator-doc-link.fitted:hover,\n",
       ".sk-estimator-doc-link.fitted:hover,\n",
       "div.sk-label-container:hover .sk-estimator-doc-link.fitted:hover,\n",
       ".sk-estimator-doc-link.fitted:hover {\n",
       "  /* fitted */\n",
       "  background-color: var(--sklearn-color-fitted-level-3);\n",
       "  color: var(--sklearn-color-background);\n",
       "  text-decoration: none;\n",
       "}\n",
       "\n",
       "/* Span, style for the box shown on hovering the info icon */\n",
       ".sk-estimator-doc-link span {\n",
       "  display: none;\n",
       "  z-index: 9999;\n",
       "  position: relative;\n",
       "  font-weight: normal;\n",
       "  right: .2ex;\n",
       "  padding: .5ex;\n",
       "  margin: .5ex;\n",
       "  width: min-content;\n",
       "  min-width: 20ex;\n",
       "  max-width: 50ex;\n",
       "  color: var(--sklearn-color-text);\n",
       "  box-shadow: 2pt 2pt 4pt #999;\n",
       "  /* unfitted */\n",
       "  background: var(--sklearn-color-unfitted-level-0);\n",
       "  border: .5pt solid var(--sklearn-color-unfitted-level-3);\n",
       "}\n",
       "\n",
       ".sk-estimator-doc-link.fitted span {\n",
       "  /* fitted */\n",
       "  background: var(--sklearn-color-fitted-level-0);\n",
       "  border: var(--sklearn-color-fitted-level-3);\n",
       "}\n",
       "\n",
       ".sk-estimator-doc-link:hover span {\n",
       "  display: block;\n",
       "}\n",
       "\n",
       "/* \"?\"-specific style due to the `<a>` HTML tag */\n",
       "\n",
       "#sk-container-id-1 a.estimator_doc_link {\n",
       "  float: right;\n",
       "  font-size: 1rem;\n",
       "  line-height: 1em;\n",
       "  font-family: monospace;\n",
       "  background-color: var(--sklearn-color-background);\n",
       "  border-radius: 1rem;\n",
       "  height: 1rem;\n",
       "  width: 1rem;\n",
       "  text-decoration: none;\n",
       "  /* unfitted */\n",
       "  color: var(--sklearn-color-unfitted-level-1);\n",
       "  border: var(--sklearn-color-unfitted-level-1) 1pt solid;\n",
       "}\n",
       "\n",
       "#sk-container-id-1 a.estimator_doc_link.fitted {\n",
       "  /* fitted */\n",
       "  border: var(--sklearn-color-fitted-level-1) 1pt solid;\n",
       "  color: var(--sklearn-color-fitted-level-1);\n",
       "}\n",
       "\n",
       "/* On hover */\n",
       "#sk-container-id-1 a.estimator_doc_link:hover {\n",
       "  /* unfitted */\n",
       "  background-color: var(--sklearn-color-unfitted-level-3);\n",
       "  color: var(--sklearn-color-background);\n",
       "  text-decoration: none;\n",
       "}\n",
       "\n",
       "#sk-container-id-1 a.estimator_doc_link.fitted:hover {\n",
       "  /* fitted */\n",
       "  background-color: var(--sklearn-color-fitted-level-3);\n",
       "}\n",
       "</style><div id=\"sk-container-id-1\" class=\"sk-top-container\"><div class=\"sk-text-repr-fallback\"><pre>RandomForestClassifier(random_state=42)</pre><b>In a Jupyter environment, please rerun this cell to show the HTML representation or trust the notebook. <br />On GitHub, the HTML representation is unable to render, please try loading this page with nbviewer.org.</b></div><div class=\"sk-container\" hidden><div class=\"sk-item\"><div class=\"sk-estimator fitted sk-toggleable\"><input class=\"sk-toggleable__control sk-hidden--visually\" id=\"sk-estimator-id-1\" type=\"checkbox\" checked><label for=\"sk-estimator-id-1\" class=\"sk-toggleable__label fitted sk-toggleable__label-arrow fitted\">&nbsp;&nbsp;RandomForestClassifier<a class=\"sk-estimator-doc-link fitted\" rel=\"noreferrer\" target=\"_blank\" href=\"https://scikit-learn.org/1.4/modules/generated/sklearn.ensemble.RandomForestClassifier.html\">?<span>Documentation for RandomForestClassifier</span></a><span class=\"sk-estimator-doc-link fitted\">i<span>Fitted</span></span></label><div class=\"sk-toggleable__content fitted\"><pre>RandomForestClassifier(random_state=42)</pre></div> </div></div></div></div>"
      ],
      "text/plain": [
       "RandomForestClassifier(random_state=42)"
      ]
     },
     "execution_count": 13,
     "metadata": {},
     "output_type": "execute_result"
    }
   ],
   "source": [
    "from sklearn.ensemble import RandomForestClassifier\n",
    "from sklearn.metrics import accuracy_score, classification_report\n",
    "rf_model = RandomForestClassifier (random_state=42) \n",
    "rf_model.fit(X_train, y_train)"
   ]
  },
  {
   "cell_type": "code",
   "execution_count": 14,
   "id": "c881394a-c23c-4e97-9c13-85d07c21f4aa",
   "metadata": {},
   "outputs": [
    {
     "name": "stdout",
     "output_type": "stream",
     "text": [
      "['No' 'Yes' 'No' ... 'No' 'No' 'No']\n"
     ]
    }
   ],
   "source": [
    "y_pred_rf = rf_model.predict(X_test)\n",
    "print(y_pred_rf)"
   ]
  },
  {
   "cell_type": "code",
   "execution_count": 15,
   "id": "d7dfef51-ef5f-455d-97f0-18a6c257c087",
   "metadata": {},
   "outputs": [
    {
     "name": "stdout",
     "output_type": "stream",
     "text": [
      "Random Forest Accuracy:\n",
      "0.6824375\n"
     ]
    }
   ],
   "source": [
    "accuracy_rf = accuracy_score(y_test, y_pred_rf)\n",
    "print(\"Random Forest Accuracy:\")\n",
    "print(accuracy_rf)"
   ]
  },
  {
   "cell_type": "code",
   "execution_count": 16,
   "id": "022d9f4b-994b-41fc-86fb-87672713ef60",
   "metadata": {},
   "outputs": [
    {
     "name": "stdout",
     "output_type": "stream",
     "text": [
      "Random Forest Classification Report:\n",
      "              precision    recall  f1-score   support\n",
      "\n",
      "          No       0.70      0.96      0.81     11222\n",
      "         Yes       0.28      0.04      0.07      4778\n",
      "\n",
      "    accuracy                           0.68     16000\n",
      "   macro avg       0.49      0.50      0.44     16000\n",
      "weighted avg       0.57      0.68      0.59     16000\n",
      "\n"
     ]
    }
   ],
   "source": [
    "print(\"Random Forest Classification Report:\")\n",
    "print(classification_report(y_test, y_pred_rf))"
   ]
  },
  {
   "cell_type": "code",
   "execution_count": null,
   "id": "10dc7677-f40c-4bd8-8b1f-c2861d81fa8c",
   "metadata": {},
   "outputs": [],
   "source": [
    "from sklearn.model_selection import train_test_split\n",
    "from sklearn.svm import SVC\n",
    "from sklearn.preprocessing import LabelEncoder, StandardScaler\n",
    "from sklearn.metrics import classification_report, accuracy_score\n",
    "\n",
    "# Preprocessing the dataset\n",
    "# Encode the target variable (Award_Won: Yes -> 1, No -> 0)\n",
    "label_encoder = LabelEncoder()\n",
    "df['Award_Won'] = label_encoder.fit_transform(df['Award_Won'])\n",
    "\n",
    "# Select features and target\n",
    "X = df[['Budget_Million', 'BoxOffice_Million', 'Runtime_Minutes', 'Rating']]  # Numerical features\n",
    "y = df['Award_Won']  # Target variable\n",
    "\n",
    "# Standardize the features\n",
    "scaler = StandardScaler()\n",
    "X_scaled = scaler.fit_transform(X)\n",
    "\n",
    "# Split the data into training and testing sets\n",
    "X_train, X_test, y_train, y_test = train_test_split(X_scaled, y, test_size=0.2, random_state=42)\n",
    "\n",
    "# Create and train the SVM model\n",
    "svm_model = SVC(kernel='linear', random_state=42)\n",
    "svm_model.fit(X_train, y_train)\n",
    "\n",
    "# Make predictions and evaluate the model\n",
    "y_pred = svm_model.predict(X_test)\n",
    "accuracy = accuracy_score(y_test, y_pred)\n",
    "report = classification_report(y_test, y_pred)\n",
    "\n",
    "print (accuracy)\n",
    "print (report)"
   ]
  },
  {
   "cell_type": "code",
   "execution_count": 42,
   "id": "f0ebe532-4b44-48a6-bb92-477d6dcb1ae9",
   "metadata": {},
   "outputs": [
    {
     "name": "stdout",
     "output_type": "stream",
     "text": [
      "9505.759527145092\n",
      "-0.0012868114723645352\n"
     ]
    }
   ],
   "source": [
    "from sklearn.svm import SVR\n",
    "from sklearn.metrics import mean_squared_error, r2_score\n",
    "from sklearn.preprocessing import StandardScaler\n",
    "\n",
    "# Initialize the scaler\n",
    "scaler = StandardScaler()\n",
    "\n",
    "\n",
    "# Select features and target for regression\n",
    "X = df[['Budget_Million', 'Runtime_Minutes', 'Rating']]  # Example features\n",
    "y = df['BoxOffice_Million']  # Target variable\n",
    "\n",
    "# Standardize the features\n",
    "X_scaled = scaler.fit_transform(X)\n",
    "\n",
    "# Split the data into training and testing sets\n",
    "X_train, X_test, y_train, y_test = train_test_split(X_scaled, y, test_size=0.2, random_state=42)\n",
    "\n",
    "# Create and train the SVR model\n",
    "svr_model = SVR(kernel='rbf', C=1.0, epsilon=0.1)  # RBF kernel\n",
    "svr_model.fit(X_train, y_train)\n",
    "\n",
    "# Make predictions\n",
    "y_pred = svr_model.predict(X_test)\n",
    "\n",
    "# Evaluate the model\n",
    "mse = mean_squared_error(y_test, y_pred)\n",
    "r2 = r2_score(y_test, y_pred)\n",
    "\n",
    "print (mse)\n",
    "print (r2)\n"
   ]
  },
  {
   "cell_type": "code",
   "execution_count": null,
   "id": "205d0eab-c920-40df-b941-a0b561ae08f1",
   "metadata": {},
   "outputs": [],
   "source": []
  }
 ],
 "metadata": {
  "kernelspec": {
   "display_name": "Python 3 (ipykernel)",
   "language": "python",
   "name": "python3"
  },
  "language_info": {
   "codemirror_mode": {
    "name": "ipython",
    "version": 3
   },
   "file_extension": ".py",
   "mimetype": "text/x-python",
   "name": "python",
   "nbconvert_exporter": "python",
   "pygments_lexer": "ipython3",
   "version": "3.12.4"
  }
 },
 "nbformat": 4,
 "nbformat_minor": 5
}
