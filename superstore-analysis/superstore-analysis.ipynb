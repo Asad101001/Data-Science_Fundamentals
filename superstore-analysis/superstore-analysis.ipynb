{
 "cells": [
  {
   "cell_type": "code",
   "execution_count": 1,
   "id": "b296ce74",
   "metadata": {},
   "outputs": [
    {
     "name": "stdout",
     "output_type": "stream",
     "text": [
      "Dataset saved as raw_superstore_data.csv\n"
     ]
    }
   ],
   "source": [
    "import pandas as pd\n",
    "import numpy as np\n",
    "import random\n",
    "\n",
    "# Set random seed for reproducibility\n",
    "random.seed(42)\n",
    "np.random.seed(42)\n",
    "\n",
    "# Number of rows for the dataset\n",
    "num_rows = 1_000_000\n",
    "\n",
    "# Generate raw data for the dataset\n",
    "countries = ['USA', 'India', 'Brazil', 'China', 'Germany', 'Australia', 'South Africa', 'Canada', 'UK', 'Japan']\n",
    "regions = ['North', 'South', 'East', 'West', 'Central']\n",
    "store_types = ['Supermarket', 'Grocery Store', 'Wholesale', 'Hypermarket', None]\n",
    "categories = ['Fruits', 'Vegetables', 'Dairy', 'Meat', 'Snacks', 'Beverages', 'Household', 'Electronics', 'Clothing', None]\n",
    "days = ['Monday', 'Tuesday', 'Wednesday', 'Thursday', 'Friday', 'Saturday', 'Sunday']\n",
    "payment_methods = ['Cash', 'Credit Card', 'Mobile Payment', 'Debit Card', None]\n",
    "bool_options = [True, False, None]\n",
    "\n",
    "data = {\n",
    "    'Transaction_ID': [f\"T{random.randint(1000000, 9999999)}\" for _ in range(num_rows)],\n",
    "    'Country': [random.choice(countries) for _ in range(num_rows)],\n",
    "    'Region': [random.choice(regions) for _ in range(num_rows)],\n",
    "    'Store_Type': [random.choice(store_types) for _ in range(num_rows)],\n",
    "    'Category': [random.choice(categories) for _ in range(num_rows)],\n",
    "    'Item_ID': [f\"I{random.randint(10000, 99999)}\" for _ in range(num_rows)],\n",
    "    'Quantity': [random.randint(1, 100) if random.random() > 0.1 else None for _ in range(num_rows)],\n",
    "    'Price_per_Unit': [round(random.uniform(1.0, 500.0), 2) if random.random() > 0.05 else None for _ in range(num_rows)],\n",
    "    'Total_Sales': [None for _ in range(num_rows)],  # Placeholder for raw data\n",
    "    'Discount_Applied': [random.choice(bool_options) for _ in range(num_rows)],\n",
    "    'Day': [random.choice(days) for _ in range(num_rows)],\n",
    "    'Time_of_Purchase': [f\"{random.randint(0, 23)}:{random.randint(0, 59)}\" if random.random() > 0.1 else None for _ in range(num_rows)],\n",
    "    'Payment_Method': [random.choice(payment_methods) for _ in range(num_rows)],\n",
    "    'Customer_ID': [f\"C{random.randint(100000, 999999)}\" if random.random() > 0.2 else None for _ in range(num_rows)],\n",
    "    'Loyalty_Card_Used': [random.choice(bool_options) for _ in range(num_rows)],\n",
    "    'Employee_ID': [f\"E{random.randint(1000, 9999)}\" if random.random() > 0.1 else None for _ in range(num_rows)],\n",
    "    'Feedback_Score': [random.randint(1, 5) if random.random() > 0.3 else None for _ in range(num_rows)],\n",
    "    'Return': [random.choice(bool_options) for _ in range(num_rows)],\n",
    "    'Weather': [random.choice(['Sunny', 'Rainy', 'Snowy', 'Cloudy', None]) for _ in range(num_rows)],\n",
    "    'Holiday': [random.choice(bool_options) for _ in range(num_rows)]\n",
    "}\n",
    "\n",
    "# Create a DataFrame\n",
    "df = pd.DataFrame(data)\n",
    "\n",
    "# Introduce leading/trailing spaces to some columns\n",
    "df['Country'] = df['Country'].apply(lambda x: f\"  {x}  \" if random.random() > 0.7 else x)\n",
    "df['Store_Type'] = df['Store_Type'].apply(lambda x: f\"{x}  \" if random.random() > 0.5 else x)\n",
    "df['Category'] = df['Category'].apply(lambda x: f\"  {x}\" if random.random() > 0.5 else x)\n",
    "\n",
    "# Add some duplicate rows\n",
    "df = pd.concat([df, df.sample(frac=0.05)], ignore_index=True)\n",
    "\n",
    "# Save to CSV\n",
    "df.to_csv(\"raw_superstore_data.csv\", index=False)\n",
    "print(\"Dataset saved as raw_superstore_data.csv\")"
   ]
  },
  {
   "cell_type": "markdown",
   "id": "cb622bbb",
   "metadata": {},
   "source": [
    "# Step 1: Load the Dataset"
   ]
  },
  {
   "cell_type": "code",
   "execution_count": 3,
   "id": "8df61f5b",
   "metadata": {},
   "outputs": [
    {
     "data": {
      "text/html": [
       "<div>\n",
       "<style scoped>\n",
       "    .dataframe tbody tr th:only-of-type {\n",
       "        vertical-align: middle;\n",
       "    }\n",
       "\n",
       "    .dataframe tbody tr th {\n",
       "        vertical-align: top;\n",
       "    }\n",
       "\n",
       "    .dataframe thead th {\n",
       "        text-align: right;\n",
       "    }\n",
       "</style>\n",
       "<table border=\"1\" class=\"dataframe\">\n",
       "  <thead>\n",
       "    <tr style=\"text-align: right;\">\n",
       "      <th></th>\n",
       "      <th>Transaction_ID</th>\n",
       "      <th>Country</th>\n",
       "      <th>Region</th>\n",
       "      <th>Store_Type</th>\n",
       "      <th>Category</th>\n",
       "      <th>Item_ID</th>\n",
       "      <th>Quantity</th>\n",
       "      <th>Price_per_Unit</th>\n",
       "      <th>Total_Sales</th>\n",
       "      <th>Discount_Applied</th>\n",
       "      <th>Day</th>\n",
       "      <th>Time_of_Purchase</th>\n",
       "      <th>Payment_Method</th>\n",
       "      <th>Customer_ID</th>\n",
       "      <th>Loyalty_Card_Used</th>\n",
       "      <th>Employee_ID</th>\n",
       "      <th>Feedback_Score</th>\n",
       "      <th>Return</th>\n",
       "      <th>Weather</th>\n",
       "      <th>Holiday</th>\n",
       "    </tr>\n",
       "  </thead>\n",
       "  <tbody>\n",
       "    <tr>\n",
       "      <th>0</th>\n",
       "      <td>T2867825</td>\n",
       "      <td>UK</td>\n",
       "      <td>South</td>\n",
       "      <td>Supermarket</td>\n",
       "      <td>Fruits</td>\n",
       "      <td>I36836</td>\n",
       "      <td>43.0</td>\n",
       "      <td>344.61</td>\n",
       "      <td>NaN</td>\n",
       "      <td>False</td>\n",
       "      <td>Friday</td>\n",
       "      <td>22:1</td>\n",
       "      <td>Cash</td>\n",
       "      <td>C298340</td>\n",
       "      <td>True</td>\n",
       "      <td>E2761</td>\n",
       "      <td>NaN</td>\n",
       "      <td>NaN</td>\n",
       "      <td>Snowy</td>\n",
       "      <td>False</td>\n",
       "    </tr>\n",
       "    <tr>\n",
       "      <th>1</th>\n",
       "      <td>T1419610</td>\n",
       "      <td>USA</td>\n",
       "      <td>South</td>\n",
       "      <td>Wholesale</td>\n",
       "      <td>Beverages</td>\n",
       "      <td>I85457</td>\n",
       "      <td>76.0</td>\n",
       "      <td>414.14</td>\n",
       "      <td>NaN</td>\n",
       "      <td>NaN</td>\n",
       "      <td>Thursday</td>\n",
       "      <td>2:39</td>\n",
       "      <td>Cash</td>\n",
       "      <td>C467140</td>\n",
       "      <td>False</td>\n",
       "      <td>E6782</td>\n",
       "      <td>4.0</td>\n",
       "      <td>False</td>\n",
       "      <td>Sunny</td>\n",
       "      <td>NaN</td>\n",
       "    </tr>\n",
       "    <tr>\n",
       "      <th>2</th>\n",
       "      <td>T5614226</td>\n",
       "      <td>USA</td>\n",
       "      <td>Central</td>\n",
       "      <td>None</td>\n",
       "      <td>Beverages</td>\n",
       "      <td>I28818</td>\n",
       "      <td>53.0</td>\n",
       "      <td>157.36</td>\n",
       "      <td>NaN</td>\n",
       "      <td>NaN</td>\n",
       "      <td>Sunday</td>\n",
       "      <td>1:2</td>\n",
       "      <td>Debit Card</td>\n",
       "      <td>C203743</td>\n",
       "      <td>False</td>\n",
       "      <td>E9469</td>\n",
       "      <td>NaN</td>\n",
       "      <td>False</td>\n",
       "      <td>NaN</td>\n",
       "      <td>True</td>\n",
       "    </tr>\n",
       "    <tr>\n",
       "      <th>3</th>\n",
       "      <td>T5108603</td>\n",
       "      <td>Canada</td>\n",
       "      <td>East</td>\n",
       "      <td>NaN</td>\n",
       "      <td>Vegetables</td>\n",
       "      <td>I98489</td>\n",
       "      <td>29.0</td>\n",
       "      <td>371.94</td>\n",
       "      <td>NaN</td>\n",
       "      <td>True</td>\n",
       "      <td>Wednesday</td>\n",
       "      <td>18:38</td>\n",
       "      <td>NaN</td>\n",
       "      <td>C785538</td>\n",
       "      <td>False</td>\n",
       "      <td>E6376</td>\n",
       "      <td>3.0</td>\n",
       "      <td>NaN</td>\n",
       "      <td>NaN</td>\n",
       "      <td>True</td>\n",
       "    </tr>\n",
       "    <tr>\n",
       "      <th>4</th>\n",
       "      <td>T4744854</td>\n",
       "      <td>Brazil</td>\n",
       "      <td>West</td>\n",
       "      <td>Grocery Store</td>\n",
       "      <td>Dairy</td>\n",
       "      <td>I22306</td>\n",
       "      <td>13.0</td>\n",
       "      <td>464.09</td>\n",
       "      <td>NaN</td>\n",
       "      <td>False</td>\n",
       "      <td>Saturday</td>\n",
       "      <td>8:23</td>\n",
       "      <td>Mobile Payment</td>\n",
       "      <td>NaN</td>\n",
       "      <td>False</td>\n",
       "      <td>E8737</td>\n",
       "      <td>NaN</td>\n",
       "      <td>False</td>\n",
       "      <td>Sunny</td>\n",
       "      <td>False</td>\n",
       "    </tr>\n",
       "  </tbody>\n",
       "</table>\n",
       "</div>"
      ],
      "text/plain": [
       "  Transaction_ID     Country   Region       Store_Type      Category Item_ID  \\\n",
       "0       T2867825          UK    South    Supermarket          Fruits  I36836   \n",
       "1       T1419610         USA    South        Wholesale     Beverages  I85457   \n",
       "2       T5614226         USA  Central           None       Beverages  I28818   \n",
       "3       T5108603    Canada       East              NaN    Vegetables  I98489   \n",
       "4       T4744854    Brazil       West  Grocery Store           Dairy  I22306   \n",
       "\n",
       "   Quantity  Price_per_Unit  Total_Sales Discount_Applied        Day  \\\n",
       "0      43.0          344.61          NaN            False     Friday   \n",
       "1      76.0          414.14          NaN              NaN   Thursday   \n",
       "2      53.0          157.36          NaN              NaN     Sunday   \n",
       "3      29.0          371.94          NaN             True  Wednesday   \n",
       "4      13.0          464.09          NaN            False   Saturday   \n",
       "\n",
       "  Time_of_Purchase  Payment_Method Customer_ID Loyalty_Card_Used Employee_ID  \\\n",
       "0             22:1            Cash     C298340              True       E2761   \n",
       "1             2:39            Cash     C467140             False       E6782   \n",
       "2              1:2      Debit Card     C203743             False       E9469   \n",
       "3            18:38             NaN     C785538             False       E6376   \n",
       "4             8:23  Mobile Payment         NaN             False       E8737   \n",
       "\n",
       "   Feedback_Score Return Weather Holiday  \n",
       "0             NaN    NaN   Snowy   False  \n",
       "1             4.0  False   Sunny     NaN  \n",
       "2             NaN  False     NaN    True  \n",
       "3             3.0    NaN     NaN    True  \n",
       "4             NaN  False   Sunny   False  "
      ]
     },
     "execution_count": 3,
     "metadata": {},
     "output_type": "execute_result"
    }
   ],
   "source": [
    "import pandas as pd\n",
    "\n",
    "# Load the dataset\n",
    "df = pd.read_csv(\"raw_superstore_data.csv\")\n",
    "\n",
    "# Display the first few rows to understand its structure\n",
    "df.head()"
   ]
  },
  {
   "cell_type": "markdown",
   "id": "a8ba0b43",
   "metadata": {},
   "source": [
    "# Step 2: Check for Missing Values"
   ]
  },
  {
   "cell_type": "code",
   "execution_count": 4,
   "id": "1b193a21",
   "metadata": {},
   "outputs": [
    {
     "name": "stdout",
     "output_type": "stream",
     "text": [
      "Transaction_ID             0\n",
      "Country                    0\n",
      "Region                     0\n",
      "Store_Type            104726\n",
      "Category               52815\n",
      "Item_ID                    0\n",
      "Quantity              104894\n",
      "Price_per_Unit         52296\n",
      "Total_Sales          1050000\n",
      "Discount_Applied      350216\n",
      "Day                        0\n",
      "Time_of_Purchase      105228\n",
      "Payment_Method        209698\n",
      "Customer_ID           209819\n",
      "Loyalty_Card_Used     349698\n",
      "Employee_ID           104961\n",
      "Feedback_Score        315275\n",
      "Return                350336\n",
      "Weather               210194\n",
      "Holiday               350303\n",
      "dtype: int64\n"
     ]
    }
   ],
   "source": [
    "# Check missing values in each column\n",
    "missing_values = df.isnull().sum()\n",
    "print(missing_values)"
   ]
  },
  {
   "cell_type": "markdown",
   "id": "338e4109",
   "metadata": {},
   "source": [
    "# Step 3: Clean Leading and Trailing Spaces"
   ]
  },
  {
   "cell_type": "raw",
   "id": "ecf60239",
   "metadata": {},
   "source": [
    "Some columns may have extra spaces that affect analysis. We'll clean these."
   ]
  },
  {
   "cell_type": "code",
   "execution_count": 5,
   "id": "303f4499",
   "metadata": {},
   "outputs": [],
   "source": [
    "# Remove leading and trailing spaces from specific columns\n",
    "df['Country'] = df['Country'].str.strip()\n",
    "df['Store_Type'] = df['Store_Type'].str.strip()\n",
    "df['Category'] = df['Category'].str.strip()"
   ]
  },
  {
   "cell_type": "code",
   "execution_count": 6,
   "id": "39adcba9",
   "metadata": {},
   "outputs": [
    {
     "data": {
      "text/plain": [
       "(1050000, 20)"
      ]
     },
     "execution_count": 6,
     "metadata": {},
     "output_type": "execute_result"
    }
   ],
   "source": [
    "# shape of dataset\n",
    "df.shape"
   ]
  },
  {
   "cell_type": "markdown",
   "id": "6db4c81b",
   "metadata": {},
   "source": [
    "# Step 4: Remove Duplicate Rows"
   ]
  },
  {
   "cell_type": "code",
   "execution_count": 7,
   "id": "e4f7d332",
   "metadata": {},
   "outputs": [
    {
     "name": "stdout",
     "output_type": "stream",
     "text": [
      "Number of duplicate rows: 50000\n"
     ]
    }
   ],
   "source": [
    "# Count duplicates\n",
    "duplicates = df.duplicated().sum()\n",
    "print(\"Number of duplicate rows:\", duplicates)\n",
    "\n",
    "# Remove duplicates\n",
    "df = df.drop_duplicates()"
   ]
  },
  {
   "cell_type": "markdown",
   "id": "69a0811a",
   "metadata": {},
   "source": [
    "# Step 5: Fill Missing Region Based on Country"
   ]
  },
  {
   "cell_type": "code",
   "execution_count": 8,
   "id": "180960ab",
   "metadata": {},
   "outputs": [],
   "source": [
    "# Define a region mapping\n",
    "region_mapping = {\n",
    "    'USA': 'North',\n",
    "    'India': 'Central',\n",
    "    'Brazil': 'South',\n",
    "    'China': 'East',\n",
    "    'Germany': 'West',\n",
    "    'Australia': 'East',\n",
    "    'South Africa': 'South',\n",
    "    'Canada': 'North',\n",
    "    'UK': 'West',\n",
    "    'Japan': 'East'\n",
    "}\n",
    "\n",
    "# Fill missing regions based on country\n",
    "df['Region'] = df.apply(\n",
    "    lambda row: region_mapping[row['Country']] if pd.isnull(row['Region']) else row['Region'],\n",
    "    axis=1\n",
    ")\n"
   ]
  },
  {
   "cell_type": "markdown",
   "id": "b99c8425",
   "metadata": {},
   "source": [
    "# Step 6: Fill Missing Price_per_Unit Based on Category"
   ]
  },
  {
   "cell_type": "raw",
   "id": "60bb4676",
   "metadata": {},
   "source": [
    "We’ll calculate the average price per unit for each category and use it to fill missing values."
   ]
  },
  {
   "cell_type": "code",
   "execution_count": 9,
   "id": "6f7f8d9a",
   "metadata": {},
   "outputs": [],
   "source": [
    "# Calculate average price for each category\n",
    "avg_price_per_category = df.groupby('Category')['Price_per_Unit'].mean()\n",
    "\n",
    "# Manually fill missing prices for a few categories\n",
    "df.loc[(df['Category'] == 'Fruits') & \n",
    "       (df['Price_per_Unit'].isnull()), \n",
    "       'Price_per_Unit'] = avg_price_per_category['Fruits']\n",
    "\n",
    "df.loc[(df['Category'] == 'Vegetables') & \n",
    "       (df['Price_per_Unit'].isnull()), \n",
    "       'Price_per_Unit'] = avg_price_per_category['Vegetables']\n",
    "\n",
    "df.loc[(df['Category'] == 'Dairy') & \n",
    "       (df['Price_per_Unit'].isnull()), \n",
    "       'Price_per_Unit'] = avg_price_per_category['Dairy']\n",
    "# Repeat similar for other categories"
   ]
  },
  {
   "cell_type": "code",
   "execution_count": 10,
   "id": "a7530526",
   "metadata": {},
   "outputs": [
    {
     "data": {
      "text/html": [
       "<div>\n",
       "<style scoped>\n",
       "    .dataframe tbody tr th:only-of-type {\n",
       "        vertical-align: middle;\n",
       "    }\n",
       "\n",
       "    .dataframe tbody tr th {\n",
       "        vertical-align: top;\n",
       "    }\n",
       "\n",
       "    .dataframe thead th {\n",
       "        text-align: right;\n",
       "    }\n",
       "</style>\n",
       "<table border=\"1\" class=\"dataframe\">\n",
       "  <thead>\n",
       "    <tr style=\"text-align: right;\">\n",
       "      <th></th>\n",
       "      <th>Transaction_ID</th>\n",
       "      <th>Country</th>\n",
       "      <th>Region</th>\n",
       "      <th>Store_Type</th>\n",
       "      <th>Category</th>\n",
       "      <th>Item_ID</th>\n",
       "      <th>Quantity</th>\n",
       "      <th>Price_per_Unit</th>\n",
       "      <th>Total_Sales</th>\n",
       "      <th>Discount_Applied</th>\n",
       "      <th>Day</th>\n",
       "      <th>Time_of_Purchase</th>\n",
       "      <th>Payment_Method</th>\n",
       "      <th>Customer_ID</th>\n",
       "      <th>Loyalty_Card_Used</th>\n",
       "      <th>Employee_ID</th>\n",
       "      <th>Feedback_Score</th>\n",
       "      <th>Return</th>\n",
       "      <th>Weather</th>\n",
       "      <th>Holiday</th>\n",
       "    </tr>\n",
       "  </thead>\n",
       "  <tbody>\n",
       "    <tr>\n",
       "      <th>0</th>\n",
       "      <td>T2867825</td>\n",
       "      <td>UK</td>\n",
       "      <td>South</td>\n",
       "      <td>Supermarket</td>\n",
       "      <td>Fruits</td>\n",
       "      <td>I36836</td>\n",
       "      <td>43.0</td>\n",
       "      <td>344.61</td>\n",
       "      <td>NaN</td>\n",
       "      <td>False</td>\n",
       "      <td>Friday</td>\n",
       "      <td>22:1</td>\n",
       "      <td>Cash</td>\n",
       "      <td>C298340</td>\n",
       "      <td>True</td>\n",
       "      <td>E2761</td>\n",
       "      <td>NaN</td>\n",
       "      <td>NaN</td>\n",
       "      <td>Snowy</td>\n",
       "      <td>False</td>\n",
       "    </tr>\n",
       "    <tr>\n",
       "      <th>1</th>\n",
       "      <td>T1419610</td>\n",
       "      <td>USA</td>\n",
       "      <td>South</td>\n",
       "      <td>Wholesale</td>\n",
       "      <td>Beverages</td>\n",
       "      <td>I85457</td>\n",
       "      <td>76.0</td>\n",
       "      <td>414.14</td>\n",
       "      <td>NaN</td>\n",
       "      <td>NaN</td>\n",
       "      <td>Thursday</td>\n",
       "      <td>2:39</td>\n",
       "      <td>Cash</td>\n",
       "      <td>C467140</td>\n",
       "      <td>False</td>\n",
       "      <td>E6782</td>\n",
       "      <td>4.0</td>\n",
       "      <td>False</td>\n",
       "      <td>Sunny</td>\n",
       "      <td>NaN</td>\n",
       "    </tr>\n",
       "    <tr>\n",
       "      <th>2</th>\n",
       "      <td>T5614226</td>\n",
       "      <td>USA</td>\n",
       "      <td>Central</td>\n",
       "      <td>None</td>\n",
       "      <td>Beverages</td>\n",
       "      <td>I28818</td>\n",
       "      <td>53.0</td>\n",
       "      <td>157.36</td>\n",
       "      <td>NaN</td>\n",
       "      <td>NaN</td>\n",
       "      <td>Sunday</td>\n",
       "      <td>1:2</td>\n",
       "      <td>Debit Card</td>\n",
       "      <td>C203743</td>\n",
       "      <td>False</td>\n",
       "      <td>E9469</td>\n",
       "      <td>NaN</td>\n",
       "      <td>False</td>\n",
       "      <td>NaN</td>\n",
       "      <td>True</td>\n",
       "    </tr>\n",
       "    <tr>\n",
       "      <th>3</th>\n",
       "      <td>T5108603</td>\n",
       "      <td>Canada</td>\n",
       "      <td>East</td>\n",
       "      <td>NaN</td>\n",
       "      <td>Vegetables</td>\n",
       "      <td>I98489</td>\n",
       "      <td>29.0</td>\n",
       "      <td>371.94</td>\n",
       "      <td>NaN</td>\n",
       "      <td>True</td>\n",
       "      <td>Wednesday</td>\n",
       "      <td>18:38</td>\n",
       "      <td>NaN</td>\n",
       "      <td>C785538</td>\n",
       "      <td>False</td>\n",
       "      <td>E6376</td>\n",
       "      <td>3.0</td>\n",
       "      <td>NaN</td>\n",
       "      <td>NaN</td>\n",
       "      <td>True</td>\n",
       "    </tr>\n",
       "    <tr>\n",
       "      <th>4</th>\n",
       "      <td>T4744854</td>\n",
       "      <td>Brazil</td>\n",
       "      <td>West</td>\n",
       "      <td>Grocery Store</td>\n",
       "      <td>Dairy</td>\n",
       "      <td>I22306</td>\n",
       "      <td>13.0</td>\n",
       "      <td>464.09</td>\n",
       "      <td>NaN</td>\n",
       "      <td>False</td>\n",
       "      <td>Saturday</td>\n",
       "      <td>8:23</td>\n",
       "      <td>Mobile Payment</td>\n",
       "      <td>NaN</td>\n",
       "      <td>False</td>\n",
       "      <td>E8737</td>\n",
       "      <td>NaN</td>\n",
       "      <td>False</td>\n",
       "      <td>Sunny</td>\n",
       "      <td>False</td>\n",
       "    </tr>\n",
       "  </tbody>\n",
       "</table>\n",
       "</div>"
      ],
      "text/plain": [
       "  Transaction_ID Country   Region     Store_Type    Category Item_ID  \\\n",
       "0       T2867825      UK    South    Supermarket      Fruits  I36836   \n",
       "1       T1419610     USA    South      Wholesale   Beverages  I85457   \n",
       "2       T5614226     USA  Central           None   Beverages  I28818   \n",
       "3       T5108603  Canada     East            NaN  Vegetables  I98489   \n",
       "4       T4744854  Brazil     West  Grocery Store       Dairy  I22306   \n",
       "\n",
       "   Quantity  Price_per_Unit  Total_Sales Discount_Applied        Day  \\\n",
       "0      43.0          344.61          NaN            False     Friday   \n",
       "1      76.0          414.14          NaN              NaN   Thursday   \n",
       "2      53.0          157.36          NaN              NaN     Sunday   \n",
       "3      29.0          371.94          NaN             True  Wednesday   \n",
       "4      13.0          464.09          NaN            False   Saturday   \n",
       "\n",
       "  Time_of_Purchase  Payment_Method Customer_ID Loyalty_Card_Used Employee_ID  \\\n",
       "0             22:1            Cash     C298340              True       E2761   \n",
       "1             2:39            Cash     C467140             False       E6782   \n",
       "2              1:2      Debit Card     C203743             False       E9469   \n",
       "3            18:38             NaN     C785538             False       E6376   \n",
       "4             8:23  Mobile Payment         NaN             False       E8737   \n",
       "\n",
       "   Feedback_Score Return Weather Holiday  \n",
       "0             NaN    NaN   Snowy   False  \n",
       "1             4.0  False   Sunny     NaN  \n",
       "2             NaN  False     NaN    True  \n",
       "3             3.0    NaN     NaN    True  \n",
       "4             NaN  False   Sunny   False  "
      ]
     },
     "execution_count": 10,
     "metadata": {},
     "output_type": "execute_result"
    }
   ],
   "source": [
    "df.head()"
   ]
  },
  {
   "cell_type": "markdown",
   "id": "6ce3126e",
   "metadata": {},
   "source": [
    "# Step 7: Fill Missing Total_Sales"
   ]
  },
  {
   "cell_type": "code",
   "execution_count": 11,
   "id": "f7d53904",
   "metadata": {},
   "outputs": [],
   "source": [
    "# Fill Total Sales based on Quantity and Price_per_Unit\n",
    "df['Total_Sales'] = df['Quantity'] * df['Price_per_Unit']"
   ]
  },
  {
   "cell_type": "markdown",
   "id": "f13ae425",
   "metadata": {},
   "source": [
    "# Step 8: Fill Missing Store_Type Based on Region"
   ]
  },
  {
   "cell_type": "code",
   "execution_count": 14,
   "id": "010556b7",
   "metadata": {},
   "outputs": [],
   "source": [
    "# Find the most common store type in each region\n",
    "common_store_type_per_region = df.groupby(\n",
    "    'Region')['Store_Type'].agg(lambda x: x.mode()[0])\n",
    "\n",
    "# Fill missing Store_Type\n",
    "df.loc[(df['Region'] == 'North') & \n",
    "       (df['Store_Type'].isnull()), \n",
    "       'Store_Type'] = common_store_type_per_region['North']\n",
    "\n",
    "df.loc[(df['Region'] == 'Central') & \n",
    "       (df['Store_Type'].isnull()), \n",
    "       'Store_Type'] = common_store_type_per_region['Central']\n",
    "\n",
    "df.loc[(df['Region'] == 'South') & \n",
    "       (df['Store_Type'].isnull()), \n",
    "       'Store_Type'] = common_store_type_per_region['South']\n",
    "# Repeat for other regions"
   ]
  },
  {
   "cell_type": "markdown",
   "id": "f973f0d5",
   "metadata": {},
   "source": [
    "# Step 9: Fill Missing Feedback_Score"
   ]
  },
  {
   "cell_type": "code",
   "execution_count": 15,
   "id": "4f2ab067",
   "metadata": {},
   "outputs": [],
   "source": [
    "# Calculate average feedback for each store type\n",
    "avg_feedback_per_store = df.groupby(\n",
    "    'Store_Type')['Feedback_Score'].mean()\n",
    "\n",
    "# Fill missing feedback scores for some store types\n",
    "df.loc[(df['Store_Type'] == 'Supermarket') &\n",
    "       (df['Feedback_Score'].isnull()), \n",
    "       'Feedback_Score'] = avg_feedback_per_store['Supermarket']\n",
    "\n",
    "df.loc[(df['Store_Type'] == 'Grocery Store') &\n",
    "       (df['Feedback_Score'].isnull()), \n",
    "       'Feedback_Score'] = avg_feedback_per_store['Grocery Store']\n",
    "# Repeat for other store types"
   ]
  },
  {
   "cell_type": "markdown",
   "id": "39b78c36",
   "metadata": {},
   "source": [
    "# Step 10: Fill Missing Payment_Method"
   ]
  },
  {
   "cell_type": "code",
   "execution_count": 16,
   "id": "2877de54",
   "metadata": {},
   "outputs": [],
   "source": [
    "# Find the most common payment method for each store type\n",
    "common_payment_per_store = df.groupby(\n",
    "    'Store_Type')['Payment_Method'].agg(lambda x: x.mode()[0])\n",
    "\n",
    "# Fill missing payment methods for some store types\n",
    "df.loc[(df['Store_Type'] == 'Supermarket') & \n",
    "       (df['Payment_Method'].isnull()), \n",
    "       'Payment_Method'] = common_payment_per_store['Supermarket']\n",
    "\n",
    "df.loc[(df['Store_Type'] == 'Grocery Store') &\n",
    "       (df['Payment_Method'].isnull()), \n",
    "       'Payment_Method'] = common_payment_per_store['Grocery Store']\n",
    "# Repeat for other store types"
   ]
  },
  {
   "cell_type": "markdown",
   "id": "8717e178",
   "metadata": {},
   "source": [
    "# Step 11: Verify the Final Dataset"
   ]
  },
  {
   "cell_type": "code",
   "execution_count": 17,
   "id": "e2af7f15",
   "metadata": {},
   "outputs": [
    {
     "name": "stdout",
     "output_type": "stream",
     "text": [
      "Transaction_ID            0\n",
      "Country                   0\n",
      "Region                    0\n",
      "Store_Type            39794\n",
      "Category              50274\n",
      "Item_ID                   0\n",
      "Quantity              99998\n",
      "Price_per_Unit        35015\n",
      "Total_Sales          131474\n",
      "Discount_Applied     333560\n",
      "Day                       0\n",
      "Time_of_Purchase     100275\n",
      "Payment_Method       112283\n",
      "Customer_ID          199744\n",
      "Loyalty_Card_Used    333153\n",
      "Employee_ID           99857\n",
      "Feedback_Score       168170\n",
      "Return               333664\n",
      "Weather              200274\n",
      "Holiday              333565\n",
      "dtype: int64\n"
     ]
    }
   ],
   "source": [
    "# Check for remaining missing values\n",
    "missing_values_after = df.isnull().sum()\n",
    "print(missing_values_after)"
   ]
  },
  {
   "cell_type": "markdown",
   "id": "f61e2475",
   "metadata": {},
   "source": [
    "# Step 12: Save the Cleaned Dataset"
   ]
  },
  {
   "cell_type": "code",
   "execution_count": 18,
   "id": "0d6fc035",
   "metadata": {},
   "outputs": [
    {
     "name": "stdout",
     "output_type": "stream",
     "text": [
      "Cleaned dataset saved as cleaned_superstore_data.csv\n"
     ]
    }
   ],
   "source": [
    "df.to_csv(\"cleaned_superstore_data.csv\", index=False)\n",
    "print(\"Cleaned dataset saved as cleaned_superstore_data.csv\")"
   ]
  },
  {
   "cell_type": "markdown",
   "id": "3e1b423a",
   "metadata": {},
   "source": [
    "# (EDA) Exploratory Data Analysis"
   ]
  },
  {
   "cell_type": "code",
   "execution_count": 19,
   "id": "6b8718a4",
   "metadata": {},
   "outputs": [
    {
     "name": "stdout",
     "output_type": "stream",
     "text": [
      "<class 'pandas.core.frame.DataFrame'>\n",
      "Index: 1000000 entries, 0 to 999999\n",
      "Data columns (total 20 columns):\n",
      " #   Column             Non-Null Count    Dtype  \n",
      "---  ------             --------------    -----  \n",
      " 0   Transaction_ID     1000000 non-null  object \n",
      " 1   Country            1000000 non-null  object \n",
      " 2   Region             1000000 non-null  object \n",
      " 3   Store_Type         960206 non-null   object \n",
      " 4   Category           949726 non-null   object \n",
      " 5   Item_ID            1000000 non-null  object \n",
      " 6   Quantity           900002 non-null   float64\n",
      " 7   Price_per_Unit     964985 non-null   float64\n",
      " 8   Total_Sales        868526 non-null   float64\n",
      " 9   Discount_Applied   666440 non-null   object \n",
      " 10  Day                1000000 non-null  object \n",
      " 11  Time_of_Purchase   899725 non-null   object \n",
      " 12  Payment_Method     887717 non-null   object \n",
      " 13  Customer_ID        800256 non-null   object \n",
      " 14  Loyalty_Card_Used  666847 non-null   object \n",
      " 15  Employee_ID        900143 non-null   object \n",
      " 16  Feedback_Score     831830 non-null   float64\n",
      " 17  Return             666336 non-null   object \n",
      " 18  Weather            799726 non-null   object \n",
      " 19  Holiday            666435 non-null   object \n",
      "dtypes: float64(4), object(16)\n",
      "memory usage: 160.2+ MB\n",
      "None\n"
     ]
    }
   ],
   "source": [
    "# Check data types and missing values\n",
    "print(df.info())"
   ]
  },
  {
   "cell_type": "code",
   "execution_count": 21,
   "id": "12e09769",
   "metadata": {},
   "outputs": [
    {
     "data": {
      "text/html": [
       "<div>\n",
       "<style scoped>\n",
       "    .dataframe tbody tr th:only-of-type {\n",
       "        vertical-align: middle;\n",
       "    }\n",
       "\n",
       "    .dataframe tbody tr th {\n",
       "        vertical-align: top;\n",
       "    }\n",
       "\n",
       "    .dataframe thead th {\n",
       "        text-align: right;\n",
       "    }\n",
       "</style>\n",
       "<table border=\"1\" class=\"dataframe\">\n",
       "  <thead>\n",
       "    <tr style=\"text-align: right;\">\n",
       "      <th></th>\n",
       "      <th>Quantity</th>\n",
       "      <th>Price_per_Unit</th>\n",
       "      <th>Total_Sales</th>\n",
       "      <th>Feedback_Score</th>\n",
       "    </tr>\n",
       "  </thead>\n",
       "  <tbody>\n",
       "    <tr>\n",
       "      <th>count</th>\n",
       "      <td>900002.000000</td>\n",
       "      <td>964985.000000</td>\n",
       "      <td>868526.000000</td>\n",
       "      <td>831830.000000</td>\n",
       "    </tr>\n",
       "    <tr>\n",
       "      <th>mean</th>\n",
       "      <td>50.496852</td>\n",
       "      <td>250.293361</td>\n",
       "      <td>12631.797594</td>\n",
       "      <td>2.999659</td>\n",
       "    </tr>\n",
       "    <tr>\n",
       "      <th>std</th>\n",
       "      <td>28.872398</td>\n",
       "      <td>142.954474</td>\n",
       "      <td>11001.895288</td>\n",
       "      <td>1.297582</td>\n",
       "    </tr>\n",
       "    <tr>\n",
       "      <th>min</th>\n",
       "      <td>1.000000</td>\n",
       "      <td>1.000000</td>\n",
       "      <td>1.010000</td>\n",
       "      <td>1.000000</td>\n",
       "    </tr>\n",
       "    <tr>\n",
       "      <th>25%</th>\n",
       "      <td>25.000000</td>\n",
       "      <td>127.540000</td>\n",
       "      <td>3522.490000</td>\n",
       "      <td>2.000000</td>\n",
       "    </tr>\n",
       "    <tr>\n",
       "      <th>50%</th>\n",
       "      <td>50.000000</td>\n",
       "      <td>250.160313</td>\n",
       "      <td>9542.085000</td>\n",
       "      <td>3.000000</td>\n",
       "    </tr>\n",
       "    <tr>\n",
       "      <th>75%</th>\n",
       "      <td>75.000000</td>\n",
       "      <td>373.200000</td>\n",
       "      <td>19250.255000</td>\n",
       "      <td>4.000000</td>\n",
       "    </tr>\n",
       "    <tr>\n",
       "      <th>max</th>\n",
       "      <td>100.000000</td>\n",
       "      <td>500.000000</td>\n",
       "      <td>49992.000000</td>\n",
       "      <td>5.000000</td>\n",
       "    </tr>\n",
       "  </tbody>\n",
       "</table>\n",
       "</div>"
      ],
      "text/plain": [
       "            Quantity  Price_per_Unit    Total_Sales  Feedback_Score\n",
       "count  900002.000000   964985.000000  868526.000000   831830.000000\n",
       "mean       50.496852      250.293361   12631.797594        2.999659\n",
       "std        28.872398      142.954474   11001.895288        1.297582\n",
       "min         1.000000        1.000000       1.010000        1.000000\n",
       "25%        25.000000      127.540000    3522.490000        2.000000\n",
       "50%        50.000000      250.160313    9542.085000        3.000000\n",
       "75%        75.000000      373.200000   19250.255000        4.000000\n",
       "max       100.000000      500.000000   49992.000000        5.000000"
      ]
     },
     "execution_count": 21,
     "metadata": {},
     "output_type": "execute_result"
    }
   ],
   "source": [
    "# Display summary statistics for numeric columns\n",
    "df.describe()"
   ]
  },
  {
   "cell_type": "code",
   "execution_count": 22,
   "id": "510c3f19",
   "metadata": {},
   "outputs": [
    {
     "name": "stdout",
     "output_type": "stream",
     "text": [
      "Percentage of missing values:\n",
      "Transaction_ID        0.0000\n",
      "Country               0.0000\n",
      "Region                0.0000\n",
      "Store_Type            3.9794\n",
      "Category              5.0274\n",
      "Item_ID               0.0000\n",
      "Quantity              9.9998\n",
      "Price_per_Unit        3.5015\n",
      "Total_Sales          13.1474\n",
      "Discount_Applied     33.3560\n",
      "Day                   0.0000\n",
      "Time_of_Purchase     10.0275\n",
      "Payment_Method       11.2283\n",
      "Customer_ID          19.9744\n",
      "Loyalty_Card_Used    33.3153\n",
      "Employee_ID           9.9857\n",
      "Feedback_Score       16.8170\n",
      "Return               33.3664\n",
      "Weather              20.0274\n",
      "Holiday              33.3565\n",
      "dtype: float64\n"
     ]
    }
   ],
   "source": [
    "# Calculate percentage of missing values for each column\n",
    "missing_percentage = df.isnull().sum() / len(df) * 100\n",
    "print(\"Percentage of missing values:\")\n",
    "print(missing_percentage)"
   ]
  },
  {
   "cell_type": "code",
   "execution_count": 23,
   "id": "12351058",
   "metadata": {},
   "outputs": [
    {
     "name": "stdout",
     "output_type": "stream",
     "text": [
      "Mode of Quantity: 4.0\n",
      "Median of Quantity: 50.0\n",
      "Mean of Quantity: 50.49685222921727\n",
      "Mode of Price_per_Unit: 250.16031268270277\n",
      "Median of Price_per_Unit: 250.16031268270277\n",
      "Mean of Price_per_Unit: 250.29336109845693\n"
     ]
    }
   ],
   "source": [
    "# Calculate mode, median, and mean for Quantity\n",
    "print(\"Mode of Quantity:\", df['Quantity'].mode()[0])\n",
    "print(\"Median of Quantity:\", df['Quantity'].median())\n",
    "print(\"Mean of Quantity:\", df['Quantity'].mean())\n",
    "\n",
    "# Calculate mode, median, and mean for Price_per_Unit\n",
    "print(\"Mode of Price_per_Unit:\", df['Price_per_Unit'].mode()[0])\n",
    "print(\"Median of Price_per_Unit:\", df['Price_per_Unit'].median())\n",
    "print(\"Mean of Price_per_Unit:\", df['Price_per_Unit'].mean())"
   ]
  },
  {
   "cell_type": "markdown",
   "id": "74b50184",
   "metadata": {},
   "source": [
    "# Categorical Variables Analysis"
   ]
  },
  {
   "cell_type": "code",
   "execution_count": 24,
   "id": "52d8e14f",
   "metadata": {},
   "outputs": [
    {
     "name": "stdout",
     "output_type": "stream",
     "text": [
      "Transactions by country:\n",
      "Country\n",
      "China           100536\n",
      "Australia       100379\n",
      "South Africa    100297\n",
      "UK              100116\n",
      "USA             100111\n",
      "Germany          99973\n",
      "India            99859\n",
      "Japan            99684\n",
      "Brazil           99585\n",
      "Canada           99460\n",
      "Name: count, dtype: int64\n"
     ]
    }
   ],
   "source": [
    "# Distribution of Country\n",
    "# Count transactions by country\n",
    "country_counts = df['Country'].value_counts()\n",
    "print(\"Transactions by country:\")\n",
    "print(country_counts)"
   ]
  },
  {
   "cell_type": "code",
   "execution_count": 26,
   "id": "5ffe88c0",
   "metadata": {},
   "outputs": [
    {
     "data": {
      "image/png": "[encoded data removed]",
      "text/plain": [
       "<Figure size 1000x500 with 1 Axes>"
      ]
     },
     "metadata": {},
     "output_type": "display_data"
    }
   ],
   "source": [
    "# Plot distribution of transactions by country\n",
    "import matplotlib.pyplot as plt\n",
    "country_counts.plot(kind='bar', title=\"Transactions by Country\", figsize=(10, 5))\n",
    "plt.xlabel(\"Country\")\n",
    "plt.ylabel(\"Number of Transactions\")\n",
    "plt.show()"
   ]
  },
  {
   "cell_type": "code",
   "execution_count": 27,
   "id": "973abfc7",
   "metadata": {},
   "outputs": [
    {
     "name": "stdout",
     "output_type": "stream",
     "text": [
      "Store type distribution:\n",
      "Store_Type\n",
      "Supermarket      240034\n",
      "Hypermarket      219857\n",
      "Grocery Store    200265\n",
      "Wholesale        199744\n",
      "None             100306\n",
      "Name: count, dtype: int64\n"
     ]
    }
   ],
   "source": [
    "# Count store types\n",
    "store_type_counts = df['Store_Type'].value_counts()\n",
    "print(\"Store type distribution:\")\n",
    "print(store_type_counts)"
   ]
  },
  {
   "cell_type": "code",
   "execution_count": 28,
   "id": "7612dc06",
   "metadata": {},
   "outputs": [
    {
     "data": {
      "image/png": "[encoded data removed]",
      "text/plain": [
       "<Figure size 800x400 with 1 Axes>"
      ]
     },
     "metadata": {},
     "output_type": "display_data"
    }
   ],
   "source": [
    "# Plot store type distribution\n",
    "store_type_counts.plot(kind='bar', title=\"Store Type Distribution\", figsize=(8, 4), color='skyblue')\n",
    "plt.xlabel(\"Store Type\")\n",
    "plt.ylabel(\"Count\")\n",
    "plt.show()"
   ]
  },
  {
   "cell_type": "markdown",
   "id": "d231e456",
   "metadata": {},
   "source": [
    "# Numerical Variables Analysis"
   ]
  },
  {
   "cell_type": "code",
   "execution_count": 29,
   "id": "394a3880",
   "metadata": {},
   "outputs": [
    {
     "data": {
      "image/png": "[encoded data removed]",
      "text/plain": [
       "<Figure size 800x500 with 1 Axes>"
      ]
     },
     "metadata": {},
     "output_type": "display_data"
    }
   ],
   "source": [
    "# Plot histogram of Quantity\n",
    "df['Quantity'].plot(kind='hist', bins=30, title=\"Quantity Distribution\",\n",
    "                    figsize=(8, 5))\n",
    "plt.xlabel(\"Quantity\")\n",
    "plt.show()\n"
   ]
  },
  {
   "cell_type": "markdown",
   "id": "9c1dd778",
   "metadata": {},
   "source": [
    "# Total Sales Analysis"
   ]
  },
  {
   "cell_type": "code",
   "execution_count": 30,
   "id": "0db1028e",
   "metadata": {},
   "outputs": [
    {
     "name": "stdout",
     "output_type": "stream",
     "text": [
      "Mean of Total Sales: 12631.797593845693\n",
      "Median of Total Sales: 9542.085\n"
     ]
    }
   ],
   "source": [
    "# Calculate mean and median for Total Sales\n",
    "print(\"Mean of Total Sales:\", df['Total_Sales'].mean())\n",
    "print(\"Median of Total Sales:\", df['Total_Sales'].median())"
   ]
  },
  {
   "cell_type": "code",
   "execution_count": 31,
   "id": "26cd6745",
   "metadata": {},
   "outputs": [
    {
     "data": {
      "image/png": "[encoded data removed]",
      "text/plain": [
       "<Figure size 800x200 with 1 Axes>"
      ]
     },
     "metadata": {},
     "output_type": "display_data"
    }
   ],
   "source": [
    "# Plot boxplot of Total Sales\n",
    "df['Total_Sales'].plot(kind='box', title=\"Total Sales Boxplot\", \n",
    "                       vert=False, figsize=(8, 2))\n",
    "plt.xlabel(\"Total Sales\")\n",
    "plt.show()"
   ]
  },
  {
   "cell_type": "markdown",
   "id": "2261bca0",
   "metadata": {},
   "source": [
    "# Relationships Between Variables"
   ]
  },
  {
   "cell_type": "code",
   "execution_count": 32,
   "id": "7f32f2c1",
   "metadata": {},
   "outputs": [
    {
     "name": "stdout",
     "output_type": "stream",
     "text": [
      "Total Sales by Category:\n",
      "Category\n",
      "Beverages      1.082478e+09\n",
      "Clothing       1.077223e+09\n",
      "Dairy          1.129708e+09\n",
      "Electronics    1.072048e+09\n",
      "Fruits         1.144350e+09\n",
      "Household      1.081643e+09\n",
      "Meat           1.078938e+09\n",
      "None           5.376548e+08\n",
      "Snacks         1.078651e+09\n",
      "Vegetables     1.146353e+09\n",
      "Name: Total_Sales, dtype: float64\n"
     ]
    }
   ],
   "source": [
    "# Calculate total sales by category\n",
    "sales_by_category = df.groupby('Category')['Total_Sales'].sum()\n",
    "print(\"Total Sales by Category:\")\n",
    "print(sales_by_category)"
   ]
  },
  {
   "cell_type": "code",
   "execution_count": 33,
   "id": "660d19b2",
   "metadata": {},
   "outputs": [
    {
     "data": {
      "image/png": "[encoded data removed]",
      "text/plain": [
       "<Figure size 1000x500 with 1 Axes>"
      ]
     },
     "metadata": {},
     "output_type": "display_data"
    }
   ],
   "source": [
    "# Plot total sales by category\n",
    "sales_by_category.plot(kind='bar', title=\"Total Sales by Category\", figsize=(10, 5), color='lightgreen')\n",
    "plt.xlabel(\"Category\")\n",
    "plt.ylabel(\"Total Sales\")\n",
    "plt.show()"
   ]
  },
  {
   "cell_type": "markdown",
   "id": "8ad37214",
   "metadata": {},
   "source": [
    "# Total Sales by Country"
   ]
  },
  {
   "cell_type": "code",
   "execution_count": 34,
   "id": "b6cf7266",
   "metadata": {},
   "outputs": [
    {
     "name": "stdout",
     "output_type": "stream",
     "text": [
      "Total Sales by Country:\n",
      "Country\n",
      "Australia       1.100620e+09\n",
      "Brazil          1.092926e+09\n",
      "Canada          1.094701e+09\n",
      "China           1.106253e+09\n",
      "Germany         1.096543e+09\n",
      "India           1.094453e+09\n",
      "Japan           1.092407e+09\n",
      "South Africa    1.098438e+09\n",
      "UK              1.094401e+09\n",
      "USA             1.100304e+09\n",
      "Name: Total_Sales, dtype: float64\n"
     ]
    }
   ],
   "source": [
    "# Calculate total sales by country\n",
    "sales_by_country = df.groupby('Country')['Total_Sales'].sum()\n",
    "print(\"Total Sales by Country:\")\n",
    "print(sales_by_country)"
   ]
  },
  {
   "cell_type": "code",
   "execution_count": 35,
   "id": "f9ca1562",
   "metadata": {},
   "outputs": [
    {
     "data": {
      "image/png": "[encoded data removed]",
      "text/plain": [
       "<Figure size 1000x500 with 1 Axes>"
      ]
     },
     "metadata": {},
     "output_type": "display_data"
    }
   ],
   "source": [
    "# Plot total sales by country\n",
    "sales_by_country.plot(kind='bar', title=\"Total Sales by Country\", figsize=(10, 5), color='orange')\n",
    "plt.xlabel(\"Country\")\n",
    "plt.ylabel(\"Total Sales\")\n",
    "plt.show()"
   ]
  },
  {
   "cell_type": "markdown",
   "id": "de699ca0",
   "metadata": {},
   "source": [
    "# Time-Based Analysis"
   ]
  },
  {
   "cell_type": "code",
   "execution_count": 36,
   "id": "ab0d96a1",
   "metadata": {},
   "outputs": [
    {
     "name": "stdout",
     "output_type": "stream",
     "text": [
      "Transactions by Day:\n",
      "Day\n",
      "Thursday     143415\n",
      "Friday       143320\n",
      "Saturday     143312\n",
      "Monday       143082\n",
      "Sunday       142525\n",
      "Wednesday    142226\n",
      "Tuesday      142120\n",
      "Name: count, dtype: int64\n"
     ]
    }
   ],
   "source": [
    "# Transactions by Day\n",
    "# Count transactions by day\n",
    "transactions_by_day = df['Day'].value_counts()\n",
    "print(\"Transactions by Day:\")\n",
    "print(transactions_by_day)"
   ]
  },
  {
   "cell_type": "code",
   "execution_count": 37,
   "id": "995e6813",
   "metadata": {},
   "outputs": [
    {
     "data": {
      "image/png": "[encoded data removed]",
      "text/plain": [
       "<Figure size 800x400 with 1 Axes>"
      ]
     },
     "metadata": {},
     "output_type": "display_data"
    }
   ],
   "source": [
    "# Plot transactions by day\n",
    "transactions_by_day.plot(kind='bar', title=\"Transactions by Day\", figsize=(8, 4), color='purple')\n",
    "plt.xlabel(\"Day\")\n",
    "plt.ylabel(\"Number of Transactions\")\n",
    "plt.show()"
   ]
  },
  {
   "cell_type": "markdown",
   "id": "652ca2d7",
   "metadata": {},
   "source": [
    "# Correlation Analysis"
   ]
  },
  {
   "cell_type": "code",
   "execution_count": 38,
   "id": "2295980c",
   "metadata": {},
   "outputs": [
    {
     "name": "stdout",
     "output_type": "stream",
     "text": [
      "Correlation Matrix:\n",
      "                Quantity  Price_per_Unit  Total_Sales\n",
      "Quantity        1.000000       -0.001408     0.655102\n",
      "Price_per_Unit -0.001408        1.000000     0.654890\n",
      "Total_Sales     0.655102        0.654890     1.000000\n"
     ]
    }
   ],
   "source": [
    "# Correlation Between Numerical Variables\n",
    "# Calculate correlation matrix\n",
    "correlation_matrix = df[['Quantity', 'Price_per_Unit', \n",
    "                         'Total_Sales']].corr()\n",
    "print(\"Correlation Matrix:\")\n",
    "print(correlation_matrix)"
   ]
  },
  {
   "cell_type": "markdown",
   "id": "18370255",
   "metadata": {},
   "source": [
    "# Key Insights"
   ]
  },
  {
   "cell_type": "code",
   "execution_count": 39,
   "id": "23408f78",
   "metadata": {},
   "outputs": [
    {
     "name": "stdout",
     "output_type": "stream",
     "text": [
      "Most transactions by country: China\n",
      "Highest total sales by category: Vegetables\n",
      "Country with highest total sales: China\n",
      "Day with most transactions: Thursday\n"
     ]
    }
   ],
   "source": [
    "# Print key insights\n",
    "print(\"Most transactions by country:\", country_counts.idxmax())\n",
    "print(\"Highest total sales by category:\", sales_by_category.idxmax())\n",
    "print(\"Country with highest total sales:\", sales_by_country.idxmax())\n",
    "print(\"Day with most transactions:\", transactions_by_day.idxmax())\n"
   ]
  },
  {
   "cell_type": "markdown",
   "id": "df4f882c",
   "metadata": {},
   "source": [
    "# Sales Performance Analysis"
   ]
  },
  {
   "cell_type": "code",
   "execution_count": 41,
   "id": "147b3d80",
   "metadata": {},
   "outputs": [
    {
     "name": "stdout",
     "output_type": "stream",
     "text": [
      "<class 'pandas.core.frame.DataFrame'>\n",
      "Index: 1000000 entries, 0 to 999999\n",
      "Data columns (total 20 columns):\n",
      " #   Column             Non-Null Count    Dtype  \n",
      "---  ------             --------------    -----  \n",
      " 0   Transaction_ID     1000000 non-null  object \n",
      " 1   Country            1000000 non-null  object \n",
      " 2   Region             1000000 non-null  object \n",
      " 3   Store_Type         960206 non-null   object \n",
      " 4   Category           949726 non-null   object \n",
      " 5   Item_ID            1000000 non-null  object \n",
      " 6   Quantity           900002 non-null   float64\n",
      " 7   Price_per_Unit     964985 non-null   float64\n",
      " 8   Total_Sales        868526 non-null   float64\n",
      " 9   Discount_Applied   666440 non-null   object \n",
      " 10  Day                1000000 non-null  object \n",
      " 11  Time_of_Purchase   899725 non-null   object \n",
      " 12  Payment_Method     887717 non-null   object \n",
      " 13  Customer_ID        800256 non-null   object \n",
      " 14  Loyalty_Card_Used  666847 non-null   object \n",
      " 15  Employee_ID        900143 non-null   object \n",
      " 16  Feedback_Score     831830 non-null   float64\n",
      " 17  Return             666336 non-null   object \n",
      " 18  Weather            799726 non-null   object \n",
      " 19  Holiday            666435 non-null   object \n",
      "dtypes: float64(4), object(16)\n",
      "memory usage: 160.2+ MB\n"
     ]
    }
   ],
   "source": [
    "df.info()"
   ]
  },
  {
   "cell_type": "code",
   "execution_count": 43,
   "id": "75c463f3",
   "metadata": {},
   "outputs": [
    {
     "data": {
      "text/html": [
       "<div>\n",
       "<style scoped>\n",
       "    .dataframe tbody tr th:only-of-type {\n",
       "        vertical-align: middle;\n",
       "    }\n",
       "\n",
       "    .dataframe tbody tr th {\n",
       "        vertical-align: top;\n",
       "    }\n",
       "\n",
       "    .dataframe thead th {\n",
       "        text-align: right;\n",
       "    }\n",
       "</style>\n",
       "<table border=\"1\" class=\"dataframe\">\n",
       "  <thead>\n",
       "    <tr style=\"text-align: right;\">\n",
       "      <th></th>\n",
       "      <th>Transaction_ID</th>\n",
       "      <th>Country</th>\n",
       "      <th>Region</th>\n",
       "      <th>Store_Type</th>\n",
       "      <th>Category</th>\n",
       "      <th>Item_ID</th>\n",
       "      <th>Quantity</th>\n",
       "      <th>Price_per_Unit</th>\n",
       "      <th>Total_Sales</th>\n",
       "      <th>Discount_Applied</th>\n",
       "      <th>Day</th>\n",
       "      <th>Time_of_Purchase</th>\n",
       "      <th>Payment_Method</th>\n",
       "      <th>Customer_ID</th>\n",
       "      <th>Loyalty_Card_Used</th>\n",
       "      <th>Employee_ID</th>\n",
       "      <th>Feedback_Score</th>\n",
       "      <th>Return</th>\n",
       "      <th>Weather</th>\n",
       "      <th>Holiday</th>\n",
       "    </tr>\n",
       "  </thead>\n",
       "  <tbody>\n",
       "    <tr>\n",
       "      <th>0</th>\n",
       "      <td>T2867825</td>\n",
       "      <td>UK</td>\n",
       "      <td>South</td>\n",
       "      <td>Supermarket</td>\n",
       "      <td>Fruits</td>\n",
       "      <td>I36836</td>\n",
       "      <td>43.0</td>\n",
       "      <td>344.61</td>\n",
       "      <td>14818.23</td>\n",
       "      <td>False</td>\n",
       "      <td>Friday</td>\n",
       "      <td>22:1</td>\n",
       "      <td>Cash</td>\n",
       "      <td>C298340</td>\n",
       "      <td>True</td>\n",
       "      <td>E2761</td>\n",
       "      <td>2.994533</td>\n",
       "      <td>NaN</td>\n",
       "      <td>Snowy</td>\n",
       "      <td>False</td>\n",
       "    </tr>\n",
       "    <tr>\n",
       "      <th>1</th>\n",
       "      <td>T1419610</td>\n",
       "      <td>USA</td>\n",
       "      <td>South</td>\n",
       "      <td>Wholesale</td>\n",
       "      <td>Beverages</td>\n",
       "      <td>I85457</td>\n",
       "      <td>76.0</td>\n",
       "      <td>414.14</td>\n",
       "      <td>31474.64</td>\n",
       "      <td>NaN</td>\n",
       "      <td>Thursday</td>\n",
       "      <td>2:39</td>\n",
       "      <td>Cash</td>\n",
       "      <td>C467140</td>\n",
       "      <td>False</td>\n",
       "      <td>E6782</td>\n",
       "      <td>4.000000</td>\n",
       "      <td>False</td>\n",
       "      <td>Sunny</td>\n",
       "      <td>NaN</td>\n",
       "    </tr>\n",
       "    <tr>\n",
       "      <th>2</th>\n",
       "      <td>T5614226</td>\n",
       "      <td>USA</td>\n",
       "      <td>Central</td>\n",
       "      <td>None</td>\n",
       "      <td>Beverages</td>\n",
       "      <td>I28818</td>\n",
       "      <td>53.0</td>\n",
       "      <td>157.36</td>\n",
       "      <td>8340.08</td>\n",
       "      <td>NaN</td>\n",
       "      <td>Sunday</td>\n",
       "      <td>1:2</td>\n",
       "      <td>Debit Card</td>\n",
       "      <td>C203743</td>\n",
       "      <td>False</td>\n",
       "      <td>E9469</td>\n",
       "      <td>NaN</td>\n",
       "      <td>False</td>\n",
       "      <td>NaN</td>\n",
       "      <td>True</td>\n",
       "    </tr>\n",
       "    <tr>\n",
       "      <th>3</th>\n",
       "      <td>T5108603</td>\n",
       "      <td>Canada</td>\n",
       "      <td>East</td>\n",
       "      <td>NaN</td>\n",
       "      <td>Vegetables</td>\n",
       "      <td>I98489</td>\n",
       "      <td>29.0</td>\n",
       "      <td>371.94</td>\n",
       "      <td>10786.26</td>\n",
       "      <td>True</td>\n",
       "      <td>Wednesday</td>\n",
       "      <td>18:38</td>\n",
       "      <td>NaN</td>\n",
       "      <td>C785538</td>\n",
       "      <td>False</td>\n",
       "      <td>E6376</td>\n",
       "      <td>3.000000</td>\n",
       "      <td>NaN</td>\n",
       "      <td>NaN</td>\n",
       "      <td>True</td>\n",
       "    </tr>\n",
       "    <tr>\n",
       "      <th>4</th>\n",
       "      <td>T4744854</td>\n",
       "      <td>Brazil</td>\n",
       "      <td>West</td>\n",
       "      <td>Grocery Store</td>\n",
       "      <td>Dairy</td>\n",
       "      <td>I22306</td>\n",
       "      <td>13.0</td>\n",
       "      <td>464.09</td>\n",
       "      <td>6033.17</td>\n",
       "      <td>False</td>\n",
       "      <td>Saturday</td>\n",
       "      <td>8:23</td>\n",
       "      <td>Mobile Payment</td>\n",
       "      <td>NaN</td>\n",
       "      <td>False</td>\n",
       "      <td>E8737</td>\n",
       "      <td>2.998902</td>\n",
       "      <td>False</td>\n",
       "      <td>Sunny</td>\n",
       "      <td>False</td>\n",
       "    </tr>\n",
       "  </tbody>\n",
       "</table>\n",
       "</div>"
      ],
      "text/plain": [
       "  Transaction_ID Country   Region     Store_Type    Category Item_ID  \\\n",
       "0       T2867825      UK    South    Supermarket      Fruits  I36836   \n",
       "1       T1419610     USA    South      Wholesale   Beverages  I85457   \n",
       "2       T5614226     USA  Central           None   Beverages  I28818   \n",
       "3       T5108603  Canada     East            NaN  Vegetables  I98489   \n",
       "4       T4744854  Brazil     West  Grocery Store       Dairy  I22306   \n",
       "\n",
       "   Quantity  Price_per_Unit  Total_Sales Discount_Applied        Day  \\\n",
       "0      43.0          344.61     14818.23            False     Friday   \n",
       "1      76.0          414.14     31474.64              NaN   Thursday   \n",
       "2      53.0          157.36      8340.08              NaN     Sunday   \n",
       "3      29.0          371.94     10786.26             True  Wednesday   \n",
       "4      13.0          464.09      6033.17            False   Saturday   \n",
       "\n",
       "  Time_of_Purchase  Payment_Method Customer_ID Loyalty_Card_Used Employee_ID  \\\n",
       "0             22:1            Cash     C298340              True       E2761   \n",
       "1             2:39            Cash     C467140             False       E6782   \n",
       "2              1:2      Debit Card     C203743             False       E9469   \n",
       "3            18:38             NaN     C785538             False       E6376   \n",
       "4             8:23  Mobile Payment         NaN             False       E8737   \n",
       "\n",
       "   Feedback_Score Return Weather Holiday  \n",
       "0        2.994533    NaN   Snowy   False  \n",
       "1        4.000000  False   Sunny     NaN  \n",
       "2             NaN  False     NaN    True  \n",
       "3        3.000000    NaN     NaN    True  \n",
       "4        2.998902  False   Sunny   False  "
      ]
     },
     "execution_count": 43,
     "metadata": {},
     "output_type": "execute_result"
    }
   ],
   "source": [
    "df.head()"
   ]
  },
  {
   "cell_type": "markdown",
   "id": "89b306a7",
   "metadata": {},
   "source": [
    "# Price Ranges of Products"
   ]
  },
  {
   "cell_type": "code",
   "execution_count": 45,
   "id": "a9c5dd63",
   "metadata": {},
   "outputs": [
    {
     "name": "stdout",
     "output_type": "stream",
     "text": [
      "Minimum Price: 1.0\n",
      "Maximum Price: 500.0\n",
      "Average Price: 250.29336109845693\n"
     ]
    }
   ],
   "source": [
    "# Calculate minimum, maximum, and average price per unit\n",
    "min_price = df['Price_per_Unit'].min()\n",
    "max_price = df['Price_per_Unit'].max()\n",
    "avg_price = df['Price_per_Unit'].mean()\n",
    "\n",
    "print(\"Minimum Price:\", min_price)\n",
    "print(\"Maximum Price:\", max_price)\n",
    "print(\"Average Price:\", avg_price)"
   ]
  },
  {
   "cell_type": "code",
   "execution_count": 46,
   "id": "bc222f2f",
   "metadata": {},
   "outputs": [
    {
     "data": {
      "image/png": "[encoded data removed]",
      "text/plain": [
       "<Figure size 800x500 with 1 Axes>"
      ]
     },
     "metadata": {},
     "output_type": "display_data"
    }
   ],
   "source": [
    "# Plot price range\n",
    "plt.figure(figsize=(8, 5))\n",
    "plt.boxplot(df['Price_per_Unit'].dropna())\n",
    "plt.title(\"Price Range of Products\")\n",
    "plt.ylabel(\"Price per Unit\")\n",
    "plt.show()"
   ]
  },
  {
   "cell_type": "code",
   "execution_count": 47,
   "id": "e7f7b37e",
   "metadata": {},
   "outputs": [
    {
     "data": {
      "text/html": [
       "<div>\n",
       "<style scoped>\n",
       "    .dataframe tbody tr th:only-of-type {\n",
       "        vertical-align: middle;\n",
       "    }\n",
       "\n",
       "    .dataframe tbody tr th {\n",
       "        vertical-align: top;\n",
       "    }\n",
       "\n",
       "    .dataframe thead th {\n",
       "        text-align: right;\n",
       "    }\n",
       "</style>\n",
       "<table border=\"1\" class=\"dataframe\">\n",
       "  <thead>\n",
       "    <tr style=\"text-align: right;\">\n",
       "      <th></th>\n",
       "      <th>Transaction_ID</th>\n",
       "      <th>Country</th>\n",
       "      <th>Region</th>\n",
       "      <th>Store_Type</th>\n",
       "      <th>Category</th>\n",
       "      <th>Item_ID</th>\n",
       "      <th>Quantity</th>\n",
       "      <th>Price_per_Unit</th>\n",
       "      <th>Total_Sales</th>\n",
       "      <th>Discount_Applied</th>\n",
       "      <th>Day</th>\n",
       "      <th>Time_of_Purchase</th>\n",
       "      <th>Payment_Method</th>\n",
       "      <th>Customer_ID</th>\n",
       "      <th>Loyalty_Card_Used</th>\n",
       "      <th>Employee_ID</th>\n",
       "      <th>Feedback_Score</th>\n",
       "      <th>Return</th>\n",
       "      <th>Weather</th>\n",
       "      <th>Holiday</th>\n",
       "    </tr>\n",
       "  </thead>\n",
       "  <tbody>\n",
       "    <tr>\n",
       "      <th>0</th>\n",
       "      <td>T2867825</td>\n",
       "      <td>UK</td>\n",
       "      <td>South</td>\n",
       "      <td>Supermarket</td>\n",
       "      <td>Fruits</td>\n",
       "      <td>I36836</td>\n",
       "      <td>43.0</td>\n",
       "      <td>344.61</td>\n",
       "      <td>14818.23</td>\n",
       "      <td>False</td>\n",
       "      <td>Friday</td>\n",
       "      <td>22:1</td>\n",
       "      <td>Cash</td>\n",
       "      <td>C298340</td>\n",
       "      <td>True</td>\n",
       "      <td>E2761</td>\n",
       "      <td>2.994533</td>\n",
       "      <td>NaN</td>\n",
       "      <td>Snowy</td>\n",
       "      <td>False</td>\n",
       "    </tr>\n",
       "    <tr>\n",
       "      <th>1</th>\n",
       "      <td>T1419610</td>\n",
       "      <td>USA</td>\n",
       "      <td>South</td>\n",
       "      <td>Wholesale</td>\n",
       "      <td>Beverages</td>\n",
       "      <td>I85457</td>\n",
       "      <td>76.0</td>\n",
       "      <td>414.14</td>\n",
       "      <td>31474.64</td>\n",
       "      <td>NaN</td>\n",
       "      <td>Thursday</td>\n",
       "      <td>2:39</td>\n",
       "      <td>Cash</td>\n",
       "      <td>C467140</td>\n",
       "      <td>False</td>\n",
       "      <td>E6782</td>\n",
       "      <td>4.000000</td>\n",
       "      <td>False</td>\n",
       "      <td>Sunny</td>\n",
       "      <td>NaN</td>\n",
       "    </tr>\n",
       "    <tr>\n",
       "      <th>2</th>\n",
       "      <td>T5614226</td>\n",
       "      <td>USA</td>\n",
       "      <td>Central</td>\n",
       "      <td>None</td>\n",
       "      <td>Beverages</td>\n",
       "      <td>I28818</td>\n",
       "      <td>53.0</td>\n",
       "      <td>157.36</td>\n",
       "      <td>8340.08</td>\n",
       "      <td>NaN</td>\n",
       "      <td>Sunday</td>\n",
       "      <td>1:2</td>\n",
       "      <td>Debit Card</td>\n",
       "      <td>C203743</td>\n",
       "      <td>False</td>\n",
       "      <td>E9469</td>\n",
       "      <td>NaN</td>\n",
       "      <td>False</td>\n",
       "      <td>NaN</td>\n",
       "      <td>True</td>\n",
       "    </tr>\n",
       "    <tr>\n",
       "      <th>3</th>\n",
       "      <td>T5108603</td>\n",
       "      <td>Canada</td>\n",
       "      <td>East</td>\n",
       "      <td>NaN</td>\n",
       "      <td>Vegetables</td>\n",
       "      <td>I98489</td>\n",
       "      <td>29.0</td>\n",
       "      <td>371.94</td>\n",
       "      <td>10786.26</td>\n",
       "      <td>True</td>\n",
       "      <td>Wednesday</td>\n",
       "      <td>18:38</td>\n",
       "      <td>NaN</td>\n",
       "      <td>C785538</td>\n",
       "      <td>False</td>\n",
       "      <td>E6376</td>\n",
       "      <td>3.000000</td>\n",
       "      <td>NaN</td>\n",
       "      <td>NaN</td>\n",
       "      <td>True</td>\n",
       "    </tr>\n",
       "    <tr>\n",
       "      <th>4</th>\n",
       "      <td>T4744854</td>\n",
       "      <td>Brazil</td>\n",
       "      <td>West</td>\n",
       "      <td>Grocery Store</td>\n",
       "      <td>Dairy</td>\n",
       "      <td>I22306</td>\n",
       "      <td>13.0</td>\n",
       "      <td>464.09</td>\n",
       "      <td>6033.17</td>\n",
       "      <td>False</td>\n",
       "      <td>Saturday</td>\n",
       "      <td>8:23</td>\n",
       "      <td>Mobile Payment</td>\n",
       "      <td>NaN</td>\n",
       "      <td>False</td>\n",
       "      <td>E8737</td>\n",
       "      <td>2.998902</td>\n",
       "      <td>False</td>\n",
       "      <td>Sunny</td>\n",
       "      <td>False</td>\n",
       "    </tr>\n",
       "  </tbody>\n",
       "</table>\n",
       "</div>"
      ],
      "text/plain": [
       "  Transaction_ID Country   Region     Store_Type    Category Item_ID  \\\n",
       "0       T2867825      UK    South    Supermarket      Fruits  I36836   \n",
       "1       T1419610     USA    South      Wholesale   Beverages  I85457   \n",
       "2       T5614226     USA  Central           None   Beverages  I28818   \n",
       "3       T5108603  Canada     East            NaN  Vegetables  I98489   \n",
       "4       T4744854  Brazil     West  Grocery Store       Dairy  I22306   \n",
       "\n",
       "   Quantity  Price_per_Unit  Total_Sales Discount_Applied        Day  \\\n",
       "0      43.0          344.61     14818.23            False     Friday   \n",
       "1      76.0          414.14     31474.64              NaN   Thursday   \n",
       "2      53.0          157.36      8340.08              NaN     Sunday   \n",
       "3      29.0          371.94     10786.26             True  Wednesday   \n",
       "4      13.0          464.09      6033.17            False   Saturday   \n",
       "\n",
       "  Time_of_Purchase  Payment_Method Customer_ID Loyalty_Card_Used Employee_ID  \\\n",
       "0             22:1            Cash     C298340              True       E2761   \n",
       "1             2:39            Cash     C467140             False       E6782   \n",
       "2              1:2      Debit Card     C203743             False       E9469   \n",
       "3            18:38             NaN     C785538             False       E6376   \n",
       "4             8:23  Mobile Payment         NaN             False       E8737   \n",
       "\n",
       "   Feedback_Score Return Weather Holiday  \n",
       "0        2.994533    NaN   Snowy   False  \n",
       "1        4.000000  False   Sunny     NaN  \n",
       "2             NaN  False     NaN    True  \n",
       "3        3.000000    NaN     NaN    True  \n",
       "4        2.998902  False   Sunny   False  "
      ]
     },
     "execution_count": 47,
     "metadata": {},
     "output_type": "execute_result"
    }
   ],
   "source": [
    "df.head()"
   ]
  },
  {
   "cell_type": "code",
   "execution_count": 48,
   "id": "d586d249",
   "metadata": {},
   "outputs": [
    {
     "name": "stdout",
     "output_type": "stream",
     "text": [
      "Number of transactions by customer type:\n",
      "Loyalty_Card_Used\n",
      "False    333824\n",
      "True     333023\n",
      "Name: count, dtype: int64\n"
     ]
    }
   ],
   "source": [
    "# Number of Transactions Per Customer Type\n",
    "# Count transactions by customer type\n",
    "transactions_by_customer_type = df['Loyalty_Card_Used'].value_counts()\n",
    "print(\"Number of transactions by customer type:\")\n",
    "print(transactions_by_customer_type)"
   ]
  },
  {
   "cell_type": "code",
   "execution_count": 49,
   "id": "01e3e5ae",
   "metadata": {},
   "outputs": [
    {
     "data": {
      "image/png": "[encoded data removed]",
      "text/plain": [
       "<Figure size 800x500 with 1 Axes>"
      ]
     },
     "metadata": {},
     "output_type": "display_data"
    }
   ],
   "source": [
    "# Plot transactions by customer type\n",
    "transactions_by_customer_type.plot(kind='bar', title=\"Transactions by Customer Type\", color='cyan', figsize=(8, 5))\n",
    "plt.xlabel(\"Customer Type\")\n",
    "plt.ylabel(\"Number of Transactions\")\n",
    "plt.show()"
   ]
  },
  {
   "cell_type": "code",
   "execution_count": null,
   "id": "b9d23cc2",
   "metadata": {},
   "outputs": [],
   "source": []
  }
 ],
 "metadata": {
  "kernelspec": {
   "display_name": "Python 3 (ipykernel)",
   "language": "python",
   "name": "python3"
  },
  "language_info": {
   "codemirror_mode": {
    "name": "ipython",
    "version": 3
   },
   "file_extension": ".py",
   "mimetype": "text/x-python",
   "name": "python",
   "nbconvert_exporter": "python",
   "pygments_lexer": "ipython3",
   "version": "3.12.7"
  }
 },
 "nbformat": 4,
 "nbformat_minor": 5
}
